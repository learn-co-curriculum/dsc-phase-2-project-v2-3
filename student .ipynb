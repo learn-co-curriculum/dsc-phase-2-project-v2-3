{
 "cells": [
  {
   "cell_type": "markdown",
   "metadata": {},
   "source": [
    "## Final Project Submission\n",
    "\n",
    "* Student name: \n",
    "        Beatrice Kirui\n",
    "        Cliff Shitote\n",
    "        Winfred Muthoni\n",
    "        Leornard Rotich\n",
    "        Brian Kabugih\n",
    "        \n",
    "* Student pace: Full time\n",
    "* Scheduled project review date/time: \n",
    "        21st April 2023\n",
    "* Instructor name: \n",
    "        Nikita Njoroge\n",
    "        Lucille Kaleha\n",
    "        Samuel karu\n",
    "* Blog post URL:\n",
    "       https:/best_project_ever.com"
   ]
  },
  {
   "cell_type": "markdown",
   "metadata": {},
   "source": [
    "# Introduction"
   ]
  },
  {
   "cell_type": "markdown",
   "metadata": {},
   "source": [
    "## Project Overview\n"
   ]
  },
  {
   "cell_type": "markdown",
   "metadata": {},
   "source": [
    "\n",
    "This project aims to leverage data science techniques to **predict the value of property** in North Western County."
   ]
  },
  {
   "cell_type": "markdown",
   "metadata": {},
   "source": [
    "## Business Problem"
   ]
  },
  {
   "cell_type": "markdown",
   "metadata": {},
   "source": [
    "Homeowners are looking for ways not only to evaluate the prices of their homes, but also to keep track of it as it changes overtime. Real estate agencies are also looking for methods to evaluate property that will yield fair results and customer satisfaction. With the help of data, we can leverage data science techniques to provide **a trusted estimate of property all across the the North Western County**."
   ]
  },
  {
   "cell_type": "markdown",
   "metadata": {},
   "source": [
    "## Data"
   ]
  },
  {
   "cell_type": "markdown",
   "metadata": {},
   "source": [
    "We'll be using the King County House Sales dataset.\n",
    "\n",
    "The dataset contains:\n",
    "1. Sale price\n",
    "2. Condition\n",
    "3. Grade\n",
    "4. Number of bedrooms\n",
    "5. Number of floors"
   ]
  },
  {
   "cell_type": "markdown",
   "metadata": {},
   "source": [
    "# Data Understanding"
   ]
  },
  {
   "cell_type": "markdown",
   "metadata": {},
   "source": [
    "Let us import libraries and explore the dataset"
   ]
  },
  {
   "cell_type": "markdown",
   "metadata": {},
   "source": [
    "### Importing Libraries"
   ]
  },
  {
   "cell_type": "code",
   "execution_count": 464,
   "metadata": {},
   "outputs": [],
   "source": [
    "import pandas as pd\n",
    "import numpy as np\n",
    "import matplotlib.pyplot as plt\n",
    "import seaborn as sns\n",
    "sns.set_style(\"whitegrid\")\n",
    "%matplotlib inline\n",
    "\n",
    "from scipy import stats\n",
    "import statsmodels.api as sm\n",
    "import statsmodels.formula.api as smf\n",
    "from statsmodels.formula.api import ols\n",
    "import statsmodels.stats.api as sms\n",
    "from scipy.stats import norm\n",
    "from sklearn.metrics import mean_absolute_error\n",
    "from sklearn.metrics import mean_squared_error\n",
    "from sklearn.linear_model import LinearRegression\n",
    "\n",
    "import warnings\n",
    "warnings.filterwarnings(action= 'ignore', category= UserWarning)\n",
    "import folium\n",
    "\n",
    "#code to display all the columns without truncation\n",
    "pd.set_option('display.max_columns', None)\n"
   ]
  },
  {
   "cell_type": "markdown",
   "metadata": {},
   "source": [
    "### Exploring the dataset"
   ]
  },
  {
   "cell_type": "code",
   "execution_count": 465,
   "metadata": {
    "scrolled": true
   },
   "outputs": [
    {
     "data": {
      "text/html": [
       "<div>\n",
       "<style scoped>\n",
       "    .dataframe tbody tr th:only-of-type {\n",
       "        vertical-align: middle;\n",
       "    }\n",
       "\n",
       "    .dataframe tbody tr th {\n",
       "        vertical-align: top;\n",
       "    }\n",
       "\n",
       "    .dataframe thead th {\n",
       "        text-align: right;\n",
       "    }\n",
       "</style>\n",
       "<table border=\"1\" class=\"dataframe\">\n",
       "  <thead>\n",
       "    <tr style=\"text-align: right;\">\n",
       "      <th></th>\n",
       "      <th>id</th>\n",
       "      <th>date</th>\n",
       "      <th>price</th>\n",
       "      <th>bedrooms</th>\n",
       "      <th>bathrooms</th>\n",
       "      <th>sqft_living</th>\n",
       "      <th>sqft_lot</th>\n",
       "      <th>floors</th>\n",
       "      <th>waterfront</th>\n",
       "      <th>view</th>\n",
       "      <th>condition</th>\n",
       "      <th>grade</th>\n",
       "      <th>sqft_above</th>\n",
       "      <th>sqft_basement</th>\n",
       "      <th>yr_built</th>\n",
       "      <th>yr_renovated</th>\n",
       "      <th>zipcode</th>\n",
       "      <th>lat</th>\n",
       "      <th>long</th>\n",
       "      <th>sqft_living15</th>\n",
       "      <th>sqft_lot15</th>\n",
       "    </tr>\n",
       "  </thead>\n",
       "  <tbody>\n",
       "    <tr>\n",
       "      <th>0</th>\n",
       "      <td>7129300520</td>\n",
       "      <td>10/13/2014</td>\n",
       "      <td>221900.0</td>\n",
       "      <td>3</td>\n",
       "      <td>1.00</td>\n",
       "      <td>1180</td>\n",
       "      <td>5650</td>\n",
       "      <td>1.0</td>\n",
       "      <td>NaN</td>\n",
       "      <td>NONE</td>\n",
       "      <td>Average</td>\n",
       "      <td>7 Average</td>\n",
       "      <td>1180</td>\n",
       "      <td>0.0</td>\n",
       "      <td>1955</td>\n",
       "      <td>0.0</td>\n",
       "      <td>98178</td>\n",
       "      <td>47.5112</td>\n",
       "      <td>-122.257</td>\n",
       "      <td>1340</td>\n",
       "      <td>5650</td>\n",
       "    </tr>\n",
       "    <tr>\n",
       "      <th>1</th>\n",
       "      <td>6414100192</td>\n",
       "      <td>12/9/2014</td>\n",
       "      <td>538000.0</td>\n",
       "      <td>3</td>\n",
       "      <td>2.25</td>\n",
       "      <td>2570</td>\n",
       "      <td>7242</td>\n",
       "      <td>2.0</td>\n",
       "      <td>NO</td>\n",
       "      <td>NONE</td>\n",
       "      <td>Average</td>\n",
       "      <td>7 Average</td>\n",
       "      <td>2170</td>\n",
       "      <td>400.0</td>\n",
       "      <td>1951</td>\n",
       "      <td>1991.0</td>\n",
       "      <td>98125</td>\n",
       "      <td>47.7210</td>\n",
       "      <td>-122.319</td>\n",
       "      <td>1690</td>\n",
       "      <td>7639</td>\n",
       "    </tr>\n",
       "    <tr>\n",
       "      <th>2</th>\n",
       "      <td>5631500400</td>\n",
       "      <td>2/25/2015</td>\n",
       "      <td>180000.0</td>\n",
       "      <td>2</td>\n",
       "      <td>1.00</td>\n",
       "      <td>770</td>\n",
       "      <td>10000</td>\n",
       "      <td>1.0</td>\n",
       "      <td>NO</td>\n",
       "      <td>NONE</td>\n",
       "      <td>Average</td>\n",
       "      <td>6 Low Average</td>\n",
       "      <td>770</td>\n",
       "      <td>0.0</td>\n",
       "      <td>1933</td>\n",
       "      <td>NaN</td>\n",
       "      <td>98028</td>\n",
       "      <td>47.7379</td>\n",
       "      <td>-122.233</td>\n",
       "      <td>2720</td>\n",
       "      <td>8062</td>\n",
       "    </tr>\n",
       "    <tr>\n",
       "      <th>3</th>\n",
       "      <td>2487200875</td>\n",
       "      <td>12/9/2014</td>\n",
       "      <td>604000.0</td>\n",
       "      <td>4</td>\n",
       "      <td>3.00</td>\n",
       "      <td>1960</td>\n",
       "      <td>5000</td>\n",
       "      <td>1.0</td>\n",
       "      <td>NO</td>\n",
       "      <td>NONE</td>\n",
       "      <td>Very Good</td>\n",
       "      <td>7 Average</td>\n",
       "      <td>1050</td>\n",
       "      <td>910.0</td>\n",
       "      <td>1965</td>\n",
       "      <td>0.0</td>\n",
       "      <td>98136</td>\n",
       "      <td>47.5208</td>\n",
       "      <td>-122.393</td>\n",
       "      <td>1360</td>\n",
       "      <td>5000</td>\n",
       "    </tr>\n",
       "    <tr>\n",
       "      <th>4</th>\n",
       "      <td>1954400510</td>\n",
       "      <td>2/18/2015</td>\n",
       "      <td>510000.0</td>\n",
       "      <td>3</td>\n",
       "      <td>2.00</td>\n",
       "      <td>1680</td>\n",
       "      <td>8080</td>\n",
       "      <td>1.0</td>\n",
       "      <td>NO</td>\n",
       "      <td>NONE</td>\n",
       "      <td>Average</td>\n",
       "      <td>8 Good</td>\n",
       "      <td>1680</td>\n",
       "      <td>0.0</td>\n",
       "      <td>1987</td>\n",
       "      <td>0.0</td>\n",
       "      <td>98074</td>\n",
       "      <td>47.6168</td>\n",
       "      <td>-122.045</td>\n",
       "      <td>1800</td>\n",
       "      <td>7503</td>\n",
       "    </tr>\n",
       "  </tbody>\n",
       "</table>\n",
       "</div>"
      ],
      "text/plain": [
       "           id        date     price  bedrooms  bathrooms  sqft_living  \\\n",
       "0  7129300520  10/13/2014  221900.0         3       1.00         1180   \n",
       "1  6414100192   12/9/2014  538000.0         3       2.25         2570   \n",
       "2  5631500400   2/25/2015  180000.0         2       1.00          770   \n",
       "3  2487200875   12/9/2014  604000.0         4       3.00         1960   \n",
       "4  1954400510   2/18/2015  510000.0         3       2.00         1680   \n",
       "\n",
       "   sqft_lot  floors waterfront  view  condition          grade  sqft_above  \\\n",
       "0      5650     1.0        NaN  NONE    Average      7 Average        1180   \n",
       "1      7242     2.0         NO  NONE    Average      7 Average        2170   \n",
       "2     10000     1.0         NO  NONE    Average  6 Low Average         770   \n",
       "3      5000     1.0         NO  NONE  Very Good      7 Average        1050   \n",
       "4      8080     1.0         NO  NONE    Average         8 Good        1680   \n",
       "\n",
       "  sqft_basement  yr_built  yr_renovated  zipcode      lat     long  \\\n",
       "0           0.0      1955           0.0    98178  47.5112 -122.257   \n",
       "1         400.0      1951        1991.0    98125  47.7210 -122.319   \n",
       "2           0.0      1933           NaN    98028  47.7379 -122.233   \n",
       "3         910.0      1965           0.0    98136  47.5208 -122.393   \n",
       "4           0.0      1987           0.0    98074  47.6168 -122.045   \n",
       "\n",
       "   sqft_living15  sqft_lot15  \n",
       "0           1340        5650  \n",
       "1           1690        7639  \n",
       "2           2720        8062  \n",
       "3           1360        5000  \n",
       "4           1800        7503  "
      ]
     },
     "execution_count": 465,
     "metadata": {},
     "output_type": "execute_result"
    }
   ],
   "source": [
    "df = pd.read_csv(\"kc_house_data.csv\")\n",
    "\n",
    "#Display the first few rows in the dataframe\n",
    "df.head()"
   ]
  },
  {
   "cell_type": "code",
   "execution_count": 466,
   "metadata": {
    "scrolled": true
   },
   "outputs": [
    {
     "data": {
      "text/html": [
       "<div>\n",
       "<style scoped>\n",
       "    .dataframe tbody tr th:only-of-type {\n",
       "        vertical-align: middle;\n",
       "    }\n",
       "\n",
       "    .dataframe tbody tr th {\n",
       "        vertical-align: top;\n",
       "    }\n",
       "\n",
       "    .dataframe thead th {\n",
       "        text-align: right;\n",
       "    }\n",
       "</style>\n",
       "<table border=\"1\" class=\"dataframe\">\n",
       "  <thead>\n",
       "    <tr style=\"text-align: right;\">\n",
       "      <th></th>\n",
       "      <th>id</th>\n",
       "      <th>date</th>\n",
       "      <th>price</th>\n",
       "      <th>bedrooms</th>\n",
       "      <th>bathrooms</th>\n",
       "      <th>sqft_living</th>\n",
       "      <th>sqft_lot</th>\n",
       "      <th>floors</th>\n",
       "      <th>waterfront</th>\n",
       "      <th>view</th>\n",
       "      <th>condition</th>\n",
       "      <th>grade</th>\n",
       "      <th>sqft_above</th>\n",
       "      <th>sqft_basement</th>\n",
       "      <th>yr_built</th>\n",
       "      <th>yr_renovated</th>\n",
       "      <th>zipcode</th>\n",
       "      <th>lat</th>\n",
       "      <th>long</th>\n",
       "      <th>sqft_living15</th>\n",
       "      <th>sqft_lot15</th>\n",
       "    </tr>\n",
       "  </thead>\n",
       "  <tbody>\n",
       "    <tr>\n",
       "      <th>21592</th>\n",
       "      <td>263000018</td>\n",
       "      <td>5/21/2014</td>\n",
       "      <td>360000.0</td>\n",
       "      <td>3</td>\n",
       "      <td>2.50</td>\n",
       "      <td>1530</td>\n",
       "      <td>1131</td>\n",
       "      <td>3.0</td>\n",
       "      <td>NO</td>\n",
       "      <td>NONE</td>\n",
       "      <td>Average</td>\n",
       "      <td>8 Good</td>\n",
       "      <td>1530</td>\n",
       "      <td>0.0</td>\n",
       "      <td>2009</td>\n",
       "      <td>0.0</td>\n",
       "      <td>98103</td>\n",
       "      <td>47.6993</td>\n",
       "      <td>-122.346</td>\n",
       "      <td>1530</td>\n",
       "      <td>1509</td>\n",
       "    </tr>\n",
       "    <tr>\n",
       "      <th>21593</th>\n",
       "      <td>6600060120</td>\n",
       "      <td>2/23/2015</td>\n",
       "      <td>400000.0</td>\n",
       "      <td>4</td>\n",
       "      <td>2.50</td>\n",
       "      <td>2310</td>\n",
       "      <td>5813</td>\n",
       "      <td>2.0</td>\n",
       "      <td>NO</td>\n",
       "      <td>NONE</td>\n",
       "      <td>Average</td>\n",
       "      <td>8 Good</td>\n",
       "      <td>2310</td>\n",
       "      <td>0.0</td>\n",
       "      <td>2014</td>\n",
       "      <td>0.0</td>\n",
       "      <td>98146</td>\n",
       "      <td>47.5107</td>\n",
       "      <td>-122.362</td>\n",
       "      <td>1830</td>\n",
       "      <td>7200</td>\n",
       "    </tr>\n",
       "    <tr>\n",
       "      <th>21594</th>\n",
       "      <td>1523300141</td>\n",
       "      <td>6/23/2014</td>\n",
       "      <td>402101.0</td>\n",
       "      <td>2</td>\n",
       "      <td>0.75</td>\n",
       "      <td>1020</td>\n",
       "      <td>1350</td>\n",
       "      <td>2.0</td>\n",
       "      <td>NO</td>\n",
       "      <td>NONE</td>\n",
       "      <td>Average</td>\n",
       "      <td>7 Average</td>\n",
       "      <td>1020</td>\n",
       "      <td>0.0</td>\n",
       "      <td>2009</td>\n",
       "      <td>0.0</td>\n",
       "      <td>98144</td>\n",
       "      <td>47.5944</td>\n",
       "      <td>-122.299</td>\n",
       "      <td>1020</td>\n",
       "      <td>2007</td>\n",
       "    </tr>\n",
       "    <tr>\n",
       "      <th>21595</th>\n",
       "      <td>291310100</td>\n",
       "      <td>1/16/2015</td>\n",
       "      <td>400000.0</td>\n",
       "      <td>3</td>\n",
       "      <td>2.50</td>\n",
       "      <td>1600</td>\n",
       "      <td>2388</td>\n",
       "      <td>2.0</td>\n",
       "      <td>NaN</td>\n",
       "      <td>NONE</td>\n",
       "      <td>Average</td>\n",
       "      <td>8 Good</td>\n",
       "      <td>1600</td>\n",
       "      <td>0.0</td>\n",
       "      <td>2004</td>\n",
       "      <td>0.0</td>\n",
       "      <td>98027</td>\n",
       "      <td>47.5345</td>\n",
       "      <td>-122.069</td>\n",
       "      <td>1410</td>\n",
       "      <td>1287</td>\n",
       "    </tr>\n",
       "    <tr>\n",
       "      <th>21596</th>\n",
       "      <td>1523300157</td>\n",
       "      <td>10/15/2014</td>\n",
       "      <td>325000.0</td>\n",
       "      <td>2</td>\n",
       "      <td>0.75</td>\n",
       "      <td>1020</td>\n",
       "      <td>1076</td>\n",
       "      <td>2.0</td>\n",
       "      <td>NO</td>\n",
       "      <td>NONE</td>\n",
       "      <td>Average</td>\n",
       "      <td>7 Average</td>\n",
       "      <td>1020</td>\n",
       "      <td>0.0</td>\n",
       "      <td>2008</td>\n",
       "      <td>0.0</td>\n",
       "      <td>98144</td>\n",
       "      <td>47.5941</td>\n",
       "      <td>-122.299</td>\n",
       "      <td>1020</td>\n",
       "      <td>1357</td>\n",
       "    </tr>\n",
       "  </tbody>\n",
       "</table>\n",
       "</div>"
      ],
      "text/plain": [
       "               id        date     price  bedrooms  bathrooms  sqft_living  \\\n",
       "21592   263000018   5/21/2014  360000.0         3       2.50         1530   \n",
       "21593  6600060120   2/23/2015  400000.0         4       2.50         2310   \n",
       "21594  1523300141   6/23/2014  402101.0         2       0.75         1020   \n",
       "21595   291310100   1/16/2015  400000.0         3       2.50         1600   \n",
       "21596  1523300157  10/15/2014  325000.0         2       0.75         1020   \n",
       "\n",
       "       sqft_lot  floors waterfront  view condition      grade  sqft_above  \\\n",
       "21592      1131     3.0         NO  NONE   Average     8 Good        1530   \n",
       "21593      5813     2.0         NO  NONE   Average     8 Good        2310   \n",
       "21594      1350     2.0         NO  NONE   Average  7 Average        1020   \n",
       "21595      2388     2.0        NaN  NONE   Average     8 Good        1600   \n",
       "21596      1076     2.0         NO  NONE   Average  7 Average        1020   \n",
       "\n",
       "      sqft_basement  yr_built  yr_renovated  zipcode      lat     long  \\\n",
       "21592           0.0      2009           0.0    98103  47.6993 -122.346   \n",
       "21593           0.0      2014           0.0    98146  47.5107 -122.362   \n",
       "21594           0.0      2009           0.0    98144  47.5944 -122.299   \n",
       "21595           0.0      2004           0.0    98027  47.5345 -122.069   \n",
       "21596           0.0      2008           0.0    98144  47.5941 -122.299   \n",
       "\n",
       "       sqft_living15  sqft_lot15  \n",
       "21592           1530        1509  \n",
       "21593           1830        7200  \n",
       "21594           1020        2007  \n",
       "21595           1410        1287  \n",
       "21596           1020        1357  "
      ]
     },
     "execution_count": 466,
     "metadata": {},
     "output_type": "execute_result"
    }
   ],
   "source": [
    "#Display the last few rows in the dataframe\n",
    "df.tail()"
   ]
  },
  {
   "cell_type": "code",
   "execution_count": 467,
   "metadata": {},
   "outputs": [
    {
     "data": {
      "text/plain": [
       "(21597, 21)"
      ]
     },
     "execution_count": 467,
     "metadata": {},
     "output_type": "execute_result"
    }
   ],
   "source": [
    "#Display of the number of rows and columns in the dataframe\n",
    "df.shape"
   ]
  },
  {
   "cell_type": "code",
   "execution_count": 468,
   "metadata": {},
   "outputs": [
    {
     "name": "stdout",
     "output_type": "stream",
     "text": [
      "<class 'pandas.core.frame.DataFrame'>\n",
      "RangeIndex: 21597 entries, 0 to 21596\n",
      "Data columns (total 21 columns):\n",
      " #   Column         Non-Null Count  Dtype  \n",
      "---  ------         --------------  -----  \n",
      " 0   id             21597 non-null  int64  \n",
      " 1   date           21597 non-null  object \n",
      " 2   price          21597 non-null  float64\n",
      " 3   bedrooms       21597 non-null  int64  \n",
      " 4   bathrooms      21597 non-null  float64\n",
      " 5   sqft_living    21597 non-null  int64  \n",
      " 6   sqft_lot       21597 non-null  int64  \n",
      " 7   floors         21597 non-null  float64\n",
      " 8   waterfront     19221 non-null  object \n",
      " 9   view           21534 non-null  object \n",
      " 10  condition      21597 non-null  object \n",
      " 11  grade          21597 non-null  object \n",
      " 12  sqft_above     21597 non-null  int64  \n",
      " 13  sqft_basement  21597 non-null  object \n",
      " 14  yr_built       21597 non-null  int64  \n",
      " 15  yr_renovated   17755 non-null  float64\n",
      " 16  zipcode        21597 non-null  int64  \n",
      " 17  lat            21597 non-null  float64\n",
      " 18  long           21597 non-null  float64\n",
      " 19  sqft_living15  21597 non-null  int64  \n",
      " 20  sqft_lot15     21597 non-null  int64  \n",
      "dtypes: float64(6), int64(9), object(6)\n",
      "memory usage: 3.5+ MB\n"
     ]
    }
   ],
   "source": [
    "#Summary of the dataframe\n",
    "df.info()"
   ]
  },
  {
   "cell_type": "markdown",
   "metadata": {},
   "source": [
    "# Checking the distribution of variables in the dataset"
   ]
  },
  {
   "cell_type": "code",
   "execution_count": 469,
   "metadata": {},
   "outputs": [
    {
     "data": {
      "image/png": "[encoded data removed]",
      "text/plain": [
       "<Figure size 1440x1440 with 16 Axes>"
      ]
     },
     "metadata": {
      "needs_background": "light"
     },
     "output_type": "display_data"
    }
   ],
   "source": [
    "#plotting histograms\n",
    "df.hist(figsize=(20,20));"
   ]
  },
  {
   "cell_type": "markdown",
   "metadata": {},
   "source": [
    "Most of the variables do not show normal distribution. As a result, some assumptions of regression analysis may not be met. Hence, we will handle these issues as they arise."
   ]
  },
  {
   "cell_type": "code",
   "execution_count": 470,
   "metadata": {
    "scrolled": true
   },
   "outputs": [
    {
     "data": {
      "text/html": [
       "<div>\n",
       "<style scoped>\n",
       "    .dataframe tbody tr th:only-of-type {\n",
       "        vertical-align: middle;\n",
       "    }\n",
       "\n",
       "    .dataframe tbody tr th {\n",
       "        vertical-align: top;\n",
       "    }\n",
       "\n",
       "    .dataframe thead th {\n",
       "        text-align: right;\n",
       "    }\n",
       "</style>\n",
       "<table border=\"1\" class=\"dataframe\">\n",
       "  <thead>\n",
       "    <tr style=\"text-align: right;\">\n",
       "      <th></th>\n",
       "      <th>id</th>\n",
       "      <th>price</th>\n",
       "      <th>bedrooms</th>\n",
       "      <th>bathrooms</th>\n",
       "      <th>sqft_living</th>\n",
       "      <th>sqft_lot</th>\n",
       "      <th>floors</th>\n",
       "      <th>sqft_above</th>\n",
       "      <th>yr_built</th>\n",
       "      <th>yr_renovated</th>\n",
       "      <th>zipcode</th>\n",
       "      <th>lat</th>\n",
       "      <th>long</th>\n",
       "      <th>sqft_living15</th>\n",
       "      <th>sqft_lot15</th>\n",
       "    </tr>\n",
       "  </thead>\n",
       "  <tbody>\n",
       "    <tr>\n",
       "      <th>count</th>\n",
       "      <td>2.159700e+04</td>\n",
       "      <td>2.159700e+04</td>\n",
       "      <td>21597.000000</td>\n",
       "      <td>21597.000000</td>\n",
       "      <td>21597.000000</td>\n",
       "      <td>2.159700e+04</td>\n",
       "      <td>21597.000000</td>\n",
       "      <td>21597.000000</td>\n",
       "      <td>21597.000000</td>\n",
       "      <td>17755.000000</td>\n",
       "      <td>21597.000000</td>\n",
       "      <td>21597.000000</td>\n",
       "      <td>21597.000000</td>\n",
       "      <td>21597.000000</td>\n",
       "      <td>21597.000000</td>\n",
       "    </tr>\n",
       "    <tr>\n",
       "      <th>mean</th>\n",
       "      <td>4.580474e+09</td>\n",
       "      <td>5.402966e+05</td>\n",
       "      <td>3.373200</td>\n",
       "      <td>2.115826</td>\n",
       "      <td>2080.321850</td>\n",
       "      <td>1.509941e+04</td>\n",
       "      <td>1.494096</td>\n",
       "      <td>1788.596842</td>\n",
       "      <td>1970.999676</td>\n",
       "      <td>83.636778</td>\n",
       "      <td>98077.951845</td>\n",
       "      <td>47.560093</td>\n",
       "      <td>-122.213982</td>\n",
       "      <td>1986.620318</td>\n",
       "      <td>12758.283512</td>\n",
       "    </tr>\n",
       "    <tr>\n",
       "      <th>std</th>\n",
       "      <td>2.876736e+09</td>\n",
       "      <td>3.673681e+05</td>\n",
       "      <td>0.926299</td>\n",
       "      <td>0.768984</td>\n",
       "      <td>918.106125</td>\n",
       "      <td>4.141264e+04</td>\n",
       "      <td>0.539683</td>\n",
       "      <td>827.759761</td>\n",
       "      <td>29.375234</td>\n",
       "      <td>399.946414</td>\n",
       "      <td>53.513072</td>\n",
       "      <td>0.138552</td>\n",
       "      <td>0.140724</td>\n",
       "      <td>685.230472</td>\n",
       "      <td>27274.441950</td>\n",
       "    </tr>\n",
       "    <tr>\n",
       "      <th>min</th>\n",
       "      <td>1.000102e+06</td>\n",
       "      <td>7.800000e+04</td>\n",
       "      <td>1.000000</td>\n",
       "      <td>0.500000</td>\n",
       "      <td>370.000000</td>\n",
       "      <td>5.200000e+02</td>\n",
       "      <td>1.000000</td>\n",
       "      <td>370.000000</td>\n",
       "      <td>1900.000000</td>\n",
       "      <td>0.000000</td>\n",
       "      <td>98001.000000</td>\n",
       "      <td>47.155900</td>\n",
       "      <td>-122.519000</td>\n",
       "      <td>399.000000</td>\n",
       "      <td>651.000000</td>\n",
       "    </tr>\n",
       "    <tr>\n",
       "      <th>25%</th>\n",
       "      <td>2.123049e+09</td>\n",
       "      <td>3.220000e+05</td>\n",
       "      <td>3.000000</td>\n",
       "      <td>1.750000</td>\n",
       "      <td>1430.000000</td>\n",
       "      <td>5.040000e+03</td>\n",
       "      <td>1.000000</td>\n",
       "      <td>1190.000000</td>\n",
       "      <td>1951.000000</td>\n",
       "      <td>0.000000</td>\n",
       "      <td>98033.000000</td>\n",
       "      <td>47.471100</td>\n",
       "      <td>-122.328000</td>\n",
       "      <td>1490.000000</td>\n",
       "      <td>5100.000000</td>\n",
       "    </tr>\n",
       "    <tr>\n",
       "      <th>50%</th>\n",
       "      <td>3.904930e+09</td>\n",
       "      <td>4.500000e+05</td>\n",
       "      <td>3.000000</td>\n",
       "      <td>2.250000</td>\n",
       "      <td>1910.000000</td>\n",
       "      <td>7.618000e+03</td>\n",
       "      <td>1.500000</td>\n",
       "      <td>1560.000000</td>\n",
       "      <td>1975.000000</td>\n",
       "      <td>0.000000</td>\n",
       "      <td>98065.000000</td>\n",
       "      <td>47.571800</td>\n",
       "      <td>-122.231000</td>\n",
       "      <td>1840.000000</td>\n",
       "      <td>7620.000000</td>\n",
       "    </tr>\n",
       "    <tr>\n",
       "      <th>75%</th>\n",
       "      <td>7.308900e+09</td>\n",
       "      <td>6.450000e+05</td>\n",
       "      <td>4.000000</td>\n",
       "      <td>2.500000</td>\n",
       "      <td>2550.000000</td>\n",
       "      <td>1.068500e+04</td>\n",
       "      <td>2.000000</td>\n",
       "      <td>2210.000000</td>\n",
       "      <td>1997.000000</td>\n",
       "      <td>0.000000</td>\n",
       "      <td>98118.000000</td>\n",
       "      <td>47.678000</td>\n",
       "      <td>-122.125000</td>\n",
       "      <td>2360.000000</td>\n",
       "      <td>10083.000000</td>\n",
       "    </tr>\n",
       "    <tr>\n",
       "      <th>max</th>\n",
       "      <td>9.900000e+09</td>\n",
       "      <td>7.700000e+06</td>\n",
       "      <td>33.000000</td>\n",
       "      <td>8.000000</td>\n",
       "      <td>13540.000000</td>\n",
       "      <td>1.651359e+06</td>\n",
       "      <td>3.500000</td>\n",
       "      <td>9410.000000</td>\n",
       "      <td>2015.000000</td>\n",
       "      <td>2015.000000</td>\n",
       "      <td>98199.000000</td>\n",
       "      <td>47.777600</td>\n",
       "      <td>-121.315000</td>\n",
       "      <td>6210.000000</td>\n",
       "      <td>871200.000000</td>\n",
       "    </tr>\n",
       "  </tbody>\n",
       "</table>\n",
       "</div>"
      ],
      "text/plain": [
       "                 id         price      bedrooms     bathrooms   sqft_living  \\\n",
       "count  2.159700e+04  2.159700e+04  21597.000000  21597.000000  21597.000000   \n",
       "mean   4.580474e+09  5.402966e+05      3.373200      2.115826   2080.321850   \n",
       "std    2.876736e+09  3.673681e+05      0.926299      0.768984    918.106125   \n",
       "min    1.000102e+06  7.800000e+04      1.000000      0.500000    370.000000   \n",
       "25%    2.123049e+09  3.220000e+05      3.000000      1.750000   1430.000000   \n",
       "50%    3.904930e+09  4.500000e+05      3.000000      2.250000   1910.000000   \n",
       "75%    7.308900e+09  6.450000e+05      4.000000      2.500000   2550.000000   \n",
       "max    9.900000e+09  7.700000e+06     33.000000      8.000000  13540.000000   \n",
       "\n",
       "           sqft_lot        floors    sqft_above      yr_built  yr_renovated  \\\n",
       "count  2.159700e+04  21597.000000  21597.000000  21597.000000  17755.000000   \n",
       "mean   1.509941e+04      1.494096   1788.596842   1970.999676     83.636778   \n",
       "std    4.141264e+04      0.539683    827.759761     29.375234    399.946414   \n",
       "min    5.200000e+02      1.000000    370.000000   1900.000000      0.000000   \n",
       "25%    5.040000e+03      1.000000   1190.000000   1951.000000      0.000000   \n",
       "50%    7.618000e+03      1.500000   1560.000000   1975.000000      0.000000   \n",
       "75%    1.068500e+04      2.000000   2210.000000   1997.000000      0.000000   \n",
       "max    1.651359e+06      3.500000   9410.000000   2015.000000   2015.000000   \n",
       "\n",
       "            zipcode           lat          long  sqft_living15     sqft_lot15  \n",
       "count  21597.000000  21597.000000  21597.000000   21597.000000   21597.000000  \n",
       "mean   98077.951845     47.560093   -122.213982    1986.620318   12758.283512  \n",
       "std       53.513072      0.138552      0.140724     685.230472   27274.441950  \n",
       "min    98001.000000     47.155900   -122.519000     399.000000     651.000000  \n",
       "25%    98033.000000     47.471100   -122.328000    1490.000000    5100.000000  \n",
       "50%    98065.000000     47.571800   -122.231000    1840.000000    7620.000000  \n",
       "75%    98118.000000     47.678000   -122.125000    2360.000000   10083.000000  \n",
       "max    98199.000000     47.777600   -121.315000    6210.000000  871200.000000  "
      ]
     },
     "execution_count": 470,
     "metadata": {},
     "output_type": "execute_result"
    }
   ],
   "source": [
    "#summary statistics of the numerical columns in a dataframe\n",
    "df.describe()"
   ]
  },
  {
   "cell_type": "markdown",
   "metadata": {},
   "source": [
    "### What does each column in the Kings County Data Set represent?"
   ]
  },
  {
   "cell_type": "markdown",
   "metadata": {
    "scrolled": true
   },
   "source": [
    "\n",
    "\n",
    "    id - unique identifier for a house\n",
    "    date - date the house was sold\n",
    "    price - Sale price of the house (in dollars)\n",
    "    bedrooms - number of Bedrooms in a house\n",
    "    bathrooms - number of bathrooms in a house\n",
    "    sqft_living - square footage of the house\n",
    "    sqft_lot - square footage of the lot\n",
    "    floors - total floors (levels) in the house\n",
    "    waterfront - House which has a view to a waterfront\n",
    "    view - number of people who viewed the house\n",
    "    condition - How good the condition is ( Overall )\n",
    "    grade - overall grade given to the housing unit, based on King County grading system\n",
    "    sqft_above - square footage of house apart from basement\n",
    "    sqft_basement - square footage of the basement\n",
    "    yr_built - Year the house was built\n",
    "    yr_renovated - Year the house was renovated\n",
    "    zipcode - zip code in which the house is located\n",
    "    lat - Latitude coordinate\n",
    "    long - Longitude coordinate\n",
    "    sqft_living15 - The square footage of interior housing living space for the nearest 15 neighbors\n",
    "    sqft_lot15 - The square footage of the land lots of the nearest 15 neighbors\n",
    "\n"
   ]
  },
  {
   "cell_type": "markdown",
   "metadata": {},
   "source": [
    "# Data Cleaning"
   ]
  },
  {
   "cell_type": "markdown",
   "metadata": {},
   "source": [
    "## Renaming Columns"
   ]
  },
  {
   "cell_type": "code",
   "execution_count": 471,
   "metadata": {},
   "outputs": [],
   "source": [
    "#Renaming date column to date_sold for easy interpretation\n",
    "df.rename(columns={\n",
    "    \"date\": \"date_sold\"\n",
    "}, inplace=True)"
   ]
  },
  {
   "cell_type": "markdown",
   "metadata": {},
   "source": [
    "## Checking for Missing Values"
   ]
  },
  {
   "cell_type": "code",
   "execution_count": 472,
   "metadata": {},
   "outputs": [
    {
     "name": "stdout",
     "output_type": "stream",
     "text": [
      "The Data has missing values.\n"
     ]
    }
   ],
   "source": [
    "def identify_missing_values(data):\n",
    "    \"\"\"Identify is the data has missing values\"\"\"\n",
    "    # identify if data has missing values(data.isnull().any())\n",
    "    # empty dict to store missing values\n",
    "    missing = []\n",
    "    for i in data.isnull().any():\n",
    "        # add the bool values to empty list \n",
    "        missing.append(i)\n",
    "    # covert list to set (if data has missing value, the list should have true and false)\n",
    "    missing_set = set(missing)\n",
    "    if (len(missing_set) == 1):\n",
    "        out = print(\"The Data has no missing values\")\n",
    "    else:\n",
    "        out = print(\"The Data has missing values.\")\n",
    "\n",
    "    return out\n",
    "\n",
    "\n",
    "identify_missing_values(df)"
   ]
  },
  {
   "cell_type": "code",
   "execution_count": 473,
   "metadata": {
    "scrolled": false
   },
   "outputs": [
    {
     "data": {
      "text/html": [
       "<div>\n",
       "<style scoped>\n",
       "    .dataframe tbody tr th:only-of-type {\n",
       "        vertical-align: middle;\n",
       "    }\n",
       "\n",
       "    .dataframe tbody tr th {\n",
       "        vertical-align: top;\n",
       "    }\n",
       "\n",
       "    .dataframe thead th {\n",
       "        text-align: right;\n",
       "    }\n",
       "</style>\n",
       "<table border=\"1\" class=\"dataframe\">\n",
       "  <thead>\n",
       "    <tr style=\"text-align: right;\">\n",
       "      <th></th>\n",
       "      <th>Missing Values</th>\n",
       "      <th>Percentage(%)</th>\n",
       "    </tr>\n",
       "  </thead>\n",
       "  <tbody>\n",
       "    <tr>\n",
       "      <th>yr_renovated</th>\n",
       "      <td>3842</td>\n",
       "      <td>17.79</td>\n",
       "    </tr>\n",
       "    <tr>\n",
       "      <th>waterfront</th>\n",
       "      <td>2376</td>\n",
       "      <td>11.00</td>\n",
       "    </tr>\n",
       "    <tr>\n",
       "      <th>view</th>\n",
       "      <td>63</td>\n",
       "      <td>0.29</td>\n",
       "    </tr>\n",
       "  </tbody>\n",
       "</table>\n",
       "</div>"
      ],
      "text/plain": [
       "              Missing Values  Percentage(%)\n",
       "yr_renovated            3842          17.79\n",
       "waterfront              2376          11.00\n",
       "view                      63           0.29"
      ]
     },
     "execution_count": 473,
     "metadata": {},
     "output_type": "execute_result"
    }
   ],
   "source": [
    "#The following function returns all columns with missing values alongside the quantity and percentage\n",
    "\n",
    "def missing_values(data):\n",
    "    \"\"\"A simple function to identify data has missing values\"\"\"\n",
    "    # identify the total missing values per column\n",
    "    # sort in order \n",
    "    miss = data.isnull().sum().sort_values(ascending = False)\n",
    "\n",
    "    # calculate percentage of the missing values\n",
    "    percentage_miss = (round((data.isnull().sum() / len(data)*100),2)).sort_values(ascending = False)\n",
    "\n",
    "    # store in a dataframe \n",
    "    missing = pd.DataFrame({\"Missing Values\": miss, \"Percentage(%)\": percentage_miss})\n",
    "    # remove values that are missing \n",
    "    missing.drop(missing[missing[\"Percentage(%)\"] == 0].index, inplace = True)\n",
    "\n",
    "    return missing\n",
    "\n",
    "\n",
    "missing_data = check_missing_values(df)\n",
    "missing_data"
   ]
  },
  {
   "cell_type": "markdown",
   "metadata": {},
   "source": [
    "There are missing values in 3 columns. Since yr_renovated and waterfront have too many missing values, it would be best to drop them. However, since 'view' has few values, we dropped only the rows that were affected"
   ]
  },
  {
   "cell_type": "markdown",
   "metadata": {},
   "source": [
    "**Dropping \"yr_renovated\" column**"
   ]
  },
  {
   "cell_type": "code",
   "execution_count": 474,
   "metadata": {
    "scrolled": true
   },
   "outputs": [],
   "source": [
    "df = df.drop([\"yr_renovated\"], axis=1)"
   ]
  },
  {
   "cell_type": "markdown",
   "metadata": {},
   "source": [
    "**Dropping rows with missing values in \"view\" column**"
   ]
  },
  {
   "cell_type": "code",
   "execution_count": 475,
   "metadata": {},
   "outputs": [],
   "source": [
    "df.dropna(subset=[\"view\"], inplace=True)"
   ]
  },
  {
   "cell_type": "markdown",
   "metadata": {},
   "source": [
    "**Replacing missing values in \"waterfront\" column**"
   ]
  },
  {
   "cell_type": "code",
   "execution_count": 476,
   "metadata": {},
   "outputs": [
    {
     "data": {
      "text/plain": [
       "2370"
      ]
     },
     "execution_count": 476,
     "metadata": {},
     "output_type": "execute_result"
    }
   ],
   "source": [
    "#Checking the number of missing values in the waterfromt column\n",
    "df['waterfront'].isnull().sum()"
   ]
  },
  {
   "cell_type": "code",
   "execution_count": 477,
   "metadata": {
    "scrolled": true
   },
   "outputs": [
    {
     "data": {
      "text/plain": [
       "NO     0.992434\n",
       "YES    0.007566\n",
       "Name: waterfront, dtype: float64"
      ]
     },
     "execution_count": 477,
     "metadata": {},
     "output_type": "execute_result"
    }
   ],
   "source": [
    "#Count of the unique values in the waterfront column\n",
    "df.waterfront.value_counts(normalize=True)"
   ]
  },
  {
   "cell_type": "markdown",
   "metadata": {},
   "source": [
    "99.2% of homes are not considered as waterfront properties"
   ]
  },
  {
   "cell_type": "code",
   "execution_count": 478,
   "metadata": {},
   "outputs": [],
   "source": [
    "#Replacing null values according to probability\n",
    "df['waterfront'] = df['waterfront'].fillna(value=(np.random.choice(['YES', 'NO'], p=[0.01, 0.99])))"
   ]
  },
  {
   "cell_type": "code",
   "execution_count": 479,
   "metadata": {
    "scrolled": true
   },
   "outputs": [
    {
     "data": {
      "text/plain": [
       "id               0\n",
       "date_sold        0\n",
       "price            0\n",
       "bedrooms         0\n",
       "bathrooms        0\n",
       "sqft_living      0\n",
       "sqft_lot         0\n",
       "floors           0\n",
       "waterfront       0\n",
       "view             0\n",
       "condition        0\n",
       "grade            0\n",
       "sqft_above       0\n",
       "sqft_basement    0\n",
       "yr_built         0\n",
       "zipcode          0\n",
       "lat              0\n",
       "long             0\n",
       "sqft_living15    0\n",
       "sqft_lot15       0\n",
       "dtype: int64"
      ]
     },
     "execution_count": 479,
     "metadata": {},
     "output_type": "execute_result"
    }
   ],
   "source": [
    "#Confirming if there are anymore missing values\n",
    "df.isnull().sum()"
   ]
  },
  {
   "cell_type": "markdown",
   "metadata": {},
   "source": [
    "## Checking for duplicates"
   ]
  },
  {
   "cell_type": "markdown",
   "metadata": {},
   "source": [
    "Many columns with categorical data will contain duplicates. However the 'id' column must only have a single unique identifier per entry. Lets verify this."
   ]
  },
  {
   "cell_type": "code",
   "execution_count": 480,
   "metadata": {},
   "outputs": [
    {
     "data": {
      "text/plain": [
       "177"
      ]
     },
     "execution_count": 480,
     "metadata": {},
     "output_type": "execute_result"
    }
   ],
   "source": [
    "# checking for duplicates in unique columns\n",
    "df.id.duplicated().sum()"
   ]
  },
  {
   "cell_type": "code",
   "execution_count": 481,
   "metadata": {
    "scrolled": false
   },
   "outputs": [
    {
     "data": {
      "text/html": [
       "<div>\n",
       "<style scoped>\n",
       "    .dataframe tbody tr th:only-of-type {\n",
       "        vertical-align: middle;\n",
       "    }\n",
       "\n",
       "    .dataframe tbody tr th {\n",
       "        vertical-align: top;\n",
       "    }\n",
       "\n",
       "    .dataframe thead th {\n",
       "        text-align: right;\n",
       "    }\n",
       "</style>\n",
       "<table border=\"1\" class=\"dataframe\">\n",
       "  <thead>\n",
       "    <tr style=\"text-align: right;\">\n",
       "      <th></th>\n",
       "      <th>id</th>\n",
       "      <th>date_sold</th>\n",
       "      <th>price</th>\n",
       "      <th>bedrooms</th>\n",
       "      <th>bathrooms</th>\n",
       "      <th>sqft_living</th>\n",
       "      <th>sqft_lot</th>\n",
       "      <th>floors</th>\n",
       "      <th>waterfront</th>\n",
       "      <th>view</th>\n",
       "      <th>condition</th>\n",
       "      <th>grade</th>\n",
       "      <th>sqft_above</th>\n",
       "      <th>sqft_basement</th>\n",
       "      <th>yr_built</th>\n",
       "      <th>zipcode</th>\n",
       "      <th>lat</th>\n",
       "      <th>long</th>\n",
       "      <th>sqft_living15</th>\n",
       "      <th>sqft_lot15</th>\n",
       "    </tr>\n",
       "  </thead>\n",
       "  <tbody>\n",
       "    <tr>\n",
       "      <th>2494</th>\n",
       "      <td>1000102</td>\n",
       "      <td>9/16/2014</td>\n",
       "      <td>280000.0</td>\n",
       "      <td>6</td>\n",
       "      <td>3.00</td>\n",
       "      <td>2400</td>\n",
       "      <td>9373</td>\n",
       "      <td>2.0</td>\n",
       "      <td>NO</td>\n",
       "      <td>NONE</td>\n",
       "      <td>Average</td>\n",
       "      <td>7 Average</td>\n",
       "      <td>2400</td>\n",
       "      <td>0.0</td>\n",
       "      <td>1991</td>\n",
       "      <td>98002</td>\n",
       "      <td>47.3262</td>\n",
       "      <td>-122.214</td>\n",
       "      <td>2060</td>\n",
       "      <td>7316</td>\n",
       "    </tr>\n",
       "    <tr>\n",
       "      <th>2495</th>\n",
       "      <td>1000102</td>\n",
       "      <td>4/22/2015</td>\n",
       "      <td>300000.0</td>\n",
       "      <td>6</td>\n",
       "      <td>3.00</td>\n",
       "      <td>2400</td>\n",
       "      <td>9373</td>\n",
       "      <td>2.0</td>\n",
       "      <td>NO</td>\n",
       "      <td>NONE</td>\n",
       "      <td>Average</td>\n",
       "      <td>7 Average</td>\n",
       "      <td>2400</td>\n",
       "      <td>0.0</td>\n",
       "      <td>1991</td>\n",
       "      <td>98002</td>\n",
       "      <td>47.3262</td>\n",
       "      <td>-122.214</td>\n",
       "      <td>2060</td>\n",
       "      <td>7316</td>\n",
       "    </tr>\n",
       "    <tr>\n",
       "      <th>16800</th>\n",
       "      <td>7200179</td>\n",
       "      <td>10/16/2014</td>\n",
       "      <td>150000.0</td>\n",
       "      <td>2</td>\n",
       "      <td>1.00</td>\n",
       "      <td>840</td>\n",
       "      <td>12750</td>\n",
       "      <td>1.0</td>\n",
       "      <td>NO</td>\n",
       "      <td>NONE</td>\n",
       "      <td>Average</td>\n",
       "      <td>6 Low Average</td>\n",
       "      <td>840</td>\n",
       "      <td>0.0</td>\n",
       "      <td>1925</td>\n",
       "      <td>98055</td>\n",
       "      <td>47.4840</td>\n",
       "      <td>-122.211</td>\n",
       "      <td>1480</td>\n",
       "      <td>6969</td>\n",
       "    </tr>\n",
       "    <tr>\n",
       "      <th>16801</th>\n",
       "      <td>7200179</td>\n",
       "      <td>4/24/2015</td>\n",
       "      <td>175000.0</td>\n",
       "      <td>2</td>\n",
       "      <td>1.00</td>\n",
       "      <td>840</td>\n",
       "      <td>12750</td>\n",
       "      <td>1.0</td>\n",
       "      <td>NO</td>\n",
       "      <td>NONE</td>\n",
       "      <td>Average</td>\n",
       "      <td>6 Low Average</td>\n",
       "      <td>840</td>\n",
       "      <td>0.0</td>\n",
       "      <td>1925</td>\n",
       "      <td>98055</td>\n",
       "      <td>47.4840</td>\n",
       "      <td>-122.211</td>\n",
       "      <td>1480</td>\n",
       "      <td>6969</td>\n",
       "    </tr>\n",
       "    <tr>\n",
       "      <th>11421</th>\n",
       "      <td>109200390</td>\n",
       "      <td>8/20/2014</td>\n",
       "      <td>245000.0</td>\n",
       "      <td>3</td>\n",
       "      <td>1.75</td>\n",
       "      <td>1480</td>\n",
       "      <td>3900</td>\n",
       "      <td>1.0</td>\n",
       "      <td>NO</td>\n",
       "      <td>NONE</td>\n",
       "      <td>Good</td>\n",
       "      <td>7 Average</td>\n",
       "      <td>1480</td>\n",
       "      <td>0.0</td>\n",
       "      <td>1980</td>\n",
       "      <td>98023</td>\n",
       "      <td>47.2977</td>\n",
       "      <td>-122.367</td>\n",
       "      <td>1830</td>\n",
       "      <td>6956</td>\n",
       "    </tr>\n",
       "    <tr>\n",
       "      <th>...</th>\n",
       "      <td>...</td>\n",
       "      <td>...</td>\n",
       "      <td>...</td>\n",
       "      <td>...</td>\n",
       "      <td>...</td>\n",
       "      <td>...</td>\n",
       "      <td>...</td>\n",
       "      <td>...</td>\n",
       "      <td>...</td>\n",
       "      <td>...</td>\n",
       "      <td>...</td>\n",
       "      <td>...</td>\n",
       "      <td>...</td>\n",
       "      <td>...</td>\n",
       "      <td>...</td>\n",
       "      <td>...</td>\n",
       "      <td>...</td>\n",
       "      <td>...</td>\n",
       "      <td>...</td>\n",
       "      <td>...</td>\n",
       "    </tr>\n",
       "    <tr>\n",
       "      <th>6340</th>\n",
       "      <td>9828200460</td>\n",
       "      <td>1/6/2015</td>\n",
       "      <td>430000.0</td>\n",
       "      <td>2</td>\n",
       "      <td>1.00</td>\n",
       "      <td>700</td>\n",
       "      <td>4800</td>\n",
       "      <td>1.0</td>\n",
       "      <td>NO</td>\n",
       "      <td>NONE</td>\n",
       "      <td>Average</td>\n",
       "      <td>7 Average</td>\n",
       "      <td>700</td>\n",
       "      <td>0.0</td>\n",
       "      <td>1922</td>\n",
       "      <td>98122</td>\n",
       "      <td>47.6147</td>\n",
       "      <td>-122.300</td>\n",
       "      <td>1440</td>\n",
       "      <td>4800</td>\n",
       "    </tr>\n",
       "    <tr>\n",
       "      <th>15185</th>\n",
       "      <td>9834200305</td>\n",
       "      <td>7/16/2014</td>\n",
       "      <td>350000.0</td>\n",
       "      <td>3</td>\n",
       "      <td>1.00</td>\n",
       "      <td>1790</td>\n",
       "      <td>3876</td>\n",
       "      <td>1.5</td>\n",
       "      <td>NO</td>\n",
       "      <td>NONE</td>\n",
       "      <td>Very Good</td>\n",
       "      <td>7 Average</td>\n",
       "      <td>1090</td>\n",
       "      <td>?</td>\n",
       "      <td>1904</td>\n",
       "      <td>98144</td>\n",
       "      <td>47.5750</td>\n",
       "      <td>-122.288</td>\n",
       "      <td>1360</td>\n",
       "      <td>4080</td>\n",
       "    </tr>\n",
       "    <tr>\n",
       "      <th>15186</th>\n",
       "      <td>9834200305</td>\n",
       "      <td>2/10/2015</td>\n",
       "      <td>615000.0</td>\n",
       "      <td>3</td>\n",
       "      <td>1.00</td>\n",
       "      <td>1790</td>\n",
       "      <td>3876</td>\n",
       "      <td>1.5</td>\n",
       "      <td>NO</td>\n",
       "      <td>NONE</td>\n",
       "      <td>Very Good</td>\n",
       "      <td>7 Average</td>\n",
       "      <td>1090</td>\n",
       "      <td>700.0</td>\n",
       "      <td>1904</td>\n",
       "      <td>98144</td>\n",
       "      <td>47.5750</td>\n",
       "      <td>-122.288</td>\n",
       "      <td>1360</td>\n",
       "      <td>4080</td>\n",
       "    </tr>\n",
       "    <tr>\n",
       "      <th>1084</th>\n",
       "      <td>9834200885</td>\n",
       "      <td>7/17/2014</td>\n",
       "      <td>360000.0</td>\n",
       "      <td>4</td>\n",
       "      <td>2.50</td>\n",
       "      <td>2080</td>\n",
       "      <td>4080</td>\n",
       "      <td>1.0</td>\n",
       "      <td>NO</td>\n",
       "      <td>NONE</td>\n",
       "      <td>Very Good</td>\n",
       "      <td>7 Average</td>\n",
       "      <td>1040</td>\n",
       "      <td>1040.0</td>\n",
       "      <td>1962</td>\n",
       "      <td>98144</td>\n",
       "      <td>47.5720</td>\n",
       "      <td>-122.290</td>\n",
       "      <td>1340</td>\n",
       "      <td>4080</td>\n",
       "    </tr>\n",
       "    <tr>\n",
       "      <th>1085</th>\n",
       "      <td>9834200885</td>\n",
       "      <td>4/20/2015</td>\n",
       "      <td>550000.0</td>\n",
       "      <td>4</td>\n",
       "      <td>2.50</td>\n",
       "      <td>2080</td>\n",
       "      <td>4080</td>\n",
       "      <td>1.0</td>\n",
       "      <td>NO</td>\n",
       "      <td>NONE</td>\n",
       "      <td>Very Good</td>\n",
       "      <td>7 Average</td>\n",
       "      <td>1040</td>\n",
       "      <td>1040.0</td>\n",
       "      <td>1962</td>\n",
       "      <td>98144</td>\n",
       "      <td>47.5720</td>\n",
       "      <td>-122.290</td>\n",
       "      <td>1340</td>\n",
       "      <td>4080</td>\n",
       "    </tr>\n",
       "  </tbody>\n",
       "</table>\n",
       "<p>353 rows × 20 columns</p>\n",
       "</div>"
      ],
      "text/plain": [
       "               id   date_sold     price  bedrooms  bathrooms  sqft_living  \\\n",
       "2494      1000102   9/16/2014  280000.0         6       3.00         2400   \n",
       "2495      1000102   4/22/2015  300000.0         6       3.00         2400   \n",
       "16800     7200179  10/16/2014  150000.0         2       1.00          840   \n",
       "16801     7200179   4/24/2015  175000.0         2       1.00          840   \n",
       "11421   109200390   8/20/2014  245000.0         3       1.75         1480   \n",
       "...           ...         ...       ...       ...        ...          ...   \n",
       "6340   9828200460    1/6/2015  430000.0         2       1.00          700   \n",
       "15185  9834200305   7/16/2014  350000.0         3       1.00         1790   \n",
       "15186  9834200305   2/10/2015  615000.0         3       1.00         1790   \n",
       "1084   9834200885   7/17/2014  360000.0         4       2.50         2080   \n",
       "1085   9834200885   4/20/2015  550000.0         4       2.50         2080   \n",
       "\n",
       "       sqft_lot  floors waterfront  view  condition          grade  \\\n",
       "2494       9373     2.0         NO  NONE    Average      7 Average   \n",
       "2495       9373     2.0         NO  NONE    Average      7 Average   \n",
       "16800     12750     1.0         NO  NONE    Average  6 Low Average   \n",
       "16801     12750     1.0         NO  NONE    Average  6 Low Average   \n",
       "11421      3900     1.0         NO  NONE       Good      7 Average   \n",
       "...         ...     ...        ...   ...        ...            ...   \n",
       "6340       4800     1.0         NO  NONE    Average      7 Average   \n",
       "15185      3876     1.5         NO  NONE  Very Good      7 Average   \n",
       "15186      3876     1.5         NO  NONE  Very Good      7 Average   \n",
       "1084       4080     1.0         NO  NONE  Very Good      7 Average   \n",
       "1085       4080     1.0         NO  NONE  Very Good      7 Average   \n",
       "\n",
       "       sqft_above sqft_basement  yr_built  zipcode      lat     long  \\\n",
       "2494         2400           0.0      1991    98002  47.3262 -122.214   \n",
       "2495         2400           0.0      1991    98002  47.3262 -122.214   \n",
       "16800         840           0.0      1925    98055  47.4840 -122.211   \n",
       "16801         840           0.0      1925    98055  47.4840 -122.211   \n",
       "11421        1480           0.0      1980    98023  47.2977 -122.367   \n",
       "...           ...           ...       ...      ...      ...      ...   \n",
       "6340          700           0.0      1922    98122  47.6147 -122.300   \n",
       "15185        1090             ?      1904    98144  47.5750 -122.288   \n",
       "15186        1090         700.0      1904    98144  47.5750 -122.288   \n",
       "1084         1040        1040.0      1962    98144  47.5720 -122.290   \n",
       "1085         1040        1040.0      1962    98144  47.5720 -122.290   \n",
       "\n",
       "       sqft_living15  sqft_lot15  \n",
       "2494            2060        7316  \n",
       "2495            2060        7316  \n",
       "16800           1480        6969  \n",
       "16801           1480        6969  \n",
       "11421           1830        6956  \n",
       "...              ...         ...  \n",
       "6340            1440        4800  \n",
       "15185           1360        4080  \n",
       "15186           1360        4080  \n",
       "1084            1340        4080  \n",
       "1085            1340        4080  \n",
       "\n",
       "[353 rows x 20 columns]"
      ]
     },
     "execution_count": 481,
     "metadata": {},
     "output_type": "execute_result"
    }
   ],
   "source": [
    "#Lets see the rows that have duplicates as per the id column\n",
    "pd.concat( g for _,g in df.groupby(\"id\") if len(g) > 1)"
   ]
  },
  {
   "cell_type": "markdown",
   "metadata": {},
   "source": [
    "Here we notice that that there are duplicate ids which appear to be houses that were bought more than once by different clients"
   ]
  },
  {
   "cell_type": "markdown",
   "metadata": {},
   "source": [
    "## Checking For correct data types"
   ]
  },
  {
   "cell_type": "markdown",
   "metadata": {},
   "source": [
    "The column sqft_basement is an object as seen from data types"
   ]
  },
  {
   "cell_type": "code",
   "execution_count": 482,
   "metadata": {
    "scrolled": false
   },
   "outputs": [
    {
     "data": {
      "text/plain": [
       "0.0       12798\n",
       "?           452\n",
       "600.0       216\n",
       "500.0       209\n",
       "700.0       207\n",
       "          ...  \n",
       "1548.0        1\n",
       "225.0         1\n",
       "3260.0        1\n",
       "143.0         1\n",
       "20.0          1\n",
       "Name: sqft_basement, Length: 302, dtype: int64"
      ]
     },
     "execution_count": 482,
     "metadata": {},
     "output_type": "execute_result"
    }
   ],
   "source": [
    "df.sqft_basement.value_counts()"
   ]
  },
  {
   "cell_type": "code",
   "execution_count": 483,
   "metadata": {},
   "outputs": [],
   "source": [
    "# change ? in column to 0 - most commonly seen value\n",
    "df['sqft_basement'] = df['sqft_basement'].replace('?', '0.0')"
   ]
  },
  {
   "cell_type": "markdown",
   "metadata": {},
   "source": [
    "## Checking for outliers"
   ]
  },
  {
   "cell_type": "code",
   "execution_count": 484,
   "metadata": {},
   "outputs": [
    {
     "data": {
      "text/html": [
       "<div>\n",
       "<style scoped>\n",
       "    .dataframe tbody tr th:only-of-type {\n",
       "        vertical-align: middle;\n",
       "    }\n",
       "\n",
       "    .dataframe tbody tr th {\n",
       "        vertical-align: top;\n",
       "    }\n",
       "\n",
       "    .dataframe thead th {\n",
       "        text-align: right;\n",
       "    }\n",
       "</style>\n",
       "<table border=\"1\" class=\"dataframe\">\n",
       "  <thead>\n",
       "    <tr style=\"text-align: right;\">\n",
       "      <th></th>\n",
       "      <th>id</th>\n",
       "      <th>price</th>\n",
       "      <th>bedrooms</th>\n",
       "      <th>bathrooms</th>\n",
       "      <th>sqft_living</th>\n",
       "      <th>sqft_lot</th>\n",
       "      <th>floors</th>\n",
       "      <th>sqft_above</th>\n",
       "      <th>yr_built</th>\n",
       "      <th>zipcode</th>\n",
       "      <th>lat</th>\n",
       "      <th>long</th>\n",
       "      <th>sqft_living15</th>\n",
       "      <th>sqft_lot15</th>\n",
       "    </tr>\n",
       "  </thead>\n",
       "  <tbody>\n",
       "    <tr>\n",
       "      <th>count</th>\n",
       "      <td>2.153400e+04</td>\n",
       "      <td>2.153400e+04</td>\n",
       "      <td>21534.000000</td>\n",
       "      <td>21534.000000</td>\n",
       "      <td>21534.000000</td>\n",
       "      <td>2.153400e+04</td>\n",
       "      <td>21534.000000</td>\n",
       "      <td>21534.000000</td>\n",
       "      <td>21534.000000</td>\n",
       "      <td>21534.000000</td>\n",
       "      <td>21534.000000</td>\n",
       "      <td>21534.000000</td>\n",
       "      <td>21534.000000</td>\n",
       "      <td>21534.000000</td>\n",
       "    </tr>\n",
       "    <tr>\n",
       "      <th>mean</th>\n",
       "      <td>4.582351e+09</td>\n",
       "      <td>5.400577e+05</td>\n",
       "      <td>3.373038</td>\n",
       "      <td>2.115712</td>\n",
       "      <td>2079.827854</td>\n",
       "      <td>1.509060e+04</td>\n",
       "      <td>1.494126</td>\n",
       "      <td>1788.557537</td>\n",
       "      <td>1971.002275</td>\n",
       "      <td>98077.939352</td>\n",
       "      <td>47.560180</td>\n",
       "      <td>-122.213948</td>\n",
       "      <td>1986.299944</td>\n",
       "      <td>12751.079502</td>\n",
       "    </tr>\n",
       "    <tr>\n",
       "      <th>std</th>\n",
       "      <td>2.876779e+09</td>\n",
       "      <td>3.660596e+05</td>\n",
       "      <td>0.926410</td>\n",
       "      <td>0.768602</td>\n",
       "      <td>917.446520</td>\n",
       "      <td>4.138021e+04</td>\n",
       "      <td>0.539806</td>\n",
       "      <td>827.745641</td>\n",
       "      <td>29.376044</td>\n",
       "      <td>53.506639</td>\n",
       "      <td>0.138528</td>\n",
       "      <td>0.140735</td>\n",
       "      <td>685.121001</td>\n",
       "      <td>27255.483308</td>\n",
       "    </tr>\n",
       "    <tr>\n",
       "      <th>min</th>\n",
       "      <td>1.000102e+06</td>\n",
       "      <td>7.800000e+04</td>\n",
       "      <td>1.000000</td>\n",
       "      <td>0.500000</td>\n",
       "      <td>370.000000</td>\n",
       "      <td>5.200000e+02</td>\n",
       "      <td>1.000000</td>\n",
       "      <td>370.000000</td>\n",
       "      <td>1900.000000</td>\n",
       "      <td>98001.000000</td>\n",
       "      <td>47.155900</td>\n",
       "      <td>-122.519000</td>\n",
       "      <td>399.000000</td>\n",
       "      <td>651.000000</td>\n",
       "    </tr>\n",
       "    <tr>\n",
       "      <th>25%</th>\n",
       "      <td>2.123212e+09</td>\n",
       "      <td>3.220000e+05</td>\n",
       "      <td>3.000000</td>\n",
       "      <td>1.750000</td>\n",
       "      <td>1430.000000</td>\n",
       "      <td>5.040000e+03</td>\n",
       "      <td>1.000000</td>\n",
       "      <td>1190.000000</td>\n",
       "      <td>1951.000000</td>\n",
       "      <td>98033.000000</td>\n",
       "      <td>47.471200</td>\n",
       "      <td>-122.328000</td>\n",
       "      <td>1490.000000</td>\n",
       "      <td>5100.000000</td>\n",
       "    </tr>\n",
       "    <tr>\n",
       "      <th>50%</th>\n",
       "      <td>3.904945e+09</td>\n",
       "      <td>4.500000e+05</td>\n",
       "      <td>3.000000</td>\n",
       "      <td>2.250000</td>\n",
       "      <td>1910.000000</td>\n",
       "      <td>7.617000e+03</td>\n",
       "      <td>1.500000</td>\n",
       "      <td>1560.000000</td>\n",
       "      <td>1975.000000</td>\n",
       "      <td>98065.000000</td>\n",
       "      <td>47.571900</td>\n",
       "      <td>-122.230000</td>\n",
       "      <td>1840.000000</td>\n",
       "      <td>7620.000000</td>\n",
       "    </tr>\n",
       "    <tr>\n",
       "      <th>75%</th>\n",
       "      <td>7.312175e+09</td>\n",
       "      <td>6.450000e+05</td>\n",
       "      <td>4.000000</td>\n",
       "      <td>2.500000</td>\n",
       "      <td>2550.000000</td>\n",
       "      <td>1.068775e+04</td>\n",
       "      <td>2.000000</td>\n",
       "      <td>2210.000000</td>\n",
       "      <td>1997.000000</td>\n",
       "      <td>98118.000000</td>\n",
       "      <td>47.678100</td>\n",
       "      <td>-122.125000</td>\n",
       "      <td>2360.000000</td>\n",
       "      <td>10083.000000</td>\n",
       "    </tr>\n",
       "    <tr>\n",
       "      <th>max</th>\n",
       "      <td>9.900000e+09</td>\n",
       "      <td>7.700000e+06</td>\n",
       "      <td>33.000000</td>\n",
       "      <td>8.000000</td>\n",
       "      <td>13540.000000</td>\n",
       "      <td>1.651359e+06</td>\n",
       "      <td>3.500000</td>\n",
       "      <td>9410.000000</td>\n",
       "      <td>2015.000000</td>\n",
       "      <td>98199.000000</td>\n",
       "      <td>47.777600</td>\n",
       "      <td>-121.315000</td>\n",
       "      <td>6210.000000</td>\n",
       "      <td>871200.000000</td>\n",
       "    </tr>\n",
       "  </tbody>\n",
       "</table>\n",
       "</div>"
      ],
      "text/plain": [
       "                 id         price      bedrooms     bathrooms   sqft_living  \\\n",
       "count  2.153400e+04  2.153400e+04  21534.000000  21534.000000  21534.000000   \n",
       "mean   4.582351e+09  5.400577e+05      3.373038      2.115712   2079.827854   \n",
       "std    2.876779e+09  3.660596e+05      0.926410      0.768602    917.446520   \n",
       "min    1.000102e+06  7.800000e+04      1.000000      0.500000    370.000000   \n",
       "25%    2.123212e+09  3.220000e+05      3.000000      1.750000   1430.000000   \n",
       "50%    3.904945e+09  4.500000e+05      3.000000      2.250000   1910.000000   \n",
       "75%    7.312175e+09  6.450000e+05      4.000000      2.500000   2550.000000   \n",
       "max    9.900000e+09  7.700000e+06     33.000000      8.000000  13540.000000   \n",
       "\n",
       "           sqft_lot        floors    sqft_above      yr_built       zipcode  \\\n",
       "count  2.153400e+04  21534.000000  21534.000000  21534.000000  21534.000000   \n",
       "mean   1.509060e+04      1.494126   1788.557537   1971.002275  98077.939352   \n",
       "std    4.138021e+04      0.539806    827.745641     29.376044     53.506639   \n",
       "min    5.200000e+02      1.000000    370.000000   1900.000000  98001.000000   \n",
       "25%    5.040000e+03      1.000000   1190.000000   1951.000000  98033.000000   \n",
       "50%    7.617000e+03      1.500000   1560.000000   1975.000000  98065.000000   \n",
       "75%    1.068775e+04      2.000000   2210.000000   1997.000000  98118.000000   \n",
       "max    1.651359e+06      3.500000   9410.000000   2015.000000  98199.000000   \n",
       "\n",
       "                lat          long  sqft_living15     sqft_lot15  \n",
       "count  21534.000000  21534.000000   21534.000000   21534.000000  \n",
       "mean      47.560180   -122.213948    1986.299944   12751.079502  \n",
       "std        0.138528      0.140735     685.121001   27255.483308  \n",
       "min       47.155900   -122.519000     399.000000     651.000000  \n",
       "25%       47.471200   -122.328000    1490.000000    5100.000000  \n",
       "50%       47.571900   -122.230000    1840.000000    7620.000000  \n",
       "75%       47.678100   -122.125000    2360.000000   10083.000000  \n",
       "max       47.777600   -121.315000    6210.000000  871200.000000  "
      ]
     },
     "execution_count": 484,
     "metadata": {},
     "output_type": "execute_result"
    }
   ],
   "source": [
    "#summary statistics of the numerical columns in a dataframe\n",
    "df.describe()"
   ]
  },
  {
   "cell_type": "markdown",
   "metadata": {},
   "source": [
    "That house with 33 bedrooms is definitely odd"
   ]
  },
  {
   "cell_type": "code",
   "execution_count": 485,
   "metadata": {},
   "outputs": [
    {
     "data": {
      "image/png": "[encoded data removed]",
      "text/plain": [
       "<Figure size 432x288 with 1 Axes>"
      ]
     },
     "metadata": {
      "needs_background": "light"
     },
     "output_type": "display_data"
    }
   ],
   "source": [
    "# we can also use a box plot to identify outliers\n",
    "sns.boxplot(data=df, x=\"bedrooms\");"
   ]
  },
  {
   "cell_type": "code",
   "execution_count": 486,
   "metadata": {
    "scrolled": true
   },
   "outputs": [
    {
     "data": {
      "text/plain": [
       "3     9791\n",
       "4     6865\n",
       "2     2754\n",
       "5     1596\n",
       "6      270\n",
       "1      196\n",
       "7       38\n",
       "8       13\n",
       "9        6\n",
       "10       3\n",
       "11       1\n",
       "33       1\n",
       "Name: bedrooms, dtype: int64"
      ]
     },
     "execution_count": 486,
     "metadata": {},
     "output_type": "execute_result"
    }
   ],
   "source": [
    "#let's count the number of occurrences of each unique value in the 'bedrooms' column \n",
    "df['bedrooms'].value_counts()"
   ]
  },
  {
   "cell_type": "code",
   "execution_count": 487,
   "metadata": {
    "scrolled": false
   },
   "outputs": [
    {
     "data": {
      "text/html": [
       "<div>\n",
       "<style scoped>\n",
       "    .dataframe tbody tr th:only-of-type {\n",
       "        vertical-align: middle;\n",
       "    }\n",
       "\n",
       "    .dataframe tbody tr th {\n",
       "        vertical-align: top;\n",
       "    }\n",
       "\n",
       "    .dataframe thead th {\n",
       "        text-align: right;\n",
       "    }\n",
       "</style>\n",
       "<table border=\"1\" class=\"dataframe\">\n",
       "  <thead>\n",
       "    <tr style=\"text-align: right;\">\n",
       "      <th></th>\n",
       "      <th>id</th>\n",
       "      <th>date_sold</th>\n",
       "      <th>price</th>\n",
       "      <th>bedrooms</th>\n",
       "      <th>bathrooms</th>\n",
       "      <th>sqft_living</th>\n",
       "      <th>sqft_lot</th>\n",
       "      <th>floors</th>\n",
       "      <th>waterfront</th>\n",
       "      <th>view</th>\n",
       "      <th>condition</th>\n",
       "      <th>grade</th>\n",
       "      <th>sqft_above</th>\n",
       "      <th>sqft_basement</th>\n",
       "      <th>yr_built</th>\n",
       "      <th>zipcode</th>\n",
       "      <th>lat</th>\n",
       "      <th>long</th>\n",
       "      <th>sqft_living15</th>\n",
       "      <th>sqft_lot15</th>\n",
       "    </tr>\n",
       "  </thead>\n",
       "  <tbody>\n",
       "    <tr>\n",
       "      <th>15856</th>\n",
       "      <td>2402100895</td>\n",
       "      <td>6/25/2014</td>\n",
       "      <td>640000.0</td>\n",
       "      <td>33</td>\n",
       "      <td>1.75</td>\n",
       "      <td>1620</td>\n",
       "      <td>6000</td>\n",
       "      <td>1.0</td>\n",
       "      <td>NO</td>\n",
       "      <td>NONE</td>\n",
       "      <td>Very Good</td>\n",
       "      <td>7 Average</td>\n",
       "      <td>1040</td>\n",
       "      <td>580.0</td>\n",
       "      <td>1947</td>\n",
       "      <td>98103</td>\n",
       "      <td>47.6878</td>\n",
       "      <td>-122.331</td>\n",
       "      <td>1330</td>\n",
       "      <td>4700</td>\n",
       "    </tr>\n",
       "  </tbody>\n",
       "</table>\n",
       "</div>"
      ],
      "text/plain": [
       "               id  date_sold     price  bedrooms  bathrooms  sqft_living  \\\n",
       "15856  2402100895  6/25/2014  640000.0        33       1.75         1620   \n",
       "\n",
       "       sqft_lot  floors waterfront  view  condition      grade  sqft_above  \\\n",
       "15856      6000     1.0         NO  NONE  Very Good  7 Average        1040   \n",
       "\n",
       "      sqft_basement  yr_built  zipcode      lat     long  sqft_living15  \\\n",
       "15856         580.0      1947    98103  47.6878 -122.331           1330   \n",
       "\n",
       "       sqft_lot15  \n",
       "15856        4700  "
      ]
     },
     "execution_count": 487,
     "metadata": {},
     "output_type": "execute_result"
    }
   ],
   "source": [
    "#Let's only show the row where the value in the 'bedrooms' column is equal to 33.\n",
    "df[df['bedrooms'] == 33]"
   ]
  },
  {
   "cell_type": "markdown",
   "metadata": {},
   "source": [
    "### Dropping Outliers"
   ]
  },
  {
   "cell_type": "code",
   "execution_count": 488,
   "metadata": {},
   "outputs": [],
   "source": [
    "# Let's drop the 33 bedroom row\n",
    "df.drop(index=15856, inplace=True)"
   ]
  },
  {
   "cell_type": "code",
   "execution_count": 489,
   "metadata": {
    "scrolled": true
   },
   "outputs": [
    {
     "data": {
      "text/plain": [
       "3     9791\n",
       "4     6865\n",
       "2     2754\n",
       "5     1596\n",
       "6      270\n",
       "1      196\n",
       "7       38\n",
       "8       13\n",
       "9        6\n",
       "10       3\n",
       "11       1\n",
       "Name: bedrooms, dtype: int64"
      ]
     },
     "execution_count": 489,
     "metadata": {},
     "output_type": "execute_result"
    }
   ],
   "source": [
    "#Let's verify that it is gone\n",
    "df['bedrooms'].value_counts()"
   ]
  },
  {
   "cell_type": "code",
   "execution_count": 490,
   "metadata": {},
   "outputs": [
    {
     "data": {
      "text/plain": [
       "2.50    5364\n",
       "1.00    3841\n",
       "1.75    3034\n",
       "2.25    2037\n",
       "2.00    1926\n",
       "1.50    1441\n",
       "2.75    1185\n",
       "3.00     752\n",
       "3.50     730\n",
       "3.25     585\n",
       "3.75     155\n",
       "4.00     136\n",
       "4.50     100\n",
       "4.25      77\n",
       "0.75      71\n",
       "4.75      23\n",
       "5.00      21\n",
       "5.25      13\n",
       "5.50      10\n",
       "1.25       9\n",
       "6.00       5\n",
       "5.75       4\n",
       "0.50       4\n",
       "8.00       2\n",
       "6.25       2\n",
       "6.75       2\n",
       "6.50       2\n",
       "7.50       1\n",
       "7.75       1\n",
       "Name: bathrooms, dtype: int64"
      ]
     },
     "execution_count": 490,
     "metadata": {},
     "output_type": "execute_result"
    }
   ],
   "source": [
    "#Checking for outliers in bathrooms\n",
    "df['bathrooms'].value_counts()"
   ]
  },
  {
   "cell_type": "code",
   "execution_count": 491,
   "metadata": {},
   "outputs": [
    {
     "data": {
      "text/html": [
       "<div>\n",
       "<style scoped>\n",
       "    .dataframe tbody tr th:only-of-type {\n",
       "        vertical-align: middle;\n",
       "    }\n",
       "\n",
       "    .dataframe tbody tr th {\n",
       "        vertical-align: top;\n",
       "    }\n",
       "\n",
       "    .dataframe thead th {\n",
       "        text-align: right;\n",
       "    }\n",
       "</style>\n",
       "<table border=\"1\" class=\"dataframe\">\n",
       "  <thead>\n",
       "    <tr style=\"text-align: right;\">\n",
       "      <th></th>\n",
       "      <th>id</th>\n",
       "      <th>date_sold</th>\n",
       "      <th>price</th>\n",
       "      <th>bedrooms</th>\n",
       "      <th>bathrooms</th>\n",
       "      <th>sqft_living</th>\n",
       "      <th>sqft_lot</th>\n",
       "      <th>floors</th>\n",
       "      <th>waterfront</th>\n",
       "      <th>view</th>\n",
       "      <th>condition</th>\n",
       "      <th>grade</th>\n",
       "      <th>sqft_above</th>\n",
       "      <th>sqft_basement</th>\n",
       "      <th>yr_built</th>\n",
       "      <th>zipcode</th>\n",
       "      <th>lat</th>\n",
       "      <th>long</th>\n",
       "      <th>sqft_living15</th>\n",
       "      <th>sqft_lot15</th>\n",
       "    </tr>\n",
       "  </thead>\n",
       "  <tbody>\n",
       "    <tr>\n",
       "      <th>7245</th>\n",
       "      <td>6762700020</td>\n",
       "      <td>10/13/2014</td>\n",
       "      <td>7700000.0</td>\n",
       "      <td>6</td>\n",
       "      <td>8.00</td>\n",
       "      <td>12050</td>\n",
       "      <td>27600</td>\n",
       "      <td>2.5</td>\n",
       "      <td>NO</td>\n",
       "      <td>GOOD</td>\n",
       "      <td>Good</td>\n",
       "      <td>13 Mansion</td>\n",
       "      <td>8570</td>\n",
       "      <td>3480.0</td>\n",
       "      <td>1910</td>\n",
       "      <td>98102</td>\n",
       "      <td>47.6298</td>\n",
       "      <td>-122.323</td>\n",
       "      <td>3940</td>\n",
       "      <td>8800</td>\n",
       "    </tr>\n",
       "    <tr>\n",
       "      <th>8537</th>\n",
       "      <td>424049043</td>\n",
       "      <td>8/11/2014</td>\n",
       "      <td>450000.0</td>\n",
       "      <td>9</td>\n",
       "      <td>7.50</td>\n",
       "      <td>4050</td>\n",
       "      <td>6504</td>\n",
       "      <td>2.0</td>\n",
       "      <td>NO</td>\n",
       "      <td>NONE</td>\n",
       "      <td>Average</td>\n",
       "      <td>7 Average</td>\n",
       "      <td>4050</td>\n",
       "      <td>0.0</td>\n",
       "      <td>1996</td>\n",
       "      <td>98144</td>\n",
       "      <td>47.5923</td>\n",
       "      <td>-122.301</td>\n",
       "      <td>1448</td>\n",
       "      <td>3866</td>\n",
       "    </tr>\n",
       "    <tr>\n",
       "      <th>9245</th>\n",
       "      <td>9208900037</td>\n",
       "      <td>9/19/2014</td>\n",
       "      <td>6890000.0</td>\n",
       "      <td>6</td>\n",
       "      <td>7.75</td>\n",
       "      <td>9890</td>\n",
       "      <td>31374</td>\n",
       "      <td>2.0</td>\n",
       "      <td>NO</td>\n",
       "      <td>EXCELLENT</td>\n",
       "      <td>Average</td>\n",
       "      <td>13 Mansion</td>\n",
       "      <td>8860</td>\n",
       "      <td>1030.0</td>\n",
       "      <td>2001</td>\n",
       "      <td>98039</td>\n",
       "      <td>47.6305</td>\n",
       "      <td>-122.240</td>\n",
       "      <td>4540</td>\n",
       "      <td>42730</td>\n",
       "    </tr>\n",
       "    <tr>\n",
       "      <th>12764</th>\n",
       "      <td>1225069038</td>\n",
       "      <td>5/5/2014</td>\n",
       "      <td>2280000.0</td>\n",
       "      <td>7</td>\n",
       "      <td>8.00</td>\n",
       "      <td>13540</td>\n",
       "      <td>307752</td>\n",
       "      <td>3.0</td>\n",
       "      <td>NO</td>\n",
       "      <td>EXCELLENT</td>\n",
       "      <td>Average</td>\n",
       "      <td>12 Luxury</td>\n",
       "      <td>9410</td>\n",
       "      <td>4130.0</td>\n",
       "      <td>1999</td>\n",
       "      <td>98053</td>\n",
       "      <td>47.6675</td>\n",
       "      <td>-121.986</td>\n",
       "      <td>4850</td>\n",
       "      <td>217800</td>\n",
       "    </tr>\n",
       "  </tbody>\n",
       "</table>\n",
       "</div>"
      ],
      "text/plain": [
       "               id   date_sold      price  bedrooms  bathrooms  sqft_living  \\\n",
       "7245   6762700020  10/13/2014  7700000.0         6       8.00        12050   \n",
       "8537    424049043   8/11/2014   450000.0         9       7.50         4050   \n",
       "9245   9208900037   9/19/2014  6890000.0         6       7.75         9890   \n",
       "12764  1225069038    5/5/2014  2280000.0         7       8.00        13540   \n",
       "\n",
       "       sqft_lot  floors waterfront       view condition       grade  \\\n",
       "7245      27600     2.5         NO       GOOD      Good  13 Mansion   \n",
       "8537       6504     2.0         NO       NONE   Average   7 Average   \n",
       "9245      31374     2.0         NO  EXCELLENT   Average  13 Mansion   \n",
       "12764    307752     3.0         NO  EXCELLENT   Average   12 Luxury   \n",
       "\n",
       "       sqft_above sqft_basement  yr_built  zipcode      lat     long  \\\n",
       "7245         8570        3480.0      1910    98102  47.6298 -122.323   \n",
       "8537         4050           0.0      1996    98144  47.5923 -122.301   \n",
       "9245         8860        1030.0      2001    98039  47.6305 -122.240   \n",
       "12764        9410        4130.0      1999    98053  47.6675 -121.986   \n",
       "\n",
       "       sqft_living15  sqft_lot15  \n",
       "7245            3940        8800  \n",
       "8537            1448        3866  \n",
       "9245            4540       42730  \n",
       "12764           4850      217800  "
      ]
     },
     "execution_count": 491,
     "metadata": {},
     "output_type": "execute_result"
    }
   ],
   "source": [
    "df[df['bathrooms'] >= 7]"
   ]
  },
  {
   "cell_type": "markdown",
   "metadata": {},
   "source": [
    "We shall not drop the bathrooms shown above"
   ]
  },
  {
   "cell_type": "code",
   "execution_count": 492,
   "metadata": {},
   "outputs": [
    {
     "data": {
      "text/plain": [
       "Index(['id', 'price', 'bedrooms', 'bathrooms', 'sqft_living', 'sqft_lot',\n",
       "       'floors', 'sqft_above', 'yr_built', 'zipcode', 'lat', 'long',\n",
       "       'sqft_living15', 'sqft_lot15'],\n",
       "      dtype='object')"
      ]
     },
     "execution_count": 492,
     "metadata": {},
     "output_type": "execute_result"
    }
   ],
   "source": [
    "num_cols = df.select_dtypes(include=['float64','int64'])\n",
    "num_cols.columns"
   ]
  },
  {
   "cell_type": "code",
   "execution_count": 494,
   "metadata": {},
   "outputs": [
    {
     "data": {
      "text/plain": [
       "id               0\n",
       "date_sold        0\n",
       "price            0\n",
       "bedrooms         0\n",
       "bathrooms        0\n",
       "sqft_living      0\n",
       "sqft_lot         0\n",
       "floors           0\n",
       "waterfront       0\n",
       "view             0\n",
       "condition        0\n",
       "grade            0\n",
       "sqft_above       0\n",
       "sqft_basement    0\n",
       "yr_built         0\n",
       "zipcode          0\n",
       "lat              0\n",
       "long             0\n",
       "sqft_living15    0\n",
       "sqft_lot15       0\n",
       "dtype: int64"
      ]
     },
     "execution_count": 494,
     "metadata": {},
     "output_type": "execute_result"
    }
   ],
   "source": [
    "df.isnull().sum()"
   ]
  },
  {
   "cell_type": "markdown",
   "metadata": {},
   "source": [
    "### Our data is now clean"
   ]
  },
  {
   "cell_type": "markdown",
   "metadata": {},
   "source": [
    "#  Exploratory Data Analysis\n",
    "\n",
    "Lets look at data that would be interesting to first time home buyers by generating some questions that might conclude some interesting answers."
   ]
  },
  {
   "cell_type": "markdown",
   "metadata": {},
   "source": [
    "## How does price vary with the month sold?"
   ]
  },
  {
   "cell_type": "code",
   "execution_count": 432,
   "metadata": {
    "scrolled": false
   },
   "outputs": [
    {
     "data": {
      "image/png": "[encoded data removed]",
      "text/plain": [
       "<Figure size 432x288 with 1 Axes>"
      ]
     },
     "metadata": {
      "needs_background": "light"
     },
     "output_type": "display_data"
    }
   ],
   "source": [
    "#Extracting an individual month column\n",
    "df['month_sold'] = pd.DatetimeIndex(df['date_sold']).month\n",
    "\n",
    "# set columns for seasons sold\n",
    "df.loc[(df['month_sold'] >= 1) & (df['month_sold'] <= 3), 'season'] = 'spring'\n",
    "df.loc[(df['month_sold'] >= 3) & (df['month_sold'] <= 6), 'season'] = 'summer'\n",
    "df.loc[(df['month_sold'] >= 6) & (df['month_sold'] <= 9), 'season'] = 'fall'\n",
    "df.loc[(df['month_sold'] >= 9) & (df['month_sold'] == 12), 'season'] = 'winter'\n",
    "#Plotting a line graph\n",
    "plt.plot(df.groupby('season')['price'].mean().round(2))\n",
    "plt.title('Average Home Sale Price by Season')\n",
    "plt.ylabel('Average Sale Price')\n",
    "plt.xlabel('month_sold');"
   ]
  },
  {
   "cell_type": "markdown",
   "metadata": {},
   "source": [
    "Here we see that prices start rising from spring to summer and start dropping during summer to spring"
   ]
  },
  {
   "cell_type": "markdown",
   "metadata": {},
   "source": [
    "## Does the age of the house affect it's price"
   ]
  },
  {
   "cell_type": "code",
   "execution_count": 433,
   "metadata": {},
   "outputs": [
    {
     "data": {
      "image/png": "[encoded data removed]",
      "text/plain": [
       "<Figure size 432x288 with 1 Axes>"
      ]
     },
     "metadata": {
      "needs_background": "light"
     },
     "output_type": "display_data"
    }
   ],
   "source": [
    "#Plotting a Scatter plot for age and price\n",
    "year_sold = pd.DatetimeIndex(df['date_sold']).year\n",
    "age =year_sold-df['yr_built']\n",
    "df['age'] = age\n",
    "plt.scatter(age, df['price'])\n",
    "plt.xlabel('Age')\n",
    "plt.ylabel('Price')\n",
    "plt.title('Relationship between Age and Price');"
   ]
  },
  {
   "cell_type": "markdown",
   "metadata": {},
   "source": [
    "There is a relationship between the age of the house and its price. Specifically, the analysis may have found that newer houses tend to be more expensive than older houses, all other things being equal. This could be because newer houses are typically in better condition and have more modern amenities than older houses."
   ]
  },
  {
   "cell_type": "markdown",
   "metadata": {},
   "source": [
    "## How does view affect price?"
   ]
  },
  {
   "cell_type": "code",
   "execution_count": 434,
   "metadata": {},
   "outputs": [
    {
     "data": {
      "text/plain": [
       "NONE         19421\n",
       "AVERAGE        957\n",
       "GOOD           508\n",
       "FAIR           330\n",
       "EXCELLENT      317\n",
       "Name: view, dtype: int64"
      ]
     },
     "execution_count": 434,
     "metadata": {},
     "output_type": "execute_result"
    }
   ],
   "source": [
    "#Extracting value counts\n",
    "df['view'].value_counts()"
   ]
  },
  {
   "cell_type": "code",
   "execution_count": 435,
   "metadata": {},
   "outputs": [
    {
     "data": {
      "image/png": "[encoded data removed]",
      "text/plain": [
       "<Figure size 432x288 with 1 Axes>"
      ]
     },
     "metadata": {
      "needs_background": "light"
     },
     "output_type": "display_data"
    }
   ],
   "source": [
    "#Plotting a barplot of 'view' against 'price'\n",
    "sns.barplot(x=df['view'], y=df['price']).set(title='Number of Views Vs Price');"
   ]
  },
  {
   "cell_type": "markdown",
   "metadata": {},
   "source": [
    "It pays to advertise a house for this increases the number of views. For example the most expensive houses got the most number of views compared to the lowly priced houses."
   ]
  },
  {
   "cell_type": "code",
   "execution_count": 436,
   "metadata": {},
   "outputs": [
    {
     "data": {
      "text/html": [
       "<div style=\"width:100%;\"><div style=\"position:relative;width:100%;height:0;padding-bottom:60%;\"><span style=\"color:#565656\">Make this Notebook Trusted to load map: File -> Trust Notebook</span><iframe src=\"about:blank\" style=\"position:absolute;width:100%;height:100%;left:0;top:0;border:none !important;\" data-html=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 onload=\"this.contentDocument.open();this.contentDocument.write(atob(this.getAttribute('data-html')));this.contentDocument.close();\" allowfullscreen webkitallowfullscreen mozallowfullscreen></iframe></div></div>"
      ],
      "text/plain": [
       "<folium.folium.Map at 0x7febd6c90550>"
      ]
     },
     "execution_count": 436,
     "metadata": {},
     "output_type": "execute_result"
    }
   ],
   "source": [
    "# Group the data by zipcode and calculate the mean latitude and longitude\n",
    "zipcode_data = kc_real_estate.groupby('zipcode').agg({'lat': 'mean', 'long': 'mean'}).reset_index()\n",
    "# Create a map centered at the mean latitude and longitude of all the zipcodes\n",
    "m = folium.Map(location=[kc_real_estate['lat'].mean(), kc_real_estate['long'].mean()], zoom_start=10)\n",
    "# Add markers for each zipcode\n",
    "for _, row in zipcode_data.iterrows():\n",
    "    folium.Marker(location=[row['lat'], row['long']], popup=row['zipcode']).add_to(m)\n",
    "# Display the map\n",
    "m"
   ]
  },
  {
   "cell_type": "markdown",
   "metadata": {},
   "source": [
    "# Which factors are most correlated with price?"
   ]
  },
  {
   "cell_type": "code",
   "execution_count": 437,
   "metadata": {
    "scrolled": true
   },
   "outputs": [
    {
     "data": {
      "text/html": [
       "<div>\n",
       "<style scoped>\n",
       "    .dataframe tbody tr th:only-of-type {\n",
       "        vertical-align: middle;\n",
       "    }\n",
       "\n",
       "    .dataframe tbody tr th {\n",
       "        vertical-align: top;\n",
       "    }\n",
       "\n",
       "    .dataframe thead th {\n",
       "        text-align: right;\n",
       "    }\n",
       "</style>\n",
       "<table border=\"1\" class=\"dataframe\">\n",
       "  <thead>\n",
       "    <tr style=\"text-align: right;\">\n",
       "      <th></th>\n",
       "      <th>id</th>\n",
       "      <th>price</th>\n",
       "      <th>bedrooms</th>\n",
       "      <th>bathrooms</th>\n",
       "      <th>sqft_living</th>\n",
       "      <th>sqft_lot</th>\n",
       "      <th>floors</th>\n",
       "      <th>sqft_above</th>\n",
       "      <th>yr_built</th>\n",
       "      <th>zipcode</th>\n",
       "      <th>lat</th>\n",
       "      <th>long</th>\n",
       "      <th>sqft_living15</th>\n",
       "      <th>sqft_lot15</th>\n",
       "      <th>month_sold</th>\n",
       "      <th>age</th>\n",
       "    </tr>\n",
       "  </thead>\n",
       "  <tbody>\n",
       "    <tr>\n",
       "      <th>id</th>\n",
       "      <td>1.000000</td>\n",
       "      <td>-0.017383</td>\n",
       "      <td>0.002169</td>\n",
       "      <td>0.004954</td>\n",
       "      <td>-0.012399</td>\n",
       "      <td>-0.132071</td>\n",
       "      <td>0.018541</td>\n",
       "      <td>-0.010999</td>\n",
       "      <td>0.021581</td>\n",
       "      <td>-0.008011</td>\n",
       "      <td>-0.001969</td>\n",
       "      <td>0.020609</td>\n",
       "      <td>-0.002741</td>\n",
       "      <td>-0.138619</td>\n",
       "      <td>-0.012439</td>\n",
       "      <td>-0.021414</td>\n",
       "    </tr>\n",
       "    <tr>\n",
       "      <th>price</th>\n",
       "      <td>-0.017383</td>\n",
       "      <td>1.000000</td>\n",
       "      <td>0.315236</td>\n",
       "      <td>0.525063</td>\n",
       "      <td>0.701599</td>\n",
       "      <td>0.090341</td>\n",
       "      <td>0.257069</td>\n",
       "      <td>0.605719</td>\n",
       "      <td>0.054284</td>\n",
       "      <td>-0.053626</td>\n",
       "      <td>0.307863</td>\n",
       "      <td>0.022428</td>\n",
       "      <td>0.585329</td>\n",
       "      <td>0.083194</td>\n",
       "      <td>-0.009689</td>\n",
       "      <td>-0.054224</td>\n",
       "    </tr>\n",
       "    <tr>\n",
       "      <th>bedrooms</th>\n",
       "      <td>0.002169</td>\n",
       "      <td>0.315236</td>\n",
       "      <td>1.000000</td>\n",
       "      <td>0.527764</td>\n",
       "      <td>0.592935</td>\n",
       "      <td>0.033875</td>\n",
       "      <td>0.183157</td>\n",
       "      <td>0.492336</td>\n",
       "      <td>0.160537</td>\n",
       "      <td>-0.158497</td>\n",
       "      <td>-0.012074</td>\n",
       "      <td>0.136845</td>\n",
       "      <td>0.404017</td>\n",
       "      <td>0.032164</td>\n",
       "      <td>-0.000617</td>\n",
       "      <td>-0.160674</td>\n",
       "    </tr>\n",
       "    <tr>\n",
       "      <th>bathrooms</th>\n",
       "      <td>0.004954</td>\n",
       "      <td>0.525063</td>\n",
       "      <td>0.527764</td>\n",
       "      <td>1.000000</td>\n",
       "      <td>0.755274</td>\n",
       "      <td>0.088916</td>\n",
       "      <td>0.502277</td>\n",
       "      <td>0.686170</td>\n",
       "      <td>0.507557</td>\n",
       "      <td>-0.204427</td>\n",
       "      <td>0.024508</td>\n",
       "      <td>0.225012</td>\n",
       "      <td>0.569133</td>\n",
       "      <td>0.088848</td>\n",
       "      <td>0.007129</td>\n",
       "      <td>-0.507939</td>\n",
       "    </tr>\n",
       "    <tr>\n",
       "      <th>sqft_living</th>\n",
       "      <td>-0.012399</td>\n",
       "      <td>0.701599</td>\n",
       "      <td>0.592935</td>\n",
       "      <td>0.755274</td>\n",
       "      <td>1.000000</td>\n",
       "      <td>0.173764</td>\n",
       "      <td>0.353516</td>\n",
       "      <td>0.876554</td>\n",
       "      <td>0.318205</td>\n",
       "      <td>-0.199830</td>\n",
       "      <td>0.052406</td>\n",
       "      <td>0.241842</td>\n",
       "      <td>0.756206</td>\n",
       "      <td>0.184795</td>\n",
       "      <td>0.011964</td>\n",
       "      <td>-0.318642</td>\n",
       "    </tr>\n",
       "    <tr>\n",
       "      <th>sqft_lot</th>\n",
       "      <td>-0.132071</td>\n",
       "      <td>0.090341</td>\n",
       "      <td>0.033875</td>\n",
       "      <td>0.088916</td>\n",
       "      <td>0.173764</td>\n",
       "      <td>1.000000</td>\n",
       "      <td>-0.005034</td>\n",
       "      <td>0.184319</td>\n",
       "      <td>0.052639</td>\n",
       "      <td>-0.129842</td>\n",
       "      <td>-0.085136</td>\n",
       "      <td>0.230133</td>\n",
       "      <td>0.145135</td>\n",
       "      <td>0.717095</td>\n",
       "      <td>-0.003506</td>\n",
       "      <td>-0.052537</td>\n",
       "    </tr>\n",
       "    <tr>\n",
       "      <th>floors</th>\n",
       "      <td>0.018541</td>\n",
       "      <td>0.257069</td>\n",
       "      <td>0.183157</td>\n",
       "      <td>0.502277</td>\n",
       "      <td>0.353516</td>\n",
       "      <td>-0.005034</td>\n",
       "      <td>1.000000</td>\n",
       "      <td>0.523349</td>\n",
       "      <td>0.489393</td>\n",
       "      <td>-0.058947</td>\n",
       "      <td>0.049460</td>\n",
       "      <td>0.125298</td>\n",
       "      <td>0.279147</td>\n",
       "      <td>-0.010863</td>\n",
       "      <td>0.013774</td>\n",
       "      <td>-0.489710</td>\n",
       "    </tr>\n",
       "    <tr>\n",
       "      <th>sqft_above</th>\n",
       "      <td>-0.010999</td>\n",
       "      <td>0.605719</td>\n",
       "      <td>0.492336</td>\n",
       "      <td>0.686170</td>\n",
       "      <td>0.876554</td>\n",
       "      <td>0.184319</td>\n",
       "      <td>0.523349</td>\n",
       "      <td>1.000000</td>\n",
       "      <td>0.423980</td>\n",
       "      <td>-0.261466</td>\n",
       "      <td>-0.000850</td>\n",
       "      <td>0.345028</td>\n",
       "      <td>0.731532</td>\n",
       "      <td>0.195404</td>\n",
       "      <td>0.009836</td>\n",
       "      <td>-0.424324</td>\n",
       "    </tr>\n",
       "    <tr>\n",
       "      <th>yr_built</th>\n",
       "      <td>0.021581</td>\n",
       "      <td>0.054284</td>\n",
       "      <td>0.160537</td>\n",
       "      <td>0.507557</td>\n",
       "      <td>0.318205</td>\n",
       "      <td>0.052639</td>\n",
       "      <td>0.489393</td>\n",
       "      <td>0.423980</td>\n",
       "      <td>1.000000</td>\n",
       "      <td>-0.346574</td>\n",
       "      <td>-0.147820</td>\n",
       "      <td>0.409648</td>\n",
       "      <td>0.326514</td>\n",
       "      <td>0.070552</td>\n",
       "      <td>-0.006642</td>\n",
       "      <td>-0.999873</td>\n",
       "    </tr>\n",
       "    <tr>\n",
       "      <th>zipcode</th>\n",
       "      <td>-0.008011</td>\n",
       "      <td>-0.053626</td>\n",
       "      <td>-0.158497</td>\n",
       "      <td>-0.204427</td>\n",
       "      <td>-0.199830</td>\n",
       "      <td>-0.129842</td>\n",
       "      <td>-0.058947</td>\n",
       "      <td>-0.261466</td>\n",
       "      <td>-0.346574</td>\n",
       "      <td>1.000000</td>\n",
       "      <td>0.266582</td>\n",
       "      <td>-0.564273</td>\n",
       "      <td>-0.279362</td>\n",
       "      <td>-0.147513</td>\n",
       "      <td>0.000431</td>\n",
       "      <td>0.346566</td>\n",
       "    </tr>\n",
       "    <tr>\n",
       "      <th>lat</th>\n",
       "      <td>-0.001969</td>\n",
       "      <td>0.307863</td>\n",
       "      <td>-0.012074</td>\n",
       "      <td>0.024508</td>\n",
       "      <td>0.052406</td>\n",
       "      <td>-0.085136</td>\n",
       "      <td>0.049460</td>\n",
       "      <td>-0.000850</td>\n",
       "      <td>-0.147820</td>\n",
       "      <td>0.266582</td>\n",
       "      <td>1.000000</td>\n",
       "      <td>-0.135409</td>\n",
       "      <td>0.048612</td>\n",
       "      <td>-0.086024</td>\n",
       "      <td>0.015309</td>\n",
       "      <td>0.147350</td>\n",
       "    </tr>\n",
       "    <tr>\n",
       "      <th>long</th>\n",
       "      <td>0.020609</td>\n",
       "      <td>0.022428</td>\n",
       "      <td>0.136845</td>\n",
       "      <td>0.225012</td>\n",
       "      <td>0.241842</td>\n",
       "      <td>0.230133</td>\n",
       "      <td>0.125298</td>\n",
       "      <td>0.345028</td>\n",
       "      <td>0.409648</td>\n",
       "      <td>-0.564273</td>\n",
       "      <td>-0.135409</td>\n",
       "      <td>1.000000</td>\n",
       "      <td>0.335994</td>\n",
       "      <td>0.255276</td>\n",
       "      <td>-0.008843</td>\n",
       "      <td>-0.409612</td>\n",
       "    </tr>\n",
       "    <tr>\n",
       "      <th>sqft_living15</th>\n",
       "      <td>-0.002741</td>\n",
       "      <td>0.585329</td>\n",
       "      <td>0.404017</td>\n",
       "      <td>0.569133</td>\n",
       "      <td>0.756206</td>\n",
       "      <td>0.145135</td>\n",
       "      <td>0.279147</td>\n",
       "      <td>0.731532</td>\n",
       "      <td>0.326514</td>\n",
       "      <td>-0.279362</td>\n",
       "      <td>0.048612</td>\n",
       "      <td>0.335994</td>\n",
       "      <td>1.000000</td>\n",
       "      <td>0.183943</td>\n",
       "      <td>0.002497</td>\n",
       "      <td>-0.326833</td>\n",
       "    </tr>\n",
       "    <tr>\n",
       "      <th>sqft_lot15</th>\n",
       "      <td>-0.138619</td>\n",
       "      <td>0.083194</td>\n",
       "      <td>0.032164</td>\n",
       "      <td>0.088848</td>\n",
       "      <td>0.184795</td>\n",
       "      <td>0.717095</td>\n",
       "      <td>-0.010863</td>\n",
       "      <td>0.195404</td>\n",
       "      <td>0.070552</td>\n",
       "      <td>-0.147513</td>\n",
       "      <td>-0.086024</td>\n",
       "      <td>0.255276</td>\n",
       "      <td>0.183943</td>\n",
       "      <td>1.000000</td>\n",
       "      <td>0.002599</td>\n",
       "      <td>-0.070539</td>\n",
       "    </tr>\n",
       "    <tr>\n",
       "      <th>month_sold</th>\n",
       "      <td>-0.012439</td>\n",
       "      <td>-0.009689</td>\n",
       "      <td>-0.000617</td>\n",
       "      <td>0.007129</td>\n",
       "      <td>0.011964</td>\n",
       "      <td>-0.003506</td>\n",
       "      <td>0.013774</td>\n",
       "      <td>0.009836</td>\n",
       "      <td>-0.006642</td>\n",
       "      <td>0.000431</td>\n",
       "      <td>0.015309</td>\n",
       "      <td>-0.008843</td>\n",
       "      <td>0.002497</td>\n",
       "      <td>0.002599</td>\n",
       "      <td>1.000000</td>\n",
       "      <td>-0.005803</td>\n",
       "    </tr>\n",
       "    <tr>\n",
       "      <th>age</th>\n",
       "      <td>-0.021414</td>\n",
       "      <td>-0.054224</td>\n",
       "      <td>-0.160674</td>\n",
       "      <td>-0.507939</td>\n",
       "      <td>-0.318642</td>\n",
       "      <td>-0.052537</td>\n",
       "      <td>-0.489710</td>\n",
       "      <td>-0.424324</td>\n",
       "      <td>-0.999873</td>\n",
       "      <td>0.346566</td>\n",
       "      <td>0.147350</td>\n",
       "      <td>-0.409612</td>\n",
       "      <td>-0.326833</td>\n",
       "      <td>-0.070539</td>\n",
       "      <td>-0.005803</td>\n",
       "      <td>1.000000</td>\n",
       "    </tr>\n",
       "  </tbody>\n",
       "</table>\n",
       "</div>"
      ],
      "text/plain": [
       "                     id     price  bedrooms  bathrooms  sqft_living  sqft_lot  \\\n",
       "id             1.000000 -0.017383  0.002169   0.004954    -0.012399 -0.132071   \n",
       "price         -0.017383  1.000000  0.315236   0.525063     0.701599  0.090341   \n",
       "bedrooms       0.002169  0.315236  1.000000   0.527764     0.592935  0.033875   \n",
       "bathrooms      0.004954  0.525063  0.527764   1.000000     0.755274  0.088916   \n",
       "sqft_living   -0.012399  0.701599  0.592935   0.755274     1.000000  0.173764   \n",
       "sqft_lot      -0.132071  0.090341  0.033875   0.088916     0.173764  1.000000   \n",
       "floors         0.018541  0.257069  0.183157   0.502277     0.353516 -0.005034   \n",
       "sqft_above    -0.010999  0.605719  0.492336   0.686170     0.876554  0.184319   \n",
       "yr_built       0.021581  0.054284  0.160537   0.507557     0.318205  0.052639   \n",
       "zipcode       -0.008011 -0.053626 -0.158497  -0.204427    -0.199830 -0.129842   \n",
       "lat           -0.001969  0.307863 -0.012074   0.024508     0.052406 -0.085136   \n",
       "long           0.020609  0.022428  0.136845   0.225012     0.241842  0.230133   \n",
       "sqft_living15 -0.002741  0.585329  0.404017   0.569133     0.756206  0.145135   \n",
       "sqft_lot15    -0.138619  0.083194  0.032164   0.088848     0.184795  0.717095   \n",
       "month_sold    -0.012439 -0.009689 -0.000617   0.007129     0.011964 -0.003506   \n",
       "age           -0.021414 -0.054224 -0.160674  -0.507939    -0.318642 -0.052537   \n",
       "\n",
       "                 floors  sqft_above  yr_built   zipcode       lat      long  \\\n",
       "id             0.018541   -0.010999  0.021581 -0.008011 -0.001969  0.020609   \n",
       "price          0.257069    0.605719  0.054284 -0.053626  0.307863  0.022428   \n",
       "bedrooms       0.183157    0.492336  0.160537 -0.158497 -0.012074  0.136845   \n",
       "bathrooms      0.502277    0.686170  0.507557 -0.204427  0.024508  0.225012   \n",
       "sqft_living    0.353516    0.876554  0.318205 -0.199830  0.052406  0.241842   \n",
       "sqft_lot      -0.005034    0.184319  0.052639 -0.129842 -0.085136  0.230133   \n",
       "floors         1.000000    0.523349  0.489393 -0.058947  0.049460  0.125298   \n",
       "sqft_above     0.523349    1.000000  0.423980 -0.261466 -0.000850  0.345028   \n",
       "yr_built       0.489393    0.423980  1.000000 -0.346574 -0.147820  0.409648   \n",
       "zipcode       -0.058947   -0.261466 -0.346574  1.000000  0.266582 -0.564273   \n",
       "lat            0.049460   -0.000850 -0.147820  0.266582  1.000000 -0.135409   \n",
       "long           0.125298    0.345028  0.409648 -0.564273 -0.135409  1.000000   \n",
       "sqft_living15  0.279147    0.731532  0.326514 -0.279362  0.048612  0.335994   \n",
       "sqft_lot15    -0.010863    0.195404  0.070552 -0.147513 -0.086024  0.255276   \n",
       "month_sold     0.013774    0.009836 -0.006642  0.000431  0.015309 -0.008843   \n",
       "age           -0.489710   -0.424324 -0.999873  0.346566  0.147350 -0.409612   \n",
       "\n",
       "               sqft_living15  sqft_lot15  month_sold       age  \n",
       "id                 -0.002741   -0.138619   -0.012439 -0.021414  \n",
       "price               0.585329    0.083194   -0.009689 -0.054224  \n",
       "bedrooms            0.404017    0.032164   -0.000617 -0.160674  \n",
       "bathrooms           0.569133    0.088848    0.007129 -0.507939  \n",
       "sqft_living         0.756206    0.184795    0.011964 -0.318642  \n",
       "sqft_lot            0.145135    0.717095   -0.003506 -0.052537  \n",
       "floors              0.279147   -0.010863    0.013774 -0.489710  \n",
       "sqft_above          0.731532    0.195404    0.009836 -0.424324  \n",
       "yr_built            0.326514    0.070552   -0.006642 -0.999873  \n",
       "zipcode            -0.279362   -0.147513    0.000431  0.346566  \n",
       "lat                 0.048612   -0.086024    0.015309  0.147350  \n",
       "long                0.335994    0.255276   -0.008843 -0.409612  \n",
       "sqft_living15       1.000000    0.183943    0.002497 -0.326833  \n",
       "sqft_lot15          0.183943    1.000000    0.002599 -0.070539  \n",
       "month_sold          0.002497    0.002599    1.000000 -0.005803  \n",
       "age                -0.326833   -0.070539   -0.005803  1.000000  "
      ]
     },
     "execution_count": 437,
     "metadata": {},
     "output_type": "execute_result"
    }
   ],
   "source": [
    "# Let's check for interactions between other features.\n",
    "corr = df.corr()\n",
    "corr"
   ]
  },
  {
   "cell_type": "markdown",
   "metadata": {},
   "source": [
    "## Correlation Matrix"
   ]
  },
  {
   "cell_type": "markdown",
   "metadata": {},
   "source": [
    "### Checking Correlations and Multicollinearity"
   ]
  },
  {
   "cell_type": "code",
   "execution_count": 496,
   "metadata": {
    "scrolled": true
   },
   "outputs": [
    {
     "data": {
      "image/png": "[encoded data removed]",
      "text/plain": [
       "<Figure size 1080x576 with 2 Axes>"
      ]
     },
     "metadata": {
      "needs_background": "light"
     },
     "output_type": "display_data"
    }
   ],
   "source": [
    "# Lets create a heatmap to check for correlations\n",
    "fig, ax = plt.subplots(figsize=(15,8))\n",
    "ax= sns.heatmap(df.corr(), annot=True, cmap=\"crest\")\n",
    "plt.title(\"Correlation between features\",weight='bold',fontsize=18);"
   ]
  },
  {
   "cell_type": "code",
   "execution_count": 439,
   "metadata": {},
   "outputs": [
    {
     "data": {
      "image/png": "[encoded data removed]",
      "text/plain": [
       "<Figure size 504x432 with 2 Axes>"
      ]
     },
     "metadata": {
      "needs_background": "light"
     },
     "output_type": "display_data"
    }
   ],
   "source": [
    "plt.figure(figsize=(7,6))\n",
    "mask = np.triu(np.ones_like(corr, dtype=bool))\n",
    "sns.heatmap(df.corr(), cmap= 'coolwarm', mask= mask, linewidth= 1)\n",
    "plt.title(\"Correlation between features\",weight='bold',fontsize=18)\n",
    "plt.show()\n"
   ]
  },
  {
   "cell_type": "markdown",
   "metadata": {},
   "source": [
    "From the heat map, the most correlated factors with price are sqft_living, sqft_above, sqft_living15 and bathrooms."
   ]
  },
  {
   "cell_type": "markdown",
   "metadata": {},
   "source": [
    "### One-hot Encoding"
   ]
  },
  {
   "cell_type": "markdown",
   "metadata": {},
   "source": [
    "We would also expect the condition of the house to affect its price. Let's verify this"
   ]
  },
  {
   "cell_type": "code",
   "execution_count": 440,
   "metadata": {
    "scrolled": false
   },
   "outputs": [
    {
     "data": {
      "text/plain": [
       "Average      13981\n",
       "Good          5657\n",
       "Very Good     1696\n",
       "Fair           170\n",
       "Poor            29\n",
       "Name: condition, dtype: int64"
      ]
     },
     "execution_count": 440,
     "metadata": {},
     "output_type": "execute_result"
    }
   ],
   "source": [
    "df['condition'].value_counts()"
   ]
  },
  {
   "cell_type": "code",
   "execution_count": 441,
   "metadata": {
    "scrolled": true
   },
   "outputs": [
    {
     "data": {
      "image/png": "[encoded data removed]",
      "text/plain": [
       "<Figure size 432x288 with 1 Axes>"
      ]
     },
     "metadata": {
      "needs_background": "light"
     },
     "output_type": "display_data"
    }
   ],
   "source": [
    "# Create a scatter plot to show the relationship between the condition of house and the price\n",
    "plt.scatter(df['condition'], df['price'], color='brown')\n",
    "plt.title('Relationship between price and condition')\n",
    "plt.xlabel('Condition rating')\n",
    "plt.ylabel('Price')\n",
    "plt.grid(color='purple',\n",
    "         alpha=0.1,\n",
    "         linestyle='-.',\n",
    "         linewidth=2);"
   ]
  },
  {
   "cell_type": "markdown",
   "metadata": {},
   "source": [
    "Surprisingly, houses with average conditions tend to be sold at higher prices as compared to the houses with very good conditions."
   ]
  },
  {
   "cell_type": "code",
   "execution_count": 502,
   "metadata": {
    "scrolled": true
   },
   "outputs": [
    {
     "data": {
      "image/png": "[encoded data removed]",
      "text/plain": [
       "<Figure size 900x180 with 5 Axes>"
      ]
     },
     "metadata": {
      "needs_background": "light"
     },
     "output_type": "display_data"
    }
   ],
   "source": [
    "sns.pairplot(data=df, x_vars=['sqft_lot','sqft_above','sqft_living','sqft_living15','sqft_lot15'], y_vars=[\"price\"]);"
   ]
  },
  {
   "cell_type": "markdown",
   "metadata": {},
   "source": [
    "We can see that sqft_lot size is not well correlated to price but the data for living space is reasonable. Visually the best feature to use looks like sqft_living as we expected because it has a stronger linear relationship with price."
   ]
  },
  {
   "cell_type": "code",
   "execution_count": 443,
   "metadata": {
    "scrolled": true
   },
   "outputs": [
    {
     "data": {
      "text/html": [
       "<div>\n",
       "<style scoped>\n",
       "    .dataframe tbody tr th:only-of-type {\n",
       "        vertical-align: middle;\n",
       "    }\n",
       "\n",
       "    .dataframe tbody tr th {\n",
       "        vertical-align: top;\n",
       "    }\n",
       "\n",
       "    .dataframe thead th {\n",
       "        text-align: right;\n",
       "    }\n",
       "</style>\n",
       "<table border=\"1\" class=\"dataframe\">\n",
       "  <thead>\n",
       "    <tr style=\"text-align: right;\">\n",
       "      <th></th>\n",
       "      <th>price</th>\n",
       "      <th>sqft_living</th>\n",
       "    </tr>\n",
       "  </thead>\n",
       "  <tbody>\n",
       "    <tr>\n",
       "      <th>0</th>\n",
       "      <td>221900.0</td>\n",
       "      <td>1180</td>\n",
       "    </tr>\n",
       "    <tr>\n",
       "      <th>1</th>\n",
       "      <td>538000.0</td>\n",
       "      <td>2570</td>\n",
       "    </tr>\n",
       "    <tr>\n",
       "      <th>2</th>\n",
       "      <td>180000.0</td>\n",
       "      <td>770</td>\n",
       "    </tr>\n",
       "    <tr>\n",
       "      <th>3</th>\n",
       "      <td>604000.0</td>\n",
       "      <td>1960</td>\n",
       "    </tr>\n",
       "    <tr>\n",
       "      <th>4</th>\n",
       "      <td>510000.0</td>\n",
       "      <td>1680</td>\n",
       "    </tr>\n",
       "  </tbody>\n",
       "</table>\n",
       "</div>"
      ],
      "text/plain": [
       "      price  sqft_living\n",
       "0  221900.0         1180\n",
       "1  538000.0         2570\n",
       "2  180000.0          770\n",
       "3  604000.0         1960\n",
       "4  510000.0         1680"
      ]
     },
     "execution_count": 443,
     "metadata": {},
     "output_type": "execute_result"
    }
   ],
   "source": [
    "# Lets pull that data out of the data-frame into a new frame\n",
    "data = df[[\"price\", \"sqft_living\"]]\n",
    "data.head()"
   ]
  },
  {
   "cell_type": "markdown",
   "metadata": {},
   "source": [
    "# Multiple Linear Regression Assumptions"
   ]
  },
  {
   "cell_type": "markdown",
   "metadata": {},
   "source": [
    "There are four assumptions that must be checked as part of the multiple linear regression analysis process:\n",
    "\n",
    "1. No multicollinearity\n",
    "2. Linear relationship between explanatory and response variables\n",
    "3. Homoscedasticity of error terms\n",
    "4. Normal distribution of model residuals"
   ]
  },
  {
   "cell_type": "markdown",
   "metadata": {},
   "source": [
    "## Let's Start with a Simple Linear Regression Model"
   ]
  },
  {
   "cell_type": "markdown",
   "metadata": {},
   "source": [
    "Since `sqft_living` is the feature with the strongest correlation, let's build a simple linear regression with that.\n",
    "\n",
    "$$ \\hat{y} = \\hat{\\beta_0} + \\hat{\\beta_1} x $$"
   ]
  },
  {
   "cell_type": "code",
   "execution_count": 505,
   "metadata": {},
   "outputs": [
    {
     "data": {
      "image/png": "[encoded data removed]",
      "text/plain": [
       "<Figure size 432x288 with 1 Axes>"
      ]
     },
     "metadata": {
      "needs_background": "light"
     },
     "output_type": "display_data"
    }
   ],
   "source": [
    "# scatter plot sqft_living and price\n",
    "df.plot.scatter(x=\"sqft_living\", y=\"price\");"
   ]
  },
  {
   "cell_type": "code",
   "execution_count": 508,
   "metadata": {
    "scrolled": true
   },
   "outputs": [
    {
     "data": {
      "text/plain": [
       "id              -0.017383\n",
       "price            1.000000\n",
       "bedrooms         0.315236\n",
       "bathrooms        0.525063\n",
       "sqft_living      0.701599\n",
       "sqft_lot         0.090341\n",
       "floors           0.257069\n",
       "sqft_above       0.605719\n",
       "yr_built         0.054284\n",
       "zipcode         -0.053626\n",
       "lat              0.307863\n",
       "long             0.022428\n",
       "sqft_living15    0.585329\n",
       "sqft_lot15       0.083194\n",
       "Name: price, dtype: float64"
      ]
     },
     "execution_count": 508,
     "metadata": {},
     "output_type": "execute_result"
    }
   ],
   "source": [
    "corr = df.corr()['price']\n",
    "corr"
   ]
  },
  {
   "cell_type": "code",
   "execution_count": 509,
   "metadata": {},
   "outputs": [],
   "source": [
    "most_correlated = 'sqft_living'"
   ]
  },
  {
   "cell_type": "code",
   "execution_count": 510,
   "metadata": {},
   "outputs": [
    {
     "name": "stdout",
     "output_type": "stream",
     "text": [
      "                            OLS Regression Results                            \n",
      "==============================================================================\n",
      "Dep. Variable:                  price   R-squared:                       0.492\n",
      "Model:                            OLS   Adj. R-squared:                  0.492\n",
      "Method:                 Least Squares   F-statistic:                 2.087e+04\n",
      "Date:                Thu, 20 Apr 2023   Prob (F-statistic):               0.00\n",
      "Time:                        03:22:24   Log-Likelihood:            -2.9911e+05\n",
      "No. Observations:               21533   AIC:                         5.982e+05\n",
      "Df Residuals:                   21531   BIC:                         5.982e+05\n",
      "Df Model:                           1                                         \n",
      "Covariance Type:            nonrobust                                         \n",
      "===============================================================================\n",
      "                  coef    std err          t      P>|t|      [0.025      0.975]\n",
      "-------------------------------------------------------------------------------\n",
      "const       -4.218e+04   4404.621     -9.575      0.000   -5.08e+04   -3.35e+04\n",
      "sqft_living   279.9379      1.938    144.475      0.000     276.140     283.736\n",
      "==============================================================================\n",
      "Omnibus:                    14581.827   Durbin-Watson:                   1.981\n",
      "Prob(Omnibus):                  0.000   Jarque-Bera (JB):           516123.571\n",
      "Skew:                           2.781   Prob(JB):                         0.00\n",
      "Kurtosis:                      26.331   Cond. No.                     5.63e+03\n",
      "==============================================================================\n",
      "\n",
      "Notes:\n",
      "[1] Standard Errors assume that the covariance matrix of the errors is correctly specified.\n",
      "[2] The condition number is large, 5.63e+03. This might indicate that there are\n",
      "strong multicollinearity or other numerical problems.\n"
     ]
    }
   ],
   "source": [
    "#Declaring Variables\n",
    "y = df['price']\n",
    "X_baseline = df['sqft_living']\n",
    "\n",
    "#Fitting model\n",
    "baseline_model = sm.OLS(y, sm.add_constant(X_baseline))\n",
    "baseline_results = baseline_model.fit()\n",
    "\n",
    "#Printing Results\n",
    "print(baseline_results.summary())"
   ]
  },
  {
   "cell_type": "markdown",
   "metadata": {},
   "source": [
    "Looking at the summary above, we can see that the regression line we found was\n",
    "$$ \\hat{price} = -42180 + 279.9379 sqft_living area $$\n",
    "* The model is statistically significant overall, with an F-statistic p-value well below 0.05\n",
    "* The model explains about 50% of the variance in price\n",
    "* The model coefficients (`const` and sqft_living) are both statistically significant, with t-statistic p-values well below 0.05\n",
    "* If a house had 0 sqft_living, we would expect price to be about −42180\n",
    "* For each increase of 1 sqft_living, we see an associated increase of about 279.9379"
   ]
  },
  {
   "cell_type": "markdown",
   "metadata": {},
   "source": [
    "**Mean absolute error**"
   ]
  },
  {
   "cell_type": "code",
   "execution_count": 511,
   "metadata": {},
   "outputs": [
    {
     "data": {
      "text/plain": [
       "173560.9130941134"
      ]
     },
     "execution_count": 511,
     "metadata": {},
     "output_type": "execute_result"
    }
   ],
   "source": [
    "#Calculating mean absolute error\n",
    "baseline_mae = mean_absolute_error(y, baseline_results.predict(sm.add_constant(X_baseline)))\n",
    "baseline_mae"
   ]
  },
  {
   "cell_type": "markdown",
   "metadata": {},
   "source": [
    "## Multiple Linear Regression Model"
   ]
  },
  {
   "cell_type": "code",
   "execution_count": 513,
   "metadata": {},
   "outputs": [
    {
     "data": {
      "image/png": "[encoded data removed]",
      "text/plain": [
       "<Figure size 576x288 with 1 Axes>"
      ]
     },
     "metadata": {
      "needs_background": "light"
     },
     "output_type": "display_data"
    },
    {
     "data": {
      "image/png": "[encoded data removed]",
      "text/plain": [
       "<Figure size 576x288 with 1 Axes>"
      ]
     },
     "metadata": {
      "needs_background": "light"
     },
     "output_type": "display_data"
    },
    {
     "data": {
      "image/png": "[encoded data removed]",
      "text/plain": [
       "<Figure size 576x288 with 1 Axes>"
      ]
     },
     "metadata": {
      "needs_background": "light"
     },
     "output_type": "display_data"
    },
    {
     "data": {
      "image/png": "[encoded data removed]",
      "text/plain": [
       "<Figure size 576x288 with 1 Axes>"
      ]
     },
     "metadata": {
      "needs_background": "light"
     },
     "output_type": "display_data"
    }
   ],
   "source": [
    "# Select the categorical features\n",
    "categorical_features = ['waterfront', 'view', 'condition', 'grade']\n",
    "\n",
    "# Create bar graphs for each categorical feature\n",
    "for feature in categorical_features:\n",
    "    plt.figure(figsize=(8, 4))\n",
    "    df.groupby(feature)['price'].mean().plot(kind='bar')\n",
    "    plt.title(feature)\n",
    "    plt.xlabel(feature)\n",
    "    plt.ylabel('Price')\n",
    "    plt.show()"
   ]
  },
  {
   "cell_type": "code",
   "execution_count": 450,
   "metadata": {},
   "outputs": [],
   "source": [
    "cat_col = 'grade'"
   ]
  },
  {
   "cell_type": "code",
   "execution_count": 451,
   "metadata": {},
   "outputs": [
    {
     "data": {
      "text/html": [
       "<div>\n",
       "<style scoped>\n",
       "    .dataframe tbody tr th:only-of-type {\n",
       "        vertical-align: middle;\n",
       "    }\n",
       "\n",
       "    .dataframe tbody tr th {\n",
       "        vertical-align: top;\n",
       "    }\n",
       "\n",
       "    .dataframe thead th {\n",
       "        text-align: right;\n",
       "    }\n",
       "</style>\n",
       "<table border=\"1\" class=\"dataframe\">\n",
       "  <thead>\n",
       "    <tr style=\"text-align: right;\">\n",
       "      <th></th>\n",
       "      <th>sqft_living</th>\n",
       "      <th>grade</th>\n",
       "    </tr>\n",
       "  </thead>\n",
       "  <tbody>\n",
       "    <tr>\n",
       "      <th>0</th>\n",
       "      <td>1180</td>\n",
       "      <td>7 Average</td>\n",
       "    </tr>\n",
       "    <tr>\n",
       "      <th>1</th>\n",
       "      <td>2570</td>\n",
       "      <td>7 Average</td>\n",
       "    </tr>\n",
       "    <tr>\n",
       "      <th>2</th>\n",
       "      <td>770</td>\n",
       "      <td>6 Low Average</td>\n",
       "    </tr>\n",
       "    <tr>\n",
       "      <th>3</th>\n",
       "      <td>1960</td>\n",
       "      <td>7 Average</td>\n",
       "    </tr>\n",
       "    <tr>\n",
       "      <th>4</th>\n",
       "      <td>1680</td>\n",
       "      <td>8 Good</td>\n",
       "    </tr>\n",
       "    <tr>\n",
       "      <th>...</th>\n",
       "      <td>...</td>\n",
       "      <td>...</td>\n",
       "    </tr>\n",
       "    <tr>\n",
       "      <th>21592</th>\n",
       "      <td>1530</td>\n",
       "      <td>8 Good</td>\n",
       "    </tr>\n",
       "    <tr>\n",
       "      <th>21593</th>\n",
       "      <td>2310</td>\n",
       "      <td>8 Good</td>\n",
       "    </tr>\n",
       "    <tr>\n",
       "      <th>21594</th>\n",
       "      <td>1020</td>\n",
       "      <td>7 Average</td>\n",
       "    </tr>\n",
       "    <tr>\n",
       "      <th>21595</th>\n",
       "      <td>1600</td>\n",
       "      <td>8 Good</td>\n",
       "    </tr>\n",
       "    <tr>\n",
       "      <th>21596</th>\n",
       "      <td>1020</td>\n",
       "      <td>7 Average</td>\n",
       "    </tr>\n",
       "  </tbody>\n",
       "</table>\n",
       "<p>21533 rows × 2 columns</p>\n",
       "</div>"
      ],
      "text/plain": [
       "       sqft_living          grade\n",
       "0             1180      7 Average\n",
       "1             2570      7 Average\n",
       "2              770  6 Low Average\n",
       "3             1960      7 Average\n",
       "4             1680         8 Good\n",
       "...            ...            ...\n",
       "21592         1530         8 Good\n",
       "21593         2310         8 Good\n",
       "21594         1020      7 Average\n",
       "21595         1600         8 Good\n",
       "21596         1020      7 Average\n",
       "\n",
       "[21533 rows x 2 columns]"
      ]
     },
     "execution_count": 451,
     "metadata": {},
     "output_type": "execute_result"
    }
   ],
   "source": [
    "X_iterated = df[[most_correlated, cat_col]]\n",
    "X_iterated "
   ]
  },
  {
   "cell_type": "markdown",
   "metadata": {},
   "source": [
    "### Preprocessing Categorical Variable"
   ]
  },
  {
   "cell_type": "code",
   "execution_count": 452,
   "metadata": {
    "scrolled": true
   },
   "outputs": [
    {
     "data": {
      "text/html": [
       "<div>\n",
       "<style scoped>\n",
       "    .dataframe tbody tr th:only-of-type {\n",
       "        vertical-align: middle;\n",
       "    }\n",
       "\n",
       "    .dataframe tbody tr th {\n",
       "        vertical-align: top;\n",
       "    }\n",
       "\n",
       "    .dataframe thead th {\n",
       "        text-align: right;\n",
       "    }\n",
       "</style>\n",
       "<table border=\"1\" class=\"dataframe\">\n",
       "  <thead>\n",
       "    <tr style=\"text-align: right;\">\n",
       "      <th></th>\n",
       "      <th>sqft_living</th>\n",
       "      <th>grade_11 Excellent</th>\n",
       "      <th>grade_12 Luxury</th>\n",
       "      <th>grade_13 Mansion</th>\n",
       "      <th>grade_3 Poor</th>\n",
       "      <th>grade_4 Low</th>\n",
       "      <th>grade_5 Fair</th>\n",
       "      <th>grade_6 Low Average</th>\n",
       "      <th>grade_7 Average</th>\n",
       "      <th>grade_8 Good</th>\n",
       "      <th>grade_9 Better</th>\n",
       "    </tr>\n",
       "  </thead>\n",
       "  <tbody>\n",
       "    <tr>\n",
       "      <th>0</th>\n",
       "      <td>1180</td>\n",
       "      <td>0</td>\n",
       "      <td>0</td>\n",
       "      <td>0</td>\n",
       "      <td>0</td>\n",
       "      <td>0</td>\n",
       "      <td>0</td>\n",
       "      <td>0</td>\n",
       "      <td>1</td>\n",
       "      <td>0</td>\n",
       "      <td>0</td>\n",
       "    </tr>\n",
       "    <tr>\n",
       "      <th>1</th>\n",
       "      <td>2570</td>\n",
       "      <td>0</td>\n",
       "      <td>0</td>\n",
       "      <td>0</td>\n",
       "      <td>0</td>\n",
       "      <td>0</td>\n",
       "      <td>0</td>\n",
       "      <td>0</td>\n",
       "      <td>1</td>\n",
       "      <td>0</td>\n",
       "      <td>0</td>\n",
       "    </tr>\n",
       "    <tr>\n",
       "      <th>2</th>\n",
       "      <td>770</td>\n",
       "      <td>0</td>\n",
       "      <td>0</td>\n",
       "      <td>0</td>\n",
       "      <td>0</td>\n",
       "      <td>0</td>\n",
       "      <td>0</td>\n",
       "      <td>1</td>\n",
       "      <td>0</td>\n",
       "      <td>0</td>\n",
       "      <td>0</td>\n",
       "    </tr>\n",
       "    <tr>\n",
       "      <th>3</th>\n",
       "      <td>1960</td>\n",
       "      <td>0</td>\n",
       "      <td>0</td>\n",
       "      <td>0</td>\n",
       "      <td>0</td>\n",
       "      <td>0</td>\n",
       "      <td>0</td>\n",
       "      <td>0</td>\n",
       "      <td>1</td>\n",
       "      <td>0</td>\n",
       "      <td>0</td>\n",
       "    </tr>\n",
       "    <tr>\n",
       "      <th>4</th>\n",
       "      <td>1680</td>\n",
       "      <td>0</td>\n",
       "      <td>0</td>\n",
       "      <td>0</td>\n",
       "      <td>0</td>\n",
       "      <td>0</td>\n",
       "      <td>0</td>\n",
       "      <td>0</td>\n",
       "      <td>0</td>\n",
       "      <td>1</td>\n",
       "      <td>0</td>\n",
       "    </tr>\n",
       "    <tr>\n",
       "      <th>...</th>\n",
       "      <td>...</td>\n",
       "      <td>...</td>\n",
       "      <td>...</td>\n",
       "      <td>...</td>\n",
       "      <td>...</td>\n",
       "      <td>...</td>\n",
       "      <td>...</td>\n",
       "      <td>...</td>\n",
       "      <td>...</td>\n",
       "      <td>...</td>\n",
       "      <td>...</td>\n",
       "    </tr>\n",
       "    <tr>\n",
       "      <th>21592</th>\n",
       "      <td>1530</td>\n",
       "      <td>0</td>\n",
       "      <td>0</td>\n",
       "      <td>0</td>\n",
       "      <td>0</td>\n",
       "      <td>0</td>\n",
       "      <td>0</td>\n",
       "      <td>0</td>\n",
       "      <td>0</td>\n",
       "      <td>1</td>\n",
       "      <td>0</td>\n",
       "    </tr>\n",
       "    <tr>\n",
       "      <th>21593</th>\n",
       "      <td>2310</td>\n",
       "      <td>0</td>\n",
       "      <td>0</td>\n",
       "      <td>0</td>\n",
       "      <td>0</td>\n",
       "      <td>0</td>\n",
       "      <td>0</td>\n",
       "      <td>0</td>\n",
       "      <td>0</td>\n",
       "      <td>1</td>\n",
       "      <td>0</td>\n",
       "    </tr>\n",
       "    <tr>\n",
       "      <th>21594</th>\n",
       "      <td>1020</td>\n",
       "      <td>0</td>\n",
       "      <td>0</td>\n",
       "      <td>0</td>\n",
       "      <td>0</td>\n",
       "      <td>0</td>\n",
       "      <td>0</td>\n",
       "      <td>0</td>\n",
       "      <td>1</td>\n",
       "      <td>0</td>\n",
       "      <td>0</td>\n",
       "    </tr>\n",
       "    <tr>\n",
       "      <th>21595</th>\n",
       "      <td>1600</td>\n",
       "      <td>0</td>\n",
       "      <td>0</td>\n",
       "      <td>0</td>\n",
       "      <td>0</td>\n",
       "      <td>0</td>\n",
       "      <td>0</td>\n",
       "      <td>0</td>\n",
       "      <td>0</td>\n",
       "      <td>1</td>\n",
       "      <td>0</td>\n",
       "    </tr>\n",
       "    <tr>\n",
       "      <th>21596</th>\n",
       "      <td>1020</td>\n",
       "      <td>0</td>\n",
       "      <td>0</td>\n",
       "      <td>0</td>\n",
       "      <td>0</td>\n",
       "      <td>0</td>\n",
       "      <td>0</td>\n",
       "      <td>0</td>\n",
       "      <td>1</td>\n",
       "      <td>0</td>\n",
       "      <td>0</td>\n",
       "    </tr>\n",
       "  </tbody>\n",
       "</table>\n",
       "<p>21533 rows × 11 columns</p>\n",
       "</div>"
      ],
      "text/plain": [
       "       sqft_living  grade_11 Excellent  grade_12 Luxury  grade_13 Mansion  \\\n",
       "0             1180                   0                0                 0   \n",
       "1             2570                   0                0                 0   \n",
       "2              770                   0                0                 0   \n",
       "3             1960                   0                0                 0   \n",
       "4             1680                   0                0                 0   \n",
       "...            ...                 ...              ...               ...   \n",
       "21592         1530                   0                0                 0   \n",
       "21593         2310                   0                0                 0   \n",
       "21594         1020                   0                0                 0   \n",
       "21595         1600                   0                0                 0   \n",
       "21596         1020                   0                0                 0   \n",
       "\n",
       "       grade_3 Poor  grade_4 Low  grade_5 Fair  grade_6 Low Average  \\\n",
       "0                 0            0             0                    0   \n",
       "1                 0            0             0                    0   \n",
       "2                 0            0             0                    1   \n",
       "3                 0            0             0                    0   \n",
       "4                 0            0             0                    0   \n",
       "...             ...          ...           ...                  ...   \n",
       "21592             0            0             0                    0   \n",
       "21593             0            0             0                    0   \n",
       "21594             0            0             0                    0   \n",
       "21595             0            0             0                    0   \n",
       "21596             0            0             0                    0   \n",
       "\n",
       "       grade_7 Average  grade_8 Good  grade_9 Better  \n",
       "0                    1             0               0  \n",
       "1                    1             0               0  \n",
       "2                    0             0               0  \n",
       "3                    1             0               0  \n",
       "4                    0             1               0  \n",
       "...                ...           ...             ...  \n",
       "21592                0             1               0  \n",
       "21593                0             1               0  \n",
       "21594                1             0               0  \n",
       "21595                0             1               0  \n",
       "21596                1             0               0  \n",
       "\n",
       "[21533 rows x 11 columns]"
      ]
     },
     "execution_count": 452,
     "metadata": {},
     "output_type": "execute_result"
    }
   ],
   "source": [
    "# Use pd.get_dummies to one-hot encode the categorical column in X_iterated\n",
    "X_iterated = pd.get_dummies(X_iterated, columns=[cat_col],drop_first=True)\n",
    "X_iterated"
   ]
  },
  {
   "cell_type": "code",
   "execution_count": 453,
   "metadata": {
    "scrolled": true
   },
   "outputs": [
    {
     "name": "stdout",
     "output_type": "stream",
     "text": [
      "                            OLS Regression Results                            \n",
      "==============================================================================\n",
      "Dep. Variable:                  price   R-squared:                       0.581\n",
      "Model:                            OLS   Adj. R-squared:                  0.581\n",
      "Method:                 Least Squares   F-statistic:                     2713.\n",
      "Date:                Thu, 20 Apr 2023   Prob (F-statistic):               0.00\n",
      "Time:                        02:54:53   Log-Likelihood:            -2.9704e+05\n",
      "No. Observations:               21533   AIC:                         5.941e+05\n",
      "Df Residuals:                   21521   BIC:                         5.942e+05\n",
      "Df Model:                          11                                         \n",
      "Covariance Type:            nonrobust                                         \n",
      "=======================================================================================\n",
      "                          coef    std err          t      P>|t|      [0.025      0.975]\n",
      "---------------------------------------------------------------------------------------\n",
      "const                 5.21e+05   1.21e+04     43.214      0.000    4.97e+05    5.45e+05\n",
      "sqft_living           156.6554      2.779     56.368      0.000     151.208     162.103\n",
      "grade_11 Excellent   2.877e+05    1.4e+04     20.492      0.000     2.6e+05    3.15e+05\n",
      "grade_12 Luxury      7.914e+05   2.68e+04     29.556      0.000    7.39e+05    8.44e+05\n",
      "grade_13 Mansion     2.018e+06    6.7e+04     30.103      0.000    1.89e+06    2.15e+06\n",
      "grade_3 Poor        -3.404e+05   2.37e+05     -1.435      0.151   -8.05e+05    1.25e+05\n",
      "grade_4 Low         -4.156e+05   4.68e+04     -8.876      0.000   -5.07e+05   -3.24e+05\n",
      "grade_5 Fair        -4.265e+05   1.82e+04    -23.426      0.000   -4.62e+05   -3.91e+05\n",
      "grade_6 Low Average -4.057e+05   1.09e+04    -37.164      0.000   -4.27e+05   -3.84e+05\n",
      "grade_7 Average     -3.831e+05   9046.586    -42.343      0.000   -4.01e+05   -3.65e+05\n",
      "grade_8 Good        -3.202e+05   8527.997    -37.549      0.000   -3.37e+05   -3.03e+05\n",
      "grade_9 Better      -1.962e+05   8633.628    -22.722      0.000   -2.13e+05   -1.79e+05\n",
      "==============================================================================\n",
      "Omnibus:                    13709.803   Durbin-Watson:                   1.987\n",
      "Prob(Omnibus):                  0.000   Jarque-Bera (JB):           456230.736\n",
      "Skew:                           2.553   Prob(JB):                         0.00\n",
      "Kurtosis:                      24.964   Cond. No.                     3.34e+05\n",
      "==============================================================================\n",
      "\n",
      "Notes:\n",
      "[1] Standard Errors assume that the covariance matrix of the errors is correctly specified.\n",
      "[2] The condition number is large, 3.34e+05. This might indicate that there are\n",
      "strong multicollinearity or other numerical problems.\n"
     ]
    }
   ],
   "source": [
    "iterated_model = sm.OLS(y, sm.add_constant(X_iterated))\n",
    "iterated_results = iterated_model.fit()\n",
    "print(iterated_results.summary())"
   ]
  },
  {
   "cell_type": "markdown",
   "metadata": {},
   "source": [
    "Our new model is statistically significant overall, and explains about 58% of the\n",
    "variance in price. This is about 9% more variance explained than the simple\n",
    "model.\n",
    "\n",
    "All the variables have a p_value of less than alpha = 0.05 except grade_3 Poor therefore they are statistically significant.\n",
    "\n",
    "So, we have an improvement in terms of variance explained (R-Squared), but also\n",
    "some values are not statistically significant.\n"
   ]
  },
  {
   "cell_type": "code",
   "execution_count": 454,
   "metadata": {},
   "outputs": [],
   "source": [
    "X_many = df[[\"sqft_living\", \"bedrooms\", \"view\", \"waterfront\", \"grade\"]]\n",
    "X_many = pd.get_dummies(X_many, columns=['view', 'waterfront', 'grade'], drop_first=True)"
   ]
  },
  {
   "cell_type": "code",
   "execution_count": 455,
   "metadata": {},
   "outputs": [
    {
     "name": "stdout",
     "output_type": "stream",
     "text": [
      "                            OLS Regression Results                            \n",
      "==============================================================================\n",
      "Dep. Variable:                  price   R-squared:                       0.630\n",
      "Model:                            OLS   Adj. R-squared:                  0.630\n",
      "Method:                 Least Squares   F-statistic:                     2155.\n",
      "Date:                Thu, 20 Apr 2023   Prob (F-statistic):               0.00\n",
      "Time:                        02:54:54   Log-Likelihood:            -2.9570e+05\n",
      "No. Observations:               21533   AIC:                         5.914e+05\n",
      "Df Residuals:                   21515   BIC:                         5.916e+05\n",
      "Df Model:                          17                                         \n",
      "Covariance Type:            nonrobust                                         \n",
      "=======================================================================================\n",
      "                          coef    std err          t      P>|t|      [0.025      0.975]\n",
      "---------------------------------------------------------------------------------------\n",
      "const                6.388e+05   1.37e+04     46.655      0.000    6.12e+05    6.66e+05\n",
      "sqft_living           153.5203      3.170     48.422      0.000     147.306     159.735\n",
      "bedrooms            -1.526e+04   2186.221     -6.979      0.000   -1.95e+04    -1.1e+04\n",
      "view_EXCELLENT       2.289e+05   1.69e+04     13.537      0.000    1.96e+05    2.62e+05\n",
      "view_FAIR             6.61e+04   1.42e+04      4.646      0.000    3.82e+04     9.4e+04\n",
      "view_GOOD            6.321e+04   1.23e+04      5.156      0.000    3.92e+04    8.72e+04\n",
      "view_NONE           -1.046e+05   7478.796    -13.984      0.000   -1.19e+05   -8.99e+04\n",
      "waterfront_YES       5.137e+05   2.27e+04     22.648      0.000    4.69e+05    5.58e+05\n",
      "grade_11 Excellent   2.565e+05   1.32e+04     19.380      0.000    2.31e+05    2.82e+05\n",
      "grade_12 Luxury      6.897e+05   2.54e+04     27.187      0.000     6.4e+05    7.39e+05\n",
      "grade_13 Mansion     1.975e+06   6.32e+04     31.229      0.000    1.85e+06     2.1e+06\n",
      "grade_3 Poor        -3.367e+05   2.23e+05     -1.510      0.131   -7.74e+05       1e+05\n",
      "grade_4 Low         -4.189e+05    4.4e+04     -9.516      0.000   -5.05e+05   -3.33e+05\n",
      "grade_5 Fair        -4.189e+05   1.71e+04    -24.425      0.000   -4.52e+05   -3.85e+05\n",
      "grade_6 Low Average -3.833e+05   1.04e+04    -37.015      0.000   -4.04e+05   -3.63e+05\n",
      "grade_7 Average     -3.495e+05   8688.575    -40.226      0.000   -3.67e+05   -3.32e+05\n",
      "grade_8 Good         -2.93e+05   8140.892    -35.986      0.000   -3.09e+05   -2.77e+05\n",
      "grade_9 Better      -1.764e+05   8161.220    -21.616      0.000   -1.92e+05    -1.6e+05\n",
      "==============================================================================\n",
      "Omnibus:                    11830.115   Durbin-Watson:                   1.981\n",
      "Prob(Omnibus):                  0.000   Jarque-Bera (JB):           329130.541\n",
      "Skew:                           2.108   Prob(JB):                         0.00\n",
      "Kurtosis:                      21.683   Cond. No.                     3.34e+05\n",
      "==============================================================================\n",
      "\n",
      "Notes:\n",
      "[1] Standard Errors assume that the covariance matrix of the errors is correctly specified.\n",
      "[2] The condition number is large, 3.34e+05. This might indicate that there are\n",
      "strong multicollinearity or other numerical problems.\n"
     ]
    }
   ],
   "source": [
    "final_model = sm.OLS(y, sm.add_constant(X_many))\n",
    "final_results = final_model.fit()\n",
    "print(final_results.summary())"
   ]
  },
  {
   "cell_type": "code",
   "execution_count": 456,
   "metadata": {},
   "outputs": [
    {
     "data": {
      "text/plain": [
       "(173560.9130941134, 149171.08645855743)"
      ]
     },
     "execution_count": 456,
     "metadata": {},
     "output_type": "execute_result"
    }
   ],
   "source": [
    "#Final mae\n",
    "final_mae = mean_absolute_error(y, final_results.predict(sm.add_constant(X_many)))\n",
    "baseline_mae, final_mae"
   ]
  },
  {
   "cell_type": "code",
   "execution_count": 457,
   "metadata": {},
   "outputs": [
    {
     "data": {
      "text/plain": [
       "(0.49221748940398835, 0.6297356474578691)"
      ]
     },
     "execution_count": 457,
     "metadata": {},
     "output_type": "execute_result"
    }
   ],
   "source": [
    "baseline_results.rsquared_adj, final_results.rsquared_adj"
   ]
  },
  {
   "cell_type": "markdown",
   "metadata": {},
   "source": [
    "Overall the model performed marginally better. We were off by about 149171 rather than 173560 in a given prediction, and explained 62.9% rather than 49.2% of the\n",
    "variance in price."
   ]
  },
  {
   "cell_type": "code",
   "execution_count": 458,
   "metadata": {},
   "outputs": [
    {
     "data": {
      "text/html": [
       "<div>\n",
       "<style scoped>\n",
       "    .dataframe tbody tr th:only-of-type {\n",
       "        vertical-align: middle;\n",
       "    }\n",
       "\n",
       "    .dataframe tbody tr th {\n",
       "        vertical-align: top;\n",
       "    }\n",
       "\n",
       "    .dataframe thead th {\n",
       "        text-align: right;\n",
       "    }\n",
       "</style>\n",
       "<table border=\"1\" class=\"dataframe\">\n",
       "  <thead>\n",
       "    <tr style=\"text-align: right;\">\n",
       "      <th></th>\n",
       "      <th>coefficient</th>\n",
       "      <th>p-value</th>\n",
       "    </tr>\n",
       "  </thead>\n",
       "  <tbody>\n",
       "    <tr>\n",
       "      <th>const</th>\n",
       "      <td>6.387552e+05</td>\n",
       "      <td>0.000000e+00</td>\n",
       "    </tr>\n",
       "    <tr>\n",
       "      <th>sqft_living</th>\n",
       "      <td>1.535203e+02</td>\n",
       "      <td>0.000000e+00</td>\n",
       "    </tr>\n",
       "    <tr>\n",
       "      <th>bedrooms</th>\n",
       "      <td>-1.525660e+04</td>\n",
       "      <td>3.069637e-12</td>\n",
       "    </tr>\n",
       "    <tr>\n",
       "      <th>view_EXCELLENT</th>\n",
       "      <td>2.288569e+05</td>\n",
       "      <td>1.403461e-41</td>\n",
       "    </tr>\n",
       "    <tr>\n",
       "      <th>view_FAIR</th>\n",
       "      <td>6.609960e+04</td>\n",
       "      <td>3.402836e-06</td>\n",
       "    </tr>\n",
       "    <tr>\n",
       "      <th>view_GOOD</th>\n",
       "      <td>6.320576e+04</td>\n",
       "      <td>2.545062e-07</td>\n",
       "    </tr>\n",
       "    <tr>\n",
       "      <th>view_NONE</th>\n",
       "      <td>-1.045835e+05</td>\n",
       "      <td>3.049912e-44</td>\n",
       "    </tr>\n",
       "    <tr>\n",
       "      <th>waterfront_YES</th>\n",
       "      <td>5.137356e+05</td>\n",
       "      <td>2.988837e-112</td>\n",
       "    </tr>\n",
       "    <tr>\n",
       "      <th>grade_11 Excellent</th>\n",
       "      <td>2.565406e+05</td>\n",
       "      <td>5.832274e-83</td>\n",
       "    </tr>\n",
       "    <tr>\n",
       "      <th>grade_12 Luxury</th>\n",
       "      <td>6.896829e+05</td>\n",
       "      <td>4.662548e-160</td>\n",
       "    </tr>\n",
       "    <tr>\n",
       "      <th>grade_13 Mansion</th>\n",
       "      <td>1.974833e+06</td>\n",
       "      <td>2.019159e-209</td>\n",
       "    </tr>\n",
       "    <tr>\n",
       "      <th>grade_3 Poor</th>\n",
       "      <td>-3.367457e+05</td>\n",
       "      <td>1.310216e-01</td>\n",
       "    </tr>\n",
       "    <tr>\n",
       "      <th>grade_4 Low</th>\n",
       "      <td>-4.188965e+05</td>\n",
       "      <td>1.975175e-21</td>\n",
       "    </tr>\n",
       "    <tr>\n",
       "      <th>grade_5 Fair</th>\n",
       "      <td>-4.188688e+05</td>\n",
       "      <td>5.487676e-130</td>\n",
       "    </tr>\n",
       "    <tr>\n",
       "      <th>grade_6 Low Average</th>\n",
       "      <td>-3.833135e+05</td>\n",
       "      <td>8.421407e-291</td>\n",
       "    </tr>\n",
       "    <tr>\n",
       "      <th>grade_7 Average</th>\n",
       "      <td>-3.495084e+05</td>\n",
       "      <td>0.000000e+00</td>\n",
       "    </tr>\n",
       "    <tr>\n",
       "      <th>grade_8 Good</th>\n",
       "      <td>-2.929575e+05</td>\n",
       "      <td>1.964292e-275</td>\n",
       "    </tr>\n",
       "    <tr>\n",
       "      <th>grade_9 Better</th>\n",
       "      <td>-1.764101e+05</td>\n",
       "      <td>1.576842e-102</td>\n",
       "    </tr>\n",
       "  </tbody>\n",
       "</table>\n",
       "</div>"
      ],
      "text/plain": [
       "                      coefficient        p-value\n",
       "const                6.387552e+05   0.000000e+00\n",
       "sqft_living          1.535203e+02   0.000000e+00\n",
       "bedrooms            -1.525660e+04   3.069637e-12\n",
       "view_EXCELLENT       2.288569e+05   1.403461e-41\n",
       "view_FAIR            6.609960e+04   3.402836e-06\n",
       "view_GOOD            6.320576e+04   2.545062e-07\n",
       "view_NONE           -1.045835e+05   3.049912e-44\n",
       "waterfront_YES       5.137356e+05  2.988837e-112\n",
       "grade_11 Excellent   2.565406e+05   5.832274e-83\n",
       "grade_12 Luxury      6.896829e+05  4.662548e-160\n",
       "grade_13 Mansion     1.974833e+06  2.019159e-209\n",
       "grade_3 Poor        -3.367457e+05   1.310216e-01\n",
       "grade_4 Low         -4.188965e+05   1.975175e-21\n",
       "grade_5 Fair        -4.188688e+05  5.487676e-130\n",
       "grade_6 Low Average -3.833135e+05  8.421407e-291\n",
       "grade_7 Average     -3.495084e+05   0.000000e+00\n",
       "grade_8 Good        -2.929575e+05  1.964292e-275\n",
       "grade_9 Better      -1.764101e+05  1.576842e-102"
      ]
     },
     "execution_count": 458,
     "metadata": {},
     "output_type": "execute_result"
    }
   ],
   "source": [
    "results_df = pd.concat([final_results.params, final_results.pvalues], axis=1)\n",
    "results_df.columns = [\"coefficient\", \"p-value\"]\n",
    "results_df"
   ]
  },
  {
   "cell_type": "markdown",
   "metadata": {},
   "source": [
    "The p_value is very small implying that the predictor variables are statistically significant."
   ]
  },
  {
   "cell_type": "markdown",
   "metadata": {},
   "source": [
    "## Plotting Residuals"
   ]
  },
  {
   "cell_type": "markdown",
   "metadata": {},
   "source": [
    "This checks for the relationship between the predictor variable and the residuals"
   ]
  },
  {
   "cell_type": "code",
   "execution_count": 459,
   "metadata": {},
   "outputs": [
    {
     "data": {
      "image/png": "[encoded data removed]",
      "text/plain": [
       "<Figure size 432x288 with 1 Axes>"
      ]
     },
     "metadata": {
      "needs_background": "light"
     },
     "output_type": "display_data"
    }
   ],
   "source": [
    "#Scatter plot of residuals\n",
    "fig, ax = plt.subplots()\n",
    "ax.scatter(df[\"price\"], baseline_results.resid)\n",
    "ax.axhline(y=0, color=\"black\")\n",
    "ax.set_xlabel(\"sqft_living\")\n",
    "ax.set_ylabel(\"residuals\");"
   ]
  },
  {
   "cell_type": "markdown",
   "metadata": {},
   "source": [
    "## Testing for Normality"
   ]
  },
  {
   "cell_type": "markdown",
   "metadata": {},
   "source": [
    "## Using QQ-Plot to test for normality"
   ]
  },
  {
   "cell_type": "code",
   "execution_count": 460,
   "metadata": {},
   "outputs": [
    {
     "data": {
      "image/png": "[encoded data removed]",
      "text/plain": [
       "<Figure size 720x360 with 1 Axes>"
      ]
     },
     "metadata": {
      "needs_background": "light"
     },
     "output_type": "display_data"
    }
   ],
   "source": [
    "residuals = Model.resid\n",
    "fig = sm.graphics.qqplot(residuals, dist=norm,line='r', fit=True)\n",
    "fig.set_size_inches(10, 5)\n",
    "fig.show()"
   ]
  },
  {
   "cell_type": "markdown",
   "metadata": {},
   "source": [
    "Since almost all of the data points fall along a straight line in this QQ-plot, we can consider the normality assumption satisfied."
   ]
  },
  {
   "cell_type": "markdown",
   "metadata": {},
   "source": [
    "## Using A residual scatterplot to test for homoscedasticity"
   ]
  },
  {
   "cell_type": "code",
   "execution_count": 514,
   "metadata": {},
   "outputs": [
    {
     "data": {
      "image/png": "[encoded data removed]",
      "text/plain": [
       "<Figure size 720x360 with 1 Axes>"
      ]
     },
     "metadata": {
      "needs_background": "light"
     },
     "output_type": "display_data"
    }
   ],
   "source": [
    "plt.figure(figsize=(10,5))\n",
    "sns.regplot(x=Model.predict(), y=Model.resid, lowess=True, line_kws={'color': 'red'})\n",
    "plt.title('Residuals Scatterplot', fontsize=16, y=.99)\n",
    "plt.show()"
   ]
  },
  {
   "cell_type": "markdown",
   "metadata": {},
   "source": [
    "The scatterplot appears to show a roughly symmetrical and consistent spread of the residuals around the lowess regression line, suggesting that the homoscedasticity assumption is met for the Model."
   ]
  },
  {
   "cell_type": "markdown",
   "metadata": {},
   "source": [
    "## Computing RMSE"
   ]
  },
  {
   "cell_type": "code",
   "execution_count": 462,
   "metadata": {},
   "outputs": [
    {
     "name": "stdout",
     "output_type": "stream",
     "text": [
      "RMSE: 222656.5458791393\n"
     ]
    }
   ],
   "source": [
    "y = df['price']\n",
    "model = LinearRegression().fit(X_many, y)\n",
    "y_pred = model.predict(X_many)\n",
    "\n",
    "# Calculate RMSE\n",
    "rmse = mean_squared_error(y, y_pred, squared=False)\n",
    "print('RMSE:', rmse)"
   ]
  },
  {
   "cell_type": "markdown",
   "metadata": {},
   "source": [
    "## Conclusion"
   ]
  },
  {
   "cell_type": "markdown",
   "metadata": {},
   "source": [
    "The development of a model that accurately predicts house prices and identifies the key factors that influence those prices can provide significant benefits to a Real Estate Agency and their clients. By providing more accurate estimates of house prices and recommendations on how to improve property values, the agency can improve customer satisfaction, increase sales, and help homeowners make informed decisions about renovations or improvements. This project can provide valuable insights into the complex factors that influence the sale price of a house in King County, helping to inform decision-making and drive positive outcomes for all parties involved.\n",
    "\n"
   ]
  },
  {
   "cell_type": "markdown",
   "metadata": {},
   "source": [
    "## Recommendations to First time home buyers\n",
    "-First time home buyers should make sure they are buying houses between the months of October through March to avoid paying more for the same house the in spring and summer months.\n",
    "\n",
    "-You can either search for properties independently or explore alternative methods. It is important to note that houses that receive higher levels of exposure tend to have a higher price tag.\n",
    "\n",
    "-In the event that a buyer is seeking additional features such as waterfront properties, they may encounter a longer waiting period or a limited selection to choose from.\n"
   ]
  },
  {
   "cell_type": "markdown",
   "metadata": {},
   "source": [
    "## Next Steps"
   ]
  },
  {
   "cell_type": "markdown",
   "metadata": {},
   "source": [
    "Based on the King County house price dataset, some additional topics that would be valuable to evaluate for first-time home buyers include:\n",
    "\n",
    " -Homeowner's association fees: Some homes may come with homeowner's association fees that add to the overall cost of homeownership. First-time home buyers should evaluate these fees when deciding whether a particular property is within their budget.\n",
    "\n",
    " -Property taxes: Property taxes can also add to the cost of homeownership, and first-time buyers should evaluate the property tax rates in the areas they're considering to ensure they can afford the ongoing expense.\n",
    "\n",
    " -Home size and layout: The dataset shows that home size and layout can significantly impact the sale price. Evaluating the right size and layout for a first-time home buyer's needs and budget is essential to make the most of their investment.\n",
    "\n",
    " -Surrounding amenities such as schools, parks, restaurants, grocery stores, hospitals and other places of interest\n",
    "\n",
    "  -Vicinity to public transportation or walk-ability\n",
    "  \n",
    "  -Comparing to newer data"
   ]
  }
 ],
 "metadata": {
  "kernelspec": {
   "display_name": "Python 3 (ipykernel)",
   "language": "python",
   "name": "python3"
  },
  "language_info": {
   "codemirror_mode": {
    "name": "ipython",
    "version": 3
   },
   "file_extension": ".py",
   "mimetype": "text/x-python",
   "name": "python",
   "nbconvert_exporter": "python",
   "pygments_lexer": "ipython3",
   "version": "3.9.13"
  }
 },
 "nbformat": 4,
 "nbformat_minor": 2
}
