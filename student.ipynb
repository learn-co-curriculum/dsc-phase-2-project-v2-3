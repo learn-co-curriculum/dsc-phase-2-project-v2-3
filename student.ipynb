{
 "cells": [
  {
   "cell_type": "markdown",
   "metadata": {},
   "source": [
    "## Final Project Submission\n",
    "\n",
    "Please fill out:\n",
    "* Student name: \n",
    "* Student pace: self paced / part time / full time\n",
    "* Scheduled project review date/time: \n",
    "* Instructor name: \n",
    "* Blog post URL:\n"
   ]
  },
  {
   "cell_type": "markdown",
   "metadata": {},
   "source": [
    "Regression for Housing Price Prediction in Northwestern County "
   ]
  },
  {
   "cell_type": "markdown",
   "metadata": {},
   "source": [
    "PROJECT OVERVIEW"
   ]
  },
  {
   "cell_type": "markdown",
   "metadata": {},
   "source": [
    "BACKGROUND INFORMATION"
   ]
  },
  {
   "cell_type": "markdown",
   "metadata": {},
   "source": [
    "CHALLANGES\n",
    "\n",
    "Unavailability of the metrics used to come up with the grading the houses\n",
    "The market is influenced by external factors such as changing policies and changing economic times.\n",
    "Insufficient data hence we cannot come up with a recommendation system – We need more data such as available amenities in different areas, security and how these change with different geographical regions \n",
    "Impossible to track how houses’ prices have changed over the years, and also how these changes reflect in different geographical regions\n"
   ]
  },
  {
   "cell_type": "markdown",
   "metadata": {},
   "source": [
    "SOLUTIONS"
   ]
  },
  {
   "cell_type": "markdown",
   "metadata": {},
   "source": [
    "CONCLUSION"
   ]
  },
  {
   "cell_type": "markdown",
   "metadata": {},
   "source": [
    "PROBLEM STATEMENT"
   ]
  },
  {
   "cell_type": "markdown",
   "metadata": {},
   "source": [
    "GENERAL OBJECTIVES\n",
    "\n",
    "To develop and implement a ML based solution that leverages data analytics and predictive models to give accurate insights and enable real estate developers to make informed decisions\n",
    "\n",
    "\n",
    "\n",
    "SPECIFIC OBJECTIVES\n",
    "\n",
    "To develop a price prediction model  \n",
    "To identify and select the most relevant features to build the model\n",
    "To evaluate the accuracy and reliability of machine learning models through rigorous testing and validation processes\n"
   ]
  },
  {
   "cell_type": "markdown",
   "metadata": {},
   "source": [
    "DATA UNDERSTANDING"
   ]
  },
  {
   "cell_type": "code",
   "execution_count": null,
   "metadata": {},
   "outputs": [],
   "source": []
  },
  {
   "cell_type": "code",
   "execution_count": 59,
   "metadata": {},
   "outputs": [],
   "source": [
    "#import libraries\n",
    "import pandas as pd\n",
    "import numpy as np\n",
    "import seaborn as sns\n",
    "import matplotlib.pyplot as plt\n",
    "from sklearn.linear_model import LinearRegression"
   ]
  },
  {
   "cell_type": "code",
   "execution_count": 60,
   "metadata": {},
   "outputs": [
    {
     "data": {
      "text/html": [
       "<div>\n",
       "<style scoped>\n",
       "    .dataframe tbody tr th:only-of-type {\n",
       "        vertical-align: middle;\n",
       "    }\n",
       "\n",
       "    .dataframe tbody tr th {\n",
       "        vertical-align: top;\n",
       "    }\n",
       "\n",
       "    .dataframe thead th {\n",
       "        text-align: right;\n",
       "    }\n",
       "</style>\n",
       "<table border=\"1\" class=\"dataframe\">\n",
       "  <thead>\n",
       "    <tr style=\"text-align: right;\">\n",
       "      <th></th>\n",
       "      <th>id</th>\n",
       "      <th>date</th>\n",
       "      <th>price</th>\n",
       "      <th>bedrooms</th>\n",
       "      <th>bathrooms</th>\n",
       "      <th>sqft_living</th>\n",
       "      <th>sqft_lot</th>\n",
       "      <th>floors</th>\n",
       "      <th>waterfront</th>\n",
       "      <th>view</th>\n",
       "      <th>...</th>\n",
       "      <th>grade</th>\n",
       "      <th>sqft_above</th>\n",
       "      <th>sqft_basement</th>\n",
       "      <th>yr_built</th>\n",
       "      <th>yr_renovated</th>\n",
       "      <th>zipcode</th>\n",
       "      <th>lat</th>\n",
       "      <th>long</th>\n",
       "      <th>sqft_living15</th>\n",
       "      <th>sqft_lot15</th>\n",
       "    </tr>\n",
       "  </thead>\n",
       "  <tbody>\n",
       "    <tr>\n",
       "      <th>0</th>\n",
       "      <td>7129300520</td>\n",
       "      <td>10/13/2014</td>\n",
       "      <td>221900.0</td>\n",
       "      <td>3</td>\n",
       "      <td>1.00</td>\n",
       "      <td>1180</td>\n",
       "      <td>5650</td>\n",
       "      <td>1.0</td>\n",
       "      <td>NaN</td>\n",
       "      <td>NONE</td>\n",
       "      <td>...</td>\n",
       "      <td>7 Average</td>\n",
       "      <td>1180</td>\n",
       "      <td>0.0</td>\n",
       "      <td>1955</td>\n",
       "      <td>0.0</td>\n",
       "      <td>98178</td>\n",
       "      <td>47.5112</td>\n",
       "      <td>-122.257</td>\n",
       "      <td>1340</td>\n",
       "      <td>5650</td>\n",
       "    </tr>\n",
       "    <tr>\n",
       "      <th>1</th>\n",
       "      <td>6414100192</td>\n",
       "      <td>12/9/2014</td>\n",
       "      <td>538000.0</td>\n",
       "      <td>3</td>\n",
       "      <td>2.25</td>\n",
       "      <td>2570</td>\n",
       "      <td>7242</td>\n",
       "      <td>2.0</td>\n",
       "      <td>NO</td>\n",
       "      <td>NONE</td>\n",
       "      <td>...</td>\n",
       "      <td>7 Average</td>\n",
       "      <td>2170</td>\n",
       "      <td>400.0</td>\n",
       "      <td>1951</td>\n",
       "      <td>1991.0</td>\n",
       "      <td>98125</td>\n",
       "      <td>47.7210</td>\n",
       "      <td>-122.319</td>\n",
       "      <td>1690</td>\n",
       "      <td>7639</td>\n",
       "    </tr>\n",
       "    <tr>\n",
       "      <th>2</th>\n",
       "      <td>5631500400</td>\n",
       "      <td>2/25/2015</td>\n",
       "      <td>180000.0</td>\n",
       "      <td>2</td>\n",
       "      <td>1.00</td>\n",
       "      <td>770</td>\n",
       "      <td>10000</td>\n",
       "      <td>1.0</td>\n",
       "      <td>NO</td>\n",
       "      <td>NONE</td>\n",
       "      <td>...</td>\n",
       "      <td>6 Low Average</td>\n",
       "      <td>770</td>\n",
       "      <td>0.0</td>\n",
       "      <td>1933</td>\n",
       "      <td>NaN</td>\n",
       "      <td>98028</td>\n",
       "      <td>47.7379</td>\n",
       "      <td>-122.233</td>\n",
       "      <td>2720</td>\n",
       "      <td>8062</td>\n",
       "    </tr>\n",
       "    <tr>\n",
       "      <th>3</th>\n",
       "      <td>2487200875</td>\n",
       "      <td>12/9/2014</td>\n",
       "      <td>604000.0</td>\n",
       "      <td>4</td>\n",
       "      <td>3.00</td>\n",
       "      <td>1960</td>\n",
       "      <td>5000</td>\n",
       "      <td>1.0</td>\n",
       "      <td>NO</td>\n",
       "      <td>NONE</td>\n",
       "      <td>...</td>\n",
       "      <td>7 Average</td>\n",
       "      <td>1050</td>\n",
       "      <td>910.0</td>\n",
       "      <td>1965</td>\n",
       "      <td>0.0</td>\n",
       "      <td>98136</td>\n",
       "      <td>47.5208</td>\n",
       "      <td>-122.393</td>\n",
       "      <td>1360</td>\n",
       "      <td>5000</td>\n",
       "    </tr>\n",
       "    <tr>\n",
       "      <th>4</th>\n",
       "      <td>1954400510</td>\n",
       "      <td>2/18/2015</td>\n",
       "      <td>510000.0</td>\n",
       "      <td>3</td>\n",
       "      <td>2.00</td>\n",
       "      <td>1680</td>\n",
       "      <td>8080</td>\n",
       "      <td>1.0</td>\n",
       "      <td>NO</td>\n",
       "      <td>NONE</td>\n",
       "      <td>...</td>\n",
       "      <td>8 Good</td>\n",
       "      <td>1680</td>\n",
       "      <td>0.0</td>\n",
       "      <td>1987</td>\n",
       "      <td>0.0</td>\n",
       "      <td>98074</td>\n",
       "      <td>47.6168</td>\n",
       "      <td>-122.045</td>\n",
       "      <td>1800</td>\n",
       "      <td>7503</td>\n",
       "    </tr>\n",
       "  </tbody>\n",
       "</table>\n",
       "<p>5 rows × 21 columns</p>\n",
       "</div>"
      ],
      "text/plain": [
       "           id        date     price  bedrooms  bathrooms  sqft_living  \\\n",
       "0  7129300520  10/13/2014  221900.0         3       1.00         1180   \n",
       "1  6414100192   12/9/2014  538000.0         3       2.25         2570   \n",
       "2  5631500400   2/25/2015  180000.0         2       1.00          770   \n",
       "3  2487200875   12/9/2014  604000.0         4       3.00         1960   \n",
       "4  1954400510   2/18/2015  510000.0         3       2.00         1680   \n",
       "\n",
       "   sqft_lot  floors waterfront  view  ...          grade sqft_above  \\\n",
       "0      5650     1.0        NaN  NONE  ...      7 Average       1180   \n",
       "1      7242     2.0         NO  NONE  ...      7 Average       2170   \n",
       "2     10000     1.0         NO  NONE  ...  6 Low Average        770   \n",
       "3      5000     1.0         NO  NONE  ...      7 Average       1050   \n",
       "4      8080     1.0         NO  NONE  ...         8 Good       1680   \n",
       "\n",
       "   sqft_basement yr_built  yr_renovated  zipcode      lat     long  \\\n",
       "0            0.0     1955           0.0    98178  47.5112 -122.257   \n",
       "1          400.0     1951        1991.0    98125  47.7210 -122.319   \n",
       "2            0.0     1933           NaN    98028  47.7379 -122.233   \n",
       "3          910.0     1965           0.0    98136  47.5208 -122.393   \n",
       "4            0.0     1987           0.0    98074  47.6168 -122.045   \n",
       "\n",
       "   sqft_living15  sqft_lot15  \n",
       "0           1340        5650  \n",
       "1           1690        7639  \n",
       "2           2720        8062  \n",
       "3           1360        5000  \n",
       "4           1800        7503  \n",
       "\n",
       "[5 rows x 21 columns]"
      ]
     },
     "execution_count": 60,
     "metadata": {},
     "output_type": "execute_result"
    }
   ],
   "source": [
    "# Your code here - remember to use markdown cells for comments as well!\n",
    "#load the data\n",
    "df = pd.read_csv(r\"C:\\Users\\nimu\\Documents\\Phaseone\\dsc-phase-2-project-v2-3\\data\\kc_house_data.csv\")\n",
    "df.head()"
   ]
  },
  {
   "cell_type": "code",
   "execution_count": 61,
   "metadata": {},
   "outputs": [
    {
     "data": {
      "text/plain": [
       "id                 int64\n",
       "date              object\n",
       "price            float64\n",
       "bedrooms           int64\n",
       "bathrooms        float64\n",
       "sqft_living        int64\n",
       "sqft_lot           int64\n",
       "floors           float64\n",
       "waterfront        object\n",
       "view              object\n",
       "condition         object\n",
       "grade             object\n",
       "sqft_above         int64\n",
       "sqft_basement     object\n",
       "yr_built           int64\n",
       "yr_renovated     float64\n",
       "zipcode            int64\n",
       "lat              float64\n",
       "long             float64\n",
       "sqft_living15      int64\n",
       "sqft_lot15         int64\n",
       "dtype: object"
      ]
     },
     "execution_count": 61,
     "metadata": {},
     "output_type": "execute_result"
    }
   ],
   "source": [
    "df.dtypes"
   ]
  },
  {
   "cell_type": "code",
   "execution_count": 62,
   "metadata": {},
   "outputs": [
    {
     "name": "stdout",
     "output_type": "stream",
     "text": [
      "<class 'pandas.core.frame.DataFrame'>\n",
      "RangeIndex: 21597 entries, 0 to 21596\n",
      "Data columns (total 21 columns):\n",
      " #   Column         Non-Null Count  Dtype  \n",
      "---  ------         --------------  -----  \n",
      " 0   id             21597 non-null  int64  \n",
      " 1   date           21597 non-null  object \n",
      " 2   price          21597 non-null  float64\n",
      " 3   bedrooms       21597 non-null  int64  \n",
      " 4   bathrooms      21597 non-null  float64\n",
      " 5   sqft_living    21597 non-null  int64  \n",
      " 6   sqft_lot       21597 non-null  int64  \n",
      " 7   floors         21597 non-null  float64\n",
      " 8   waterfront     19221 non-null  object \n",
      " 9   view           21534 non-null  object \n",
      " 10  condition      21597 non-null  object \n",
      " 11  grade          21597 non-null  object \n",
      " 12  sqft_above     21597 non-null  int64  \n",
      " 13  sqft_basement  21597 non-null  object \n",
      " 14  yr_built       21597 non-null  int64  \n",
      " 15  yr_renovated   17755 non-null  float64\n",
      " 16  zipcode        21597 non-null  int64  \n",
      " 17  lat            21597 non-null  float64\n",
      " 18  long           21597 non-null  float64\n",
      " 19  sqft_living15  21597 non-null  int64  \n",
      " 20  sqft_lot15     21597 non-null  int64  \n",
      "dtypes: float64(6), int64(9), object(6)\n",
      "memory usage: 3.5+ MB\n"
     ]
    }
   ],
   "source": [
    "df.info()"
   ]
  },
  {
   "cell_type": "markdown",
   "metadata": {},
   "source": [
    "DATA WRANGLING"
   ]
  },
  {
   "cell_type": "code",
   "execution_count": 63,
   "metadata": {},
   "outputs": [],
   "source": [
    "df.drop(['zipcode', 'sqft_living15', 'sqft_lot15'], axis=1, inplace=True)"
   ]
  },
  {
   "cell_type": "code",
   "execution_count": 64,
   "metadata": {},
   "outputs": [
    {
     "data": {
      "text/plain": [
       "id                  0\n",
       "date                0\n",
       "price               0\n",
       "bedrooms            0\n",
       "bathrooms           0\n",
       "sqft_living         0\n",
       "sqft_lot            0\n",
       "floors              0\n",
       "waterfront       2376\n",
       "view               63\n",
       "condition           0\n",
       "grade               0\n",
       "sqft_above          0\n",
       "sqft_basement       0\n",
       "yr_built            0\n",
       "yr_renovated     3842\n",
       "lat                 0\n",
       "long                0\n",
       "dtype: int64"
      ]
     },
     "execution_count": 64,
     "metadata": {},
     "output_type": "execute_result"
    }
   ],
   "source": [
    "#check for missing values\n",
    "df.isnull().sum()"
   ]
  },
  {
   "cell_type": "code",
   "execution_count": 65,
   "metadata": {},
   "outputs": [
    {
     "data": {
      "text/plain": [
       "17011"
      ]
     },
     "execution_count": 65,
     "metadata": {},
     "output_type": "execute_result"
    }
   ],
   "source": [
    "df['yr_renovated'].eq(0).sum()  #find the sum of the zeros"
   ]
  },
  {
   "cell_type": "code",
   "execution_count": 66,
   "metadata": {},
   "outputs": [],
   "source": [
    "df.drop(['yr_renovated'], axis=1, inplace=True) # drop the column "
   ]
  },
  {
   "cell_type": "markdown",
   "metadata": {},
   "source": [
    "The yr_renovated column has been dropped because even though the rows with data are many,\n",
    "more thean 85% of them contains zeros instead of actual years making it hard to use"
   ]
  },
  {
   "cell_type": "code",
   "execution_count": 67,
   "metadata": {},
   "outputs": [
    {
     "data": {
      "text/plain": [
       "array(['NONE', nan, 'GOOD', 'EXCELLENT', 'AVERAGE', 'FAIR'], dtype=object)"
      ]
     },
     "execution_count": 67,
     "metadata": {},
     "output_type": "execute_result"
    }
   ],
   "source": [
    "df['view'].unique() "
   ]
  },
  {
   "cell_type": "code",
   "execution_count": 68,
   "metadata": {},
   "outputs": [
    {
     "data": {
      "text/plain": [
       "array(['7 Average', '6 Low Average', '8 Good', '11 Excellent', '9 Better',\n",
       "       '5 Fair', '10 Very Good', '12 Luxury', '4 Low', '3 Poor',\n",
       "       '13 Mansion'], dtype=object)"
      ]
     },
     "execution_count": 68,
     "metadata": {},
     "output_type": "execute_result"
    }
   ],
   "source": [
    "df['grade'].unique()"
   ]
  },
  {
   "cell_type": "code",
   "execution_count": 69,
   "metadata": {},
   "outputs": [
    {
     "data": {
      "text/plain": [
       "array(['Average', 'Very Good', 'Good', 'Poor', 'Fair'], dtype=object)"
      ]
     },
     "execution_count": 69,
     "metadata": {},
     "output_type": "execute_result"
    }
   ],
   "source": [
    "df['condition'].unique()"
   ]
  },
  {
   "cell_type": "code",
   "execution_count": 70,
   "metadata": {},
   "outputs": [
    {
     "data": {
      "text/plain": [
       "array([nan, 'NO', 'YES'], dtype=object)"
      ]
     },
     "execution_count": 70,
     "metadata": {},
     "output_type": "execute_result"
    }
   ],
   "source": [
    "df['waterfront'].unique() #check for outliers and do one hot encoding"
   ]
  },
  {
   "cell_type": "code",
   "execution_count": 71,
   "metadata": {},
   "outputs": [],
   "source": [
    "df.dropna(subset=['waterfront', 'view'], inplace=True)"
   ]
  },
  {
   "cell_type": "markdown",
   "metadata": {},
   "source": [
    "The rows with missing values in waterfront and view were dropped because the have categorical data so we ca"
   ]
  },
  {
   "cell_type": "code",
   "execution_count": 72,
   "metadata": {},
   "outputs": [],
   "source": [
    "df['view'].replace('NONE', 'NO', inplace=True)"
   ]
  },
  {
   "cell_type": "code",
   "execution_count": 73,
   "metadata": {},
   "outputs": [
    {
     "data": {
      "text/html": [
       "<div>\n",
       "<style scoped>\n",
       "    .dataframe tbody tr th:only-of-type {\n",
       "        vertical-align: middle;\n",
       "    }\n",
       "\n",
       "    .dataframe tbody tr th {\n",
       "        vertical-align: top;\n",
       "    }\n",
       "\n",
       "    .dataframe thead th {\n",
       "        text-align: right;\n",
       "    }\n",
       "</style>\n",
       "<table border=\"1\" class=\"dataframe\">\n",
       "  <thead>\n",
       "    <tr style=\"text-align: right;\">\n",
       "      <th></th>\n",
       "      <th>id</th>\n",
       "      <th>date</th>\n",
       "      <th>price</th>\n",
       "      <th>bedrooms</th>\n",
       "      <th>bathrooms</th>\n",
       "      <th>sqft_living</th>\n",
       "      <th>sqft_lot</th>\n",
       "      <th>floors</th>\n",
       "      <th>waterfront</th>\n",
       "      <th>view</th>\n",
       "      <th>condition</th>\n",
       "      <th>grade</th>\n",
       "      <th>sqft_above</th>\n",
       "      <th>sqft_basement</th>\n",
       "      <th>yr_built</th>\n",
       "      <th>lat</th>\n",
       "      <th>long</th>\n",
       "    </tr>\n",
       "  </thead>\n",
       "  <tbody>\n",
       "    <tr>\n",
       "      <th>1</th>\n",
       "      <td>6414100192</td>\n",
       "      <td>12/9/2014</td>\n",
       "      <td>538000.0</td>\n",
       "      <td>3</td>\n",
       "      <td>2.25</td>\n",
       "      <td>2570</td>\n",
       "      <td>7242</td>\n",
       "      <td>2.0</td>\n",
       "      <td>NO</td>\n",
       "      <td>NO</td>\n",
       "      <td>Average</td>\n",
       "      <td>7 Average</td>\n",
       "      <td>2170</td>\n",
       "      <td>400.0</td>\n",
       "      <td>1951</td>\n",
       "      <td>47.7210</td>\n",
       "      <td>-122.319</td>\n",
       "    </tr>\n",
       "    <tr>\n",
       "      <th>2</th>\n",
       "      <td>5631500400</td>\n",
       "      <td>2/25/2015</td>\n",
       "      <td>180000.0</td>\n",
       "      <td>2</td>\n",
       "      <td>1.00</td>\n",
       "      <td>770</td>\n",
       "      <td>10000</td>\n",
       "      <td>1.0</td>\n",
       "      <td>NO</td>\n",
       "      <td>NO</td>\n",
       "      <td>Average</td>\n",
       "      <td>6 Low Average</td>\n",
       "      <td>770</td>\n",
       "      <td>0.0</td>\n",
       "      <td>1933</td>\n",
       "      <td>47.7379</td>\n",
       "      <td>-122.233</td>\n",
       "    </tr>\n",
       "    <tr>\n",
       "      <th>3</th>\n",
       "      <td>2487200875</td>\n",
       "      <td>12/9/2014</td>\n",
       "      <td>604000.0</td>\n",
       "      <td>4</td>\n",
       "      <td>3.00</td>\n",
       "      <td>1960</td>\n",
       "      <td>5000</td>\n",
       "      <td>1.0</td>\n",
       "      <td>NO</td>\n",
       "      <td>NO</td>\n",
       "      <td>Very Good</td>\n",
       "      <td>7 Average</td>\n",
       "      <td>1050</td>\n",
       "      <td>910.0</td>\n",
       "      <td>1965</td>\n",
       "      <td>47.5208</td>\n",
       "      <td>-122.393</td>\n",
       "    </tr>\n",
       "    <tr>\n",
       "      <th>4</th>\n",
       "      <td>1954400510</td>\n",
       "      <td>2/18/2015</td>\n",
       "      <td>510000.0</td>\n",
       "      <td>3</td>\n",
       "      <td>2.00</td>\n",
       "      <td>1680</td>\n",
       "      <td>8080</td>\n",
       "      <td>1.0</td>\n",
       "      <td>NO</td>\n",
       "      <td>NO</td>\n",
       "      <td>Average</td>\n",
       "      <td>8 Good</td>\n",
       "      <td>1680</td>\n",
       "      <td>0.0</td>\n",
       "      <td>1987</td>\n",
       "      <td>47.6168</td>\n",
       "      <td>-122.045</td>\n",
       "    </tr>\n",
       "    <tr>\n",
       "      <th>5</th>\n",
       "      <td>7237550310</td>\n",
       "      <td>5/12/2014</td>\n",
       "      <td>1230000.0</td>\n",
       "      <td>4</td>\n",
       "      <td>4.50</td>\n",
       "      <td>5420</td>\n",
       "      <td>101930</td>\n",
       "      <td>1.0</td>\n",
       "      <td>NO</td>\n",
       "      <td>NO</td>\n",
       "      <td>Average</td>\n",
       "      <td>11 Excellent</td>\n",
       "      <td>3890</td>\n",
       "      <td>1530.0</td>\n",
       "      <td>2001</td>\n",
       "      <td>47.6561</td>\n",
       "      <td>-122.005</td>\n",
       "    </tr>\n",
       "  </tbody>\n",
       "</table>\n",
       "</div>"
      ],
      "text/plain": [
       "           id       date      price  bedrooms  bathrooms  sqft_living  \\\n",
       "1  6414100192  12/9/2014   538000.0         3       2.25         2570   \n",
       "2  5631500400  2/25/2015   180000.0         2       1.00          770   \n",
       "3  2487200875  12/9/2014   604000.0         4       3.00         1960   \n",
       "4  1954400510  2/18/2015   510000.0         3       2.00         1680   \n",
       "5  7237550310  5/12/2014  1230000.0         4       4.50         5420   \n",
       "\n",
       "   sqft_lot  floors waterfront view  condition          grade  sqft_above  \\\n",
       "1      7242     2.0         NO   NO    Average      7 Average        2170   \n",
       "2     10000     1.0         NO   NO    Average  6 Low Average         770   \n",
       "3      5000     1.0         NO   NO  Very Good      7 Average        1050   \n",
       "4      8080     1.0         NO   NO    Average         8 Good        1680   \n",
       "5    101930     1.0         NO   NO    Average   11 Excellent        3890   \n",
       "\n",
       "  sqft_basement  yr_built      lat     long  \n",
       "1         400.0      1951  47.7210 -122.319  \n",
       "2           0.0      1933  47.7379 -122.233  \n",
       "3         910.0      1965  47.5208 -122.393  \n",
       "4           0.0      1987  47.6168 -122.045  \n",
       "5        1530.0      2001  47.6561 -122.005  "
      ]
     },
     "execution_count": 73,
     "metadata": {},
     "output_type": "execute_result"
    }
   ],
   "source": [
    "df.head()"
   ]
  },
  {
   "cell_type": "code",
   "execution_count": 74,
   "metadata": {},
   "outputs": [
    {
     "data": {
      "text/plain": [
       "id               0\n",
       "date             0\n",
       "price            0\n",
       "bedrooms         0\n",
       "bathrooms        0\n",
       "sqft_living      0\n",
       "sqft_lot         0\n",
       "floors           0\n",
       "waterfront       0\n",
       "view             0\n",
       "condition        0\n",
       "grade            0\n",
       "sqft_above       0\n",
       "sqft_basement    0\n",
       "yr_built         0\n",
       "lat              0\n",
       "long             0\n",
       "dtype: int64"
      ]
     },
     "execution_count": 74,
     "metadata": {},
     "output_type": "execute_result"
    }
   ],
   "source": [
    "df.isnull().sum()"
   ]
  },
  {
   "cell_type": "code",
   "execution_count": 75,
   "metadata": {},
   "outputs": [],
   "source": [
    "df['date'] = pd.to_datetime(df['date']) "
   ]
  },
  {
   "cell_type": "code",
   "execution_count": 76,
   "metadata": {},
   "outputs": [
    {
     "name": "stdout",
     "output_type": "stream",
     "text": [
      "               id       date      price  bedrooms  bathrooms  sqft_living  \\\n",
      "1      6414100192 2014-12-09   538000.0         3       2.25         2570   \n",
      "2      5631500400 2015-02-25   180000.0         2       1.00          770   \n",
      "3      2487200875 2014-12-09   604000.0         4       3.00         1960   \n",
      "4      1954400510 2015-02-18   510000.0         3       2.00         1680   \n",
      "5      7237550310 2014-05-12  1230000.0         4       4.50         5420   \n",
      "...           ...        ...        ...       ...        ...          ...   \n",
      "21591  2997800021 2015-02-19   475000.0         3       2.50         1310   \n",
      "21592   263000018 2014-05-21   360000.0         3       2.50         1530   \n",
      "21593  6600060120 2015-02-23   400000.0         4       2.50         2310   \n",
      "21594  1523300141 2014-06-23   402101.0         2       0.75         1020   \n",
      "21596  1523300157 2014-10-15   325000.0         2       0.75         1020   \n",
      "\n",
      "       sqft_lot  floors waterfront view  condition          grade  sqft_above  \\\n",
      "1          7242     2.0         NO   NO    Average      7 Average        2170   \n",
      "2         10000     1.0         NO   NO    Average  6 Low Average         770   \n",
      "3          5000     1.0         NO   NO  Very Good      7 Average        1050   \n",
      "4          8080     1.0         NO   NO    Average         8 Good        1680   \n",
      "5        101930     1.0         NO   NO    Average   11 Excellent        3890   \n",
      "...         ...     ...        ...  ...        ...            ...         ...   \n",
      "21591      1294     2.0         NO   NO    Average         8 Good        1180   \n",
      "21592      1131     3.0         NO   NO    Average         8 Good        1530   \n",
      "21593      5813     2.0         NO   NO    Average         8 Good        2310   \n",
      "21594      1350     2.0         NO   NO    Average      7 Average        1020   \n",
      "21596      1076     2.0         NO   NO    Average      7 Average        1020   \n",
      "\n",
      "      sqft_basement  yr_built      lat     long  \n",
      "1             400.0      1951  47.7210 -122.319  \n",
      "2               0.0      1933  47.7379 -122.233  \n",
      "3             910.0      1965  47.5208 -122.393  \n",
      "4               0.0      1987  47.6168 -122.045  \n",
      "5            1530.0      2001  47.6561 -122.005  \n",
      "...             ...       ...      ...      ...  \n",
      "21591         130.0      2008  47.5773 -122.409  \n",
      "21592           0.0      2009  47.6993 -122.346  \n",
      "21593           0.0      2014  47.5107 -122.362  \n",
      "21594           0.0      2009  47.5944 -122.299  \n",
      "21596           0.0      2008  47.5941 -122.299  \n",
      "\n",
      "[19030 rows x 17 columns]\n"
     ]
    }
   ],
   "source": [
    "df.sort_values(by='date', ascending=False, inplace=True)\n",
    "\n",
    "df.drop_duplicates(subset='id', keep='first', inplace=True)\n",
    "\n",
    "df.sort_index(inplace=True)\n",
    "print(df)"
   ]
  },
  {
   "cell_type": "code",
   "execution_count": 77,
   "metadata": {},
   "outputs": [],
   "source": [
    "duplicates = df[df['id'].duplicated()]"
   ]
  },
  {
   "cell_type": "markdown",
   "metadata": {},
   "source": [
    "EDA"
   ]
  },
  {
   "cell_type": "code",
   "execution_count": 78,
   "metadata": {},
   "outputs": [
    {
     "data": {
      "image/png": "[encoded data removed]",
      "text/plain": [
       "<Figure size 432x288 with 1 Axes>"
      ]
     },
     "metadata": {
      "needs_background": "light"
     },
     "output_type": "display_data"
    }
   ],
   "source": [
    "import seaborn as sns\n",
    "sns.histplot(df['price'], kde=True)\n",
    "plt.title('Distribution of Price')\n",
    "plt.show()"
   ]
  },
  {
   "cell_type": "markdown",
   "metadata": {},
   "source": [
    "Most houses are priced around a half million to a million dollars,\n",
    "while the most expensive houses imply the order of two million dollars and more"
   ]
  },
  {
   "cell_type": "code",
   "execution_count": 79,
   "metadata": {},
   "outputs": [
    {
     "data": {
      "image/png": "[encoded data removed]",
      "text/plain": [
       "<Figure size 1440x1080 with 12 Axes>"
      ]
     },
     "metadata": {
      "needs_background": "light"
     },
     "output_type": "display_data"
    }
   ],
   "source": [
    "%matplotlib inline\n",
    "import matplotlib.pyplot as plt\n",
    "df.hist(bins=50, figsize=(20,15))\n",
    "plt.show()"
   ]
  },
  {
   "cell_type": "code",
   "execution_count": 80,
   "metadata": {},
   "outputs": [
    {
     "data": {
      "text/plain": [
       "<AxesSubplot:xlabel='sqft_above', ylabel='price'>"
      ]
     },
     "execution_count": 80,
     "metadata": {},
     "output_type": "execute_result"
    },
    {
     "data": {
      "image/png": "[encoded data removed]",
      "text/plain": [
       "<Figure size 432x288 with 1 Axes>"
      ]
     },
     "metadata": {
      "needs_background": "light"
     },
     "output_type": "display_data"
    }
   ],
   "source": [
    "import seaborn as sns\n",
    "import matplotlib.pyplot as plt\n",
    "#plt.figure(figsize=(15, 8))\n",
    "sns.regplot(x='sqft_above', y='price', data=df)"
   ]
  },
  {
   "cell_type": "code",
   "execution_count": 81,
   "metadata": {},
   "outputs": [],
   "source": [
    "view_mapping = {'EXCELLENT':4, 'GOOD':3, 'AVERAGE':2, 'FAIR':1, 'NO':0}\n",
    "df.replace(view_mapping, inplace=True)"
   ]
  },
  {
   "cell_type": "code",
   "execution_count": 82,
   "metadata": {},
   "outputs": [],
   "source": [
    "view_mapping = {'YES':1, 'NO':0}\n",
    "df.replace(view_mapping, inplace=True)"
   ]
  },
  {
   "cell_type": "code",
   "execution_count": 83,
   "metadata": {},
   "outputs": [],
   "source": [
    "view_mapping = {'Average':3, 'Very Good':5, 'Good':4, 'Poor':1, 'Fair':2}\n",
    "df.replace(view_mapping, inplace=True)"
   ]
  },
  {
   "cell_type": "code",
   "execution_count": 84,
   "metadata": {},
   "outputs": [],
   "source": [
    "df['grade_int'] = df['grade'].str.extract(r'(\\d+)').astype(int)\n",
    "column_drop = 'grade'\n",
    "df = df.drop(column_drop, axis=1)"
   ]
  },
  {
   "cell_type": "code",
   "execution_count": 85,
   "metadata": {},
   "outputs": [
    {
     "data": {
      "text/html": [
       "<div>\n",
       "<style scoped>\n",
       "    .dataframe tbody tr th:only-of-type {\n",
       "        vertical-align: middle;\n",
       "    }\n",
       "\n",
       "    .dataframe tbody tr th {\n",
       "        vertical-align: top;\n",
       "    }\n",
       "\n",
       "    .dataframe thead th {\n",
       "        text-align: right;\n",
       "    }\n",
       "</style>\n",
       "<table border=\"1\" class=\"dataframe\">\n",
       "  <thead>\n",
       "    <tr style=\"text-align: right;\">\n",
       "      <th></th>\n",
       "      <th>id</th>\n",
       "      <th>date</th>\n",
       "      <th>price</th>\n",
       "      <th>bedrooms</th>\n",
       "      <th>bathrooms</th>\n",
       "      <th>sqft_living</th>\n",
       "      <th>sqft_lot</th>\n",
       "      <th>floors</th>\n",
       "      <th>waterfront</th>\n",
       "      <th>view</th>\n",
       "      <th>condition</th>\n",
       "      <th>sqft_above</th>\n",
       "      <th>sqft_basement</th>\n",
       "      <th>yr_built</th>\n",
       "      <th>lat</th>\n",
       "      <th>long</th>\n",
       "      <th>grade_int</th>\n",
       "    </tr>\n",
       "  </thead>\n",
       "  <tbody>\n",
       "    <tr>\n",
       "      <th>1</th>\n",
       "      <td>6414100192</td>\n",
       "      <td>2014-12-09</td>\n",
       "      <td>538000.0</td>\n",
       "      <td>3</td>\n",
       "      <td>2.25</td>\n",
       "      <td>2570</td>\n",
       "      <td>7242</td>\n",
       "      <td>2.0</td>\n",
       "      <td>0</td>\n",
       "      <td>0</td>\n",
       "      <td>3</td>\n",
       "      <td>2170</td>\n",
       "      <td>400.0</td>\n",
       "      <td>1951</td>\n",
       "      <td>47.7210</td>\n",
       "      <td>-122.319</td>\n",
       "      <td>7</td>\n",
       "    </tr>\n",
       "    <tr>\n",
       "      <th>2</th>\n",
       "      <td>5631500400</td>\n",
       "      <td>2015-02-25</td>\n",
       "      <td>180000.0</td>\n",
       "      <td>2</td>\n",
       "      <td>1.00</td>\n",
       "      <td>770</td>\n",
       "      <td>10000</td>\n",
       "      <td>1.0</td>\n",
       "      <td>0</td>\n",
       "      <td>0</td>\n",
       "      <td>3</td>\n",
       "      <td>770</td>\n",
       "      <td>0.0</td>\n",
       "      <td>1933</td>\n",
       "      <td>47.7379</td>\n",
       "      <td>-122.233</td>\n",
       "      <td>6</td>\n",
       "    </tr>\n",
       "    <tr>\n",
       "      <th>3</th>\n",
       "      <td>2487200875</td>\n",
       "      <td>2014-12-09</td>\n",
       "      <td>604000.0</td>\n",
       "      <td>4</td>\n",
       "      <td>3.00</td>\n",
       "      <td>1960</td>\n",
       "      <td>5000</td>\n",
       "      <td>1.0</td>\n",
       "      <td>0</td>\n",
       "      <td>0</td>\n",
       "      <td>5</td>\n",
       "      <td>1050</td>\n",
       "      <td>910.0</td>\n",
       "      <td>1965</td>\n",
       "      <td>47.5208</td>\n",
       "      <td>-122.393</td>\n",
       "      <td>7</td>\n",
       "    </tr>\n",
       "    <tr>\n",
       "      <th>4</th>\n",
       "      <td>1954400510</td>\n",
       "      <td>2015-02-18</td>\n",
       "      <td>510000.0</td>\n",
       "      <td>3</td>\n",
       "      <td>2.00</td>\n",
       "      <td>1680</td>\n",
       "      <td>8080</td>\n",
       "      <td>1.0</td>\n",
       "      <td>0</td>\n",
       "      <td>0</td>\n",
       "      <td>3</td>\n",
       "      <td>1680</td>\n",
       "      <td>0.0</td>\n",
       "      <td>1987</td>\n",
       "      <td>47.6168</td>\n",
       "      <td>-122.045</td>\n",
       "      <td>8</td>\n",
       "    </tr>\n",
       "    <tr>\n",
       "      <th>5</th>\n",
       "      <td>7237550310</td>\n",
       "      <td>2014-05-12</td>\n",
       "      <td>1230000.0</td>\n",
       "      <td>4</td>\n",
       "      <td>4.50</td>\n",
       "      <td>5420</td>\n",
       "      <td>101930</td>\n",
       "      <td>1.0</td>\n",
       "      <td>0</td>\n",
       "      <td>0</td>\n",
       "      <td>3</td>\n",
       "      <td>3890</td>\n",
       "      <td>1530.0</td>\n",
       "      <td>2001</td>\n",
       "      <td>47.6561</td>\n",
       "      <td>-122.005</td>\n",
       "      <td>11</td>\n",
       "    </tr>\n",
       "  </tbody>\n",
       "</table>\n",
       "</div>"
      ],
      "text/plain": [
       "           id       date      price  bedrooms  bathrooms  sqft_living  \\\n",
       "1  6414100192 2014-12-09   538000.0         3       2.25         2570   \n",
       "2  5631500400 2015-02-25   180000.0         2       1.00          770   \n",
       "3  2487200875 2014-12-09   604000.0         4       3.00         1960   \n",
       "4  1954400510 2015-02-18   510000.0         3       2.00         1680   \n",
       "5  7237550310 2014-05-12  1230000.0         4       4.50         5420   \n",
       "\n",
       "   sqft_lot  floors  waterfront  view  condition  sqft_above sqft_basement  \\\n",
       "1      7242     2.0           0     0          3        2170         400.0   \n",
       "2     10000     1.0           0     0          3         770           0.0   \n",
       "3      5000     1.0           0     0          5        1050         910.0   \n",
       "4      8080     1.0           0     0          3        1680           0.0   \n",
       "5    101930     1.0           0     0          3        3890        1530.0   \n",
       "\n",
       "   yr_built      lat     long  grade_int  \n",
       "1      1951  47.7210 -122.319          7  \n",
       "2      1933  47.7379 -122.233          6  \n",
       "3      1965  47.5208 -122.393          7  \n",
       "4      1987  47.6168 -122.045          8  \n",
       "5      2001  47.6561 -122.005         11  "
      ]
     },
     "execution_count": 85,
     "metadata": {},
     "output_type": "execute_result"
    }
   ],
   "source": [
    "df.head()"
   ]
  },
  {
   "cell_type": "code",
   "execution_count": 86,
   "metadata": {},
   "outputs": [
    {
     "data": {
      "text/plain": [
       "array([0, 1], dtype=int64)"
      ]
     },
     "execution_count": 86,
     "metadata": {},
     "output_type": "execute_result"
    }
   ],
   "source": [
    "df['waterfront'].unique()"
   ]
  },
  {
   "cell_type": "code",
   "execution_count": 87,
   "metadata": {},
   "outputs": [
    {
     "data": {
      "text/html": [
       "<div>\n",
       "<style scoped>\n",
       "    .dataframe tbody tr th:only-of-type {\n",
       "        vertical-align: middle;\n",
       "    }\n",
       "\n",
       "    .dataframe tbody tr th {\n",
       "        vertical-align: top;\n",
       "    }\n",
       "\n",
       "    .dataframe thead th {\n",
       "        text-align: right;\n",
       "    }\n",
       "</style>\n",
       "<table border=\"1\" class=\"dataframe\">\n",
       "  <thead>\n",
       "    <tr style=\"text-align: right;\">\n",
       "      <th></th>\n",
       "      <th>id</th>\n",
       "      <th>price</th>\n",
       "      <th>bedrooms</th>\n",
       "      <th>bathrooms</th>\n",
       "      <th>sqft_living</th>\n",
       "      <th>sqft_lot</th>\n",
       "      <th>floors</th>\n",
       "      <th>waterfront</th>\n",
       "      <th>view</th>\n",
       "      <th>condition</th>\n",
       "      <th>sqft_above</th>\n",
       "      <th>yr_built</th>\n",
       "      <th>lat</th>\n",
       "      <th>long</th>\n",
       "      <th>grade_int</th>\n",
       "    </tr>\n",
       "  </thead>\n",
       "  <tbody>\n",
       "    <tr>\n",
       "      <th>id</th>\n",
       "      <td>1.000000</td>\n",
       "      <td>-0.019219</td>\n",
       "      <td>0.002728</td>\n",
       "      <td>0.006519</td>\n",
       "      <td>-0.012911</td>\n",
       "      <td>-0.133958</td>\n",
       "      <td>0.017828</td>\n",
       "      <td>-0.004880</td>\n",
       "      <td>0.014068</td>\n",
       "      <td>-0.022813</td>\n",
       "      <td>-0.012369</td>\n",
       "      <td>0.022633</td>\n",
       "      <td>-0.006524</td>\n",
       "      <td>0.018949</td>\n",
       "      <td>0.006593</td>\n",
       "    </tr>\n",
       "    <tr>\n",
       "      <th>price</th>\n",
       "      <td>-0.019219</td>\n",
       "      <td>1.000000</td>\n",
       "      <td>0.309329</td>\n",
       "      <td>0.526036</td>\n",
       "      <td>0.703850</td>\n",
       "      <td>0.086395</td>\n",
       "      <td>0.256893</td>\n",
       "      <td>0.271527</td>\n",
       "      <td>0.395255</td>\n",
       "      <td>0.035922</td>\n",
       "      <td>0.608692</td>\n",
       "      <td>0.050753</td>\n",
       "      <td>0.305905</td>\n",
       "      <td>0.019495</td>\n",
       "      <td>0.666696</td>\n",
       "    </tr>\n",
       "    <tr>\n",
       "      <th>bedrooms</th>\n",
       "      <td>0.002728</td>\n",
       "      <td>0.309329</td>\n",
       "      <td>1.000000</td>\n",
       "      <td>0.516747</td>\n",
       "      <td>0.578524</td>\n",
       "      <td>0.029797</td>\n",
       "      <td>0.181755</td>\n",
       "      <td>-0.004183</td>\n",
       "      <td>0.083868</td>\n",
       "      <td>0.024352</td>\n",
       "      <td>0.480910</td>\n",
       "      <td>0.156668</td>\n",
       "      <td>-0.013258</td>\n",
       "      <td>0.131794</td>\n",
       "      <td>0.360649</td>\n",
       "    </tr>\n",
       "    <tr>\n",
       "      <th>bathrooms</th>\n",
       "      <td>0.006519</td>\n",
       "      <td>0.526036</td>\n",
       "      <td>0.516747</td>\n",
       "      <td>1.000000</td>\n",
       "      <td>0.755730</td>\n",
       "      <td>0.085276</td>\n",
       "      <td>0.505359</td>\n",
       "      <td>0.064609</td>\n",
       "      <td>0.185797</td>\n",
       "      <td>-0.129021</td>\n",
       "      <td>0.687386</td>\n",
       "      <td>0.506215</td>\n",
       "      <td>0.024612</td>\n",
       "      <td>0.222399</td>\n",
       "      <td>0.666311</td>\n",
       "    </tr>\n",
       "    <tr>\n",
       "      <th>sqft_living</th>\n",
       "      <td>-0.012911</td>\n",
       "      <td>0.703850</td>\n",
       "      <td>0.578524</td>\n",
       "      <td>0.755730</td>\n",
       "      <td>1.000000</td>\n",
       "      <td>0.172888</td>\n",
       "      <td>0.355893</td>\n",
       "      <td>0.107508</td>\n",
       "      <td>0.285337</td>\n",
       "      <td>-0.059540</td>\n",
       "      <td>0.877730</td>\n",
       "      <td>0.315741</td>\n",
       "      <td>0.052498</td>\n",
       "      <td>0.238614</td>\n",
       "      <td>0.763484</td>\n",
       "    </tr>\n",
       "    <tr>\n",
       "      <th>sqft_lot</th>\n",
       "      <td>-0.133958</td>\n",
       "      <td>0.086395</td>\n",
       "      <td>0.029797</td>\n",
       "      <td>0.085276</td>\n",
       "      <td>0.172888</td>\n",
       "      <td>1.000000</td>\n",
       "      <td>-0.008036</td>\n",
       "      <td>0.023128</td>\n",
       "      <td>0.071214</td>\n",
       "      <td>-0.014176</td>\n",
       "      <td>0.183716</td>\n",
       "      <td>0.055218</td>\n",
       "      <td>-0.085895</td>\n",
       "      <td>0.229976</td>\n",
       "      <td>0.114249</td>\n",
       "    </tr>\n",
       "    <tr>\n",
       "      <th>floors</th>\n",
       "      <td>0.017828</td>\n",
       "      <td>0.256893</td>\n",
       "      <td>0.181755</td>\n",
       "      <td>0.505359</td>\n",
       "      <td>0.355893</td>\n",
       "      <td>-0.008036</td>\n",
       "      <td>1.000000</td>\n",
       "      <td>0.021192</td>\n",
       "      <td>0.027781</td>\n",
       "      <td>-0.266144</td>\n",
       "      <td>0.523979</td>\n",
       "      <td>0.489822</td>\n",
       "      <td>0.050587</td>\n",
       "      <td>0.126026</td>\n",
       "      <td>0.457470</td>\n",
       "    </tr>\n",
       "    <tr>\n",
       "      <th>waterfront</th>\n",
       "      <td>-0.004880</td>\n",
       "      <td>0.271527</td>\n",
       "      <td>-0.004183</td>\n",
       "      <td>0.064609</td>\n",
       "      <td>0.107508</td>\n",
       "      <td>0.023128</td>\n",
       "      <td>0.021192</td>\n",
       "      <td>1.000000</td>\n",
       "      <td>0.407505</td>\n",
       "      <td>0.017118</td>\n",
       "      <td>0.073470</td>\n",
       "      <td>-0.026910</td>\n",
       "      <td>-0.013013</td>\n",
       "      <td>-0.040344</td>\n",
       "      <td>0.085743</td>\n",
       "    </tr>\n",
       "    <tr>\n",
       "      <th>view</th>\n",
       "      <td>0.014068</td>\n",
       "      <td>0.395255</td>\n",
       "      <td>0.083868</td>\n",
       "      <td>0.185797</td>\n",
       "      <td>0.285337</td>\n",
       "      <td>0.071214</td>\n",
       "      <td>0.027781</td>\n",
       "      <td>0.407505</td>\n",
       "      <td>1.000000</td>\n",
       "      <td>0.046807</td>\n",
       "      <td>0.168069</td>\n",
       "      <td>-0.057609</td>\n",
       "      <td>0.009991</td>\n",
       "      <td>-0.078505</td>\n",
       "      <td>0.247601</td>\n",
       "    </tr>\n",
       "    <tr>\n",
       "      <th>condition</th>\n",
       "      <td>-0.022813</td>\n",
       "      <td>0.035922</td>\n",
       "      <td>0.024352</td>\n",
       "      <td>-0.129021</td>\n",
       "      <td>-0.059540</td>\n",
       "      <td>-0.014176</td>\n",
       "      <td>-0.266144</td>\n",
       "      <td>0.017118</td>\n",
       "      <td>0.046807</td>\n",
       "      <td>1.000000</td>\n",
       "      <td>-0.158258</td>\n",
       "      <td>-0.364634</td>\n",
       "      <td>-0.019051</td>\n",
       "      <td>-0.106342</td>\n",
       "      <td>-0.147841</td>\n",
       "    </tr>\n",
       "    <tr>\n",
       "      <th>sqft_above</th>\n",
       "      <td>-0.012369</td>\n",
       "      <td>0.608692</td>\n",
       "      <td>0.480910</td>\n",
       "      <td>0.687386</td>\n",
       "      <td>0.877730</td>\n",
       "      <td>0.183716</td>\n",
       "      <td>0.523979</td>\n",
       "      <td>0.073470</td>\n",
       "      <td>0.168069</td>\n",
       "      <td>-0.158258</td>\n",
       "      <td>1.000000</td>\n",
       "      <td>0.420531</td>\n",
       "      <td>0.002058</td>\n",
       "      <td>0.341822</td>\n",
       "      <td>0.757520</td>\n",
       "    </tr>\n",
       "    <tr>\n",
       "      <th>yr_built</th>\n",
       "      <td>0.022633</td>\n",
       "      <td>0.050753</td>\n",
       "      <td>0.156668</td>\n",
       "      <td>0.506215</td>\n",
       "      <td>0.315741</td>\n",
       "      <td>0.055218</td>\n",
       "      <td>0.489822</td>\n",
       "      <td>-0.026910</td>\n",
       "      <td>-0.057609</td>\n",
       "      <td>-0.364634</td>\n",
       "      <td>0.420531</td>\n",
       "      <td>1.000000</td>\n",
       "      <td>-0.147469</td>\n",
       "      <td>0.408554</td>\n",
       "      <td>0.444908</td>\n",
       "    </tr>\n",
       "    <tr>\n",
       "      <th>lat</th>\n",
       "      <td>-0.006524</td>\n",
       "      <td>0.305905</td>\n",
       "      <td>-0.013258</td>\n",
       "      <td>0.024612</td>\n",
       "      <td>0.052498</td>\n",
       "      <td>-0.085895</td>\n",
       "      <td>0.050587</td>\n",
       "      <td>-0.013013</td>\n",
       "      <td>0.009991</td>\n",
       "      <td>-0.019051</td>\n",
       "      <td>0.002058</td>\n",
       "      <td>-0.147469</td>\n",
       "      <td>1.000000</td>\n",
       "      <td>-0.137032</td>\n",
       "      <td>0.114909</td>\n",
       "    </tr>\n",
       "    <tr>\n",
       "      <th>long</th>\n",
       "      <td>0.018949</td>\n",
       "      <td>0.019495</td>\n",
       "      <td>0.131794</td>\n",
       "      <td>0.222399</td>\n",
       "      <td>0.238614</td>\n",
       "      <td>0.229976</td>\n",
       "      <td>0.126026</td>\n",
       "      <td>-0.040344</td>\n",
       "      <td>-0.078505</td>\n",
       "      <td>-0.106342</td>\n",
       "      <td>0.341822</td>\n",
       "      <td>0.408554</td>\n",
       "      <td>-0.137032</td>\n",
       "      <td>1.000000</td>\n",
       "      <td>0.197083</td>\n",
       "    </tr>\n",
       "    <tr>\n",
       "      <th>grade_int</th>\n",
       "      <td>0.006593</td>\n",
       "      <td>0.666696</td>\n",
       "      <td>0.360649</td>\n",
       "      <td>0.666311</td>\n",
       "      <td>0.763484</td>\n",
       "      <td>0.114249</td>\n",
       "      <td>0.457470</td>\n",
       "      <td>0.085743</td>\n",
       "      <td>0.247601</td>\n",
       "      <td>-0.147841</td>\n",
       "      <td>0.757520</td>\n",
       "      <td>0.444908</td>\n",
       "      <td>0.114909</td>\n",
       "      <td>0.197083</td>\n",
       "      <td>1.000000</td>\n",
       "    </tr>\n",
       "  </tbody>\n",
       "</table>\n",
       "</div>"
      ],
      "text/plain": [
       "                   id     price  bedrooms  bathrooms  sqft_living  sqft_lot  \\\n",
       "id           1.000000 -0.019219  0.002728   0.006519    -0.012911 -0.133958   \n",
       "price       -0.019219  1.000000  0.309329   0.526036     0.703850  0.086395   \n",
       "bedrooms     0.002728  0.309329  1.000000   0.516747     0.578524  0.029797   \n",
       "bathrooms    0.006519  0.526036  0.516747   1.000000     0.755730  0.085276   \n",
       "sqft_living -0.012911  0.703850  0.578524   0.755730     1.000000  0.172888   \n",
       "sqft_lot    -0.133958  0.086395  0.029797   0.085276     0.172888  1.000000   \n",
       "floors       0.017828  0.256893  0.181755   0.505359     0.355893 -0.008036   \n",
       "waterfront  -0.004880  0.271527 -0.004183   0.064609     0.107508  0.023128   \n",
       "view         0.014068  0.395255  0.083868   0.185797     0.285337  0.071214   \n",
       "condition   -0.022813  0.035922  0.024352  -0.129021    -0.059540 -0.014176   \n",
       "sqft_above  -0.012369  0.608692  0.480910   0.687386     0.877730  0.183716   \n",
       "yr_built     0.022633  0.050753  0.156668   0.506215     0.315741  0.055218   \n",
       "lat         -0.006524  0.305905 -0.013258   0.024612     0.052498 -0.085895   \n",
       "long         0.018949  0.019495  0.131794   0.222399     0.238614  0.229976   \n",
       "grade_int    0.006593  0.666696  0.360649   0.666311     0.763484  0.114249   \n",
       "\n",
       "               floors  waterfront      view  condition  sqft_above  yr_built  \\\n",
       "id           0.017828   -0.004880  0.014068  -0.022813   -0.012369  0.022633   \n",
       "price        0.256893    0.271527  0.395255   0.035922    0.608692  0.050753   \n",
       "bedrooms     0.181755   -0.004183  0.083868   0.024352    0.480910  0.156668   \n",
       "bathrooms    0.505359    0.064609  0.185797  -0.129021    0.687386  0.506215   \n",
       "sqft_living  0.355893    0.107508  0.285337  -0.059540    0.877730  0.315741   \n",
       "sqft_lot    -0.008036    0.023128  0.071214  -0.014176    0.183716  0.055218   \n",
       "floors       1.000000    0.021192  0.027781  -0.266144    0.523979  0.489822   \n",
       "waterfront   0.021192    1.000000  0.407505   0.017118    0.073470 -0.026910   \n",
       "view         0.027781    0.407505  1.000000   0.046807    0.168069 -0.057609   \n",
       "condition   -0.266144    0.017118  0.046807   1.000000   -0.158258 -0.364634   \n",
       "sqft_above   0.523979    0.073470  0.168069  -0.158258    1.000000  0.420531   \n",
       "yr_built     0.489822   -0.026910 -0.057609  -0.364634    0.420531  1.000000   \n",
       "lat          0.050587   -0.013013  0.009991  -0.019051    0.002058 -0.147469   \n",
       "long         0.126026   -0.040344 -0.078505  -0.106342    0.341822  0.408554   \n",
       "grade_int    0.457470    0.085743  0.247601  -0.147841    0.757520  0.444908   \n",
       "\n",
       "                  lat      long  grade_int  \n",
       "id          -0.006524  0.018949   0.006593  \n",
       "price        0.305905  0.019495   0.666696  \n",
       "bedrooms    -0.013258  0.131794   0.360649  \n",
       "bathrooms    0.024612  0.222399   0.666311  \n",
       "sqft_living  0.052498  0.238614   0.763484  \n",
       "sqft_lot    -0.085895  0.229976   0.114249  \n",
       "floors       0.050587  0.126026   0.457470  \n",
       "waterfront  -0.013013 -0.040344   0.085743  \n",
       "view         0.009991 -0.078505   0.247601  \n",
       "condition   -0.019051 -0.106342  -0.147841  \n",
       "sqft_above   0.002058  0.341822   0.757520  \n",
       "yr_built    -0.147469  0.408554   0.444908  \n",
       "lat          1.000000 -0.137032   0.114909  \n",
       "long        -0.137032  1.000000   0.197083  \n",
       "grade_int    0.114909  0.197083   1.000000  "
      ]
     },
     "execution_count": 87,
     "metadata": {},
     "output_type": "execute_result"
    }
   ],
   "source": [
    "df.corr()"
   ]
  },
  {
   "cell_type": "code",
   "execution_count": 88,
   "metadata": {},
   "outputs": [
    {
     "data": {
      "text/plain": [
       "<AxesSubplot:>"
      ]
     },
     "execution_count": 88,
     "metadata": {},
     "output_type": "execute_result"
    },
    {
     "data": {
      "image/png": "[encoded data removed]",
      "text/plain": [
       "<Figure size 1080x576 with 2 Axes>"
      ]
     },
     "metadata": {
      "needs_background": "light"
     },
     "output_type": "display_data"
    }
   ],
   "source": [
    "plt.figure(figsize=(15,8))\n",
    "sns.heatmap(df.corr(), annot = True, cmap='YlGnBu')"
   ]
  },
  {
   "cell_type": "code",
   "execution_count": 89,
   "metadata": {},
   "outputs": [
    {
     "data": {
      "image/png": "[encoded data removed]",
      "text/plain": [
       "<Figure size 432x288 with 1 Axes>"
      ]
     },
     "metadata": {
      "needs_background": "light"
     },
     "output_type": "display_data"
    }
   ],
   "source": [
    "sns.boxplot(x=df['waterfront'], y=df['price'])                                                      \n",
    "plt.title(\"waterfront vs price\")                          \n",
    "plt.ylabel(\"price in USD\")                            \n",
    "plt.xlabel(None)                                      \n",
    "plt.xticks(np.arange(2), ('NO', 'YES'))         \n",
    "plt.show()"
   ]
  },
  {
   "cell_type": "code",
   "execution_count": 90,
   "metadata": {},
   "outputs": [
    {
     "name": "stdout",
     "output_type": "stream",
     "text": [
      "mean price for house with waterfront: 1692505.86\n",
      "mean price for house with no waterfront: 533912.48\n"
     ]
    }
   ],
   "source": [
    "waterfrontmean = df[df['waterfront'] ==1]['price'].mean()   \n",
    "nonwaterfrontmean = df[df['waterfront'] ==0]['price'].mean()                            \n",
    "print(f\"mean price for house with waterfront: {round(waterfrontmean, 2)}\")          \n",
    "print (f\"mean price for house with no waterfront: {round(nonwaterfrontmean, 2)}\")\n"
   ]
  },
  {
   "cell_type": "code",
   "execution_count": 91,
   "metadata": {},
   "outputs": [],
   "source": [
    "import statsmodels \n",
    "from statsmodels.formula.api import ols\n",
    "y = df['price']\n",
    "x = df['sqft_living']\n",
    "model = ols(formula='price ~ sqft_living', data=df).fit()"
   ]
  },
  {
   "cell_type": "code",
   "execution_count": 92,
   "metadata": {},
   "outputs": [
    {
     "name": "stdout",
     "output_type": "stream",
     "text": [
      "                            OLS Regression Results                            \n",
      "==============================================================================\n",
      "Dep. Variable:                  price   R-squared:                       0.495\n",
      "Model:                            OLS   Adj. R-squared:                  0.495\n",
      "Method:                 Least Squares   F-statistic:                 1.868e+04\n",
      "Date:                Tue, 24 Oct 2023   Prob (F-statistic):               0.00\n",
      "Time:                        18:33:01   Log-Likelihood:            -2.6454e+05\n",
      "No. Observations:               19030   AIC:                         5.291e+05\n",
      "Df Residuals:                   19028   BIC:                         5.291e+05\n",
      "Df Model:                           1                                         \n",
      "Covariance Type:            nonrobust                                         \n",
      "===============================================================================\n",
      "                  coef    std err          t      P>|t|      [0.025      0.975]\n",
      "-------------------------------------------------------------------------------\n",
      "Intercept   -4.743e+04   4721.791    -10.046      0.000   -5.67e+04   -3.82e+04\n",
      "sqft_living   283.1303      2.071    136.680      0.000     279.070     287.191\n",
      "==============================================================================\n",
      "Omnibus:                    13059.763   Durbin-Watson:                   1.993\n",
      "Prob(Omnibus):                  0.000   Jarque-Bera (JB):           480934.401\n",
      "Skew:                           2.822   Prob(JB):                         0.00\n",
      "Kurtosis:                      26.972   Cond. No.                     5.63e+03\n",
      "==============================================================================\n",
      "\n",
      "Notes:\n",
      "[1] Standard Errors assume that the covariance matrix of the errors is correctly specified.\n",
      "[2] The condition number is large, 5.63e+03. This might indicate that there are\n",
      "strong multicollinearity or other numerical problems.\n"
     ]
    }
   ],
   "source": [
    "print(model.summary())"
   ]
  },
  {
   "cell_type": "code",
   "execution_count": 93,
   "metadata": {},
   "outputs": [],
   "source": [
    "# feature engineering\n",
    "df['bed_bath_ratio'] = df['bedrooms']/df['bathrooms']"
   ]
  },
  {
   "cell_type": "code",
   "execution_count": 94,
   "metadata": {},
   "outputs": [],
   "source": [
    "def month_of_sale_feature(data):   \n",
    "    data['month_of_sale'] = pd.DatetimeIndex(data['date']).month   \n",
    "    return data"
   ]
  },
  {
   "cell_type": "code",
   "execution_count": 95,
   "metadata": {},
   "outputs": [
    {
     "data": {
      "text/html": [
       "<div>\n",
       "<style scoped>\n",
       "    .dataframe tbody tr th:only-of-type {\n",
       "        vertical-align: middle;\n",
       "    }\n",
       "\n",
       "    .dataframe tbody tr th {\n",
       "        vertical-align: top;\n",
       "    }\n",
       "\n",
       "    .dataframe thead th {\n",
       "        text-align: right;\n",
       "    }\n",
       "</style>\n",
       "<table border=\"1\" class=\"dataframe\">\n",
       "  <thead>\n",
       "    <tr style=\"text-align: right;\">\n",
       "      <th></th>\n",
       "      <th>id</th>\n",
       "      <th>date</th>\n",
       "      <th>price</th>\n",
       "      <th>bedrooms</th>\n",
       "      <th>bathrooms</th>\n",
       "      <th>sqft_living</th>\n",
       "      <th>sqft_lot</th>\n",
       "      <th>floors</th>\n",
       "      <th>waterfront</th>\n",
       "      <th>view</th>\n",
       "      <th>condition</th>\n",
       "      <th>sqft_above</th>\n",
       "      <th>sqft_basement</th>\n",
       "      <th>yr_built</th>\n",
       "      <th>lat</th>\n",
       "      <th>long</th>\n",
       "      <th>grade_int</th>\n",
       "      <th>bed_bath_ratio</th>\n",
       "      <th>month_of_sale</th>\n",
       "    </tr>\n",
       "  </thead>\n",
       "  <tbody>\n",
       "    <tr>\n",
       "      <th>1</th>\n",
       "      <td>6414100192</td>\n",
       "      <td>2014-12-09</td>\n",
       "      <td>538000.0</td>\n",
       "      <td>3</td>\n",
       "      <td>2.25</td>\n",
       "      <td>2570</td>\n",
       "      <td>7242</td>\n",
       "      <td>2.0</td>\n",
       "      <td>0</td>\n",
       "      <td>0</td>\n",
       "      <td>3</td>\n",
       "      <td>2170</td>\n",
       "      <td>400.0</td>\n",
       "      <td>1951</td>\n",
       "      <td>47.7210</td>\n",
       "      <td>-122.319</td>\n",
       "      <td>7</td>\n",
       "      <td>1.333333</td>\n",
       "      <td>12</td>\n",
       "    </tr>\n",
       "    <tr>\n",
       "      <th>2</th>\n",
       "      <td>5631500400</td>\n",
       "      <td>2015-02-25</td>\n",
       "      <td>180000.0</td>\n",
       "      <td>2</td>\n",
       "      <td>1.00</td>\n",
       "      <td>770</td>\n",
       "      <td>10000</td>\n",
       "      <td>1.0</td>\n",
       "      <td>0</td>\n",
       "      <td>0</td>\n",
       "      <td>3</td>\n",
       "      <td>770</td>\n",
       "      <td>0.0</td>\n",
       "      <td>1933</td>\n",
       "      <td>47.7379</td>\n",
       "      <td>-122.233</td>\n",
       "      <td>6</td>\n",
       "      <td>2.000000</td>\n",
       "      <td>2</td>\n",
       "    </tr>\n",
       "    <tr>\n",
       "      <th>3</th>\n",
       "      <td>2487200875</td>\n",
       "      <td>2014-12-09</td>\n",
       "      <td>604000.0</td>\n",
       "      <td>4</td>\n",
       "      <td>3.00</td>\n",
       "      <td>1960</td>\n",
       "      <td>5000</td>\n",
       "      <td>1.0</td>\n",
       "      <td>0</td>\n",
       "      <td>0</td>\n",
       "      <td>5</td>\n",
       "      <td>1050</td>\n",
       "      <td>910.0</td>\n",
       "      <td>1965</td>\n",
       "      <td>47.5208</td>\n",
       "      <td>-122.393</td>\n",
       "      <td>7</td>\n",
       "      <td>1.333333</td>\n",
       "      <td>12</td>\n",
       "    </tr>\n",
       "    <tr>\n",
       "      <th>4</th>\n",
       "      <td>1954400510</td>\n",
       "      <td>2015-02-18</td>\n",
       "      <td>510000.0</td>\n",
       "      <td>3</td>\n",
       "      <td>2.00</td>\n",
       "      <td>1680</td>\n",
       "      <td>8080</td>\n",
       "      <td>1.0</td>\n",
       "      <td>0</td>\n",
       "      <td>0</td>\n",
       "      <td>3</td>\n",
       "      <td>1680</td>\n",
       "      <td>0.0</td>\n",
       "      <td>1987</td>\n",
       "      <td>47.6168</td>\n",
       "      <td>-122.045</td>\n",
       "      <td>8</td>\n",
       "      <td>1.500000</td>\n",
       "      <td>2</td>\n",
       "    </tr>\n",
       "    <tr>\n",
       "      <th>5</th>\n",
       "      <td>7237550310</td>\n",
       "      <td>2014-05-12</td>\n",
       "      <td>1230000.0</td>\n",
       "      <td>4</td>\n",
       "      <td>4.50</td>\n",
       "      <td>5420</td>\n",
       "      <td>101930</td>\n",
       "      <td>1.0</td>\n",
       "      <td>0</td>\n",
       "      <td>0</td>\n",
       "      <td>3</td>\n",
       "      <td>3890</td>\n",
       "      <td>1530.0</td>\n",
       "      <td>2001</td>\n",
       "      <td>47.6561</td>\n",
       "      <td>-122.005</td>\n",
       "      <td>11</td>\n",
       "      <td>0.888889</td>\n",
       "      <td>5</td>\n",
       "    </tr>\n",
       "  </tbody>\n",
       "</table>\n",
       "</div>"
      ],
      "text/plain": [
       "           id       date      price  bedrooms  bathrooms  sqft_living  \\\n",
       "1  6414100192 2014-12-09   538000.0         3       2.25         2570   \n",
       "2  5631500400 2015-02-25   180000.0         2       1.00          770   \n",
       "3  2487200875 2014-12-09   604000.0         4       3.00         1960   \n",
       "4  1954400510 2015-02-18   510000.0         3       2.00         1680   \n",
       "5  7237550310 2014-05-12  1230000.0         4       4.50         5420   \n",
       "\n",
       "   sqft_lot  floors  waterfront  view  condition  sqft_above sqft_basement  \\\n",
       "1      7242     2.0           0     0          3        2170         400.0   \n",
       "2     10000     1.0           0     0          3         770           0.0   \n",
       "3      5000     1.0           0     0          5        1050         910.0   \n",
       "4      8080     1.0           0     0          3        1680           0.0   \n",
       "5    101930     1.0           0     0          3        3890        1530.0   \n",
       "\n",
       "   yr_built      lat     long  grade_int  bed_bath_ratio  month_of_sale  \n",
       "1      1951  47.7210 -122.319          7        1.333333             12  \n",
       "2      1933  47.7379 -122.233          6        2.000000              2  \n",
       "3      1965  47.5208 -122.393          7        1.333333             12  \n",
       "4      1987  47.6168 -122.045          8        1.500000              2  \n",
       "5      2001  47.6561 -122.005         11        0.888889              5  "
      ]
     },
     "execution_count": 95,
     "metadata": {},
     "output_type": "execute_result"
    }
   ],
   "source": [
    "df = month_of_sale_feature(df)\n",
    "df.head()"
   ]
  },
  {
   "cell_type": "code",
   "execution_count": 96,
   "metadata": {},
   "outputs": [],
   "source": [
    "def quarter(month):  \n",
    "    if 1<=month<=3:                                \n",
    "        quarter = 'Q1'\n",
    "    elif 4 <= month <= 6:     \n",
    "        quarter  = 'Q2'          \n",
    "    elif 7 <= month <= 9:        \n",
    "         quarter = 'Q3'        \n",
    "    else:            \n",
    "        quarter = 'Q4'  \n",
    "        \n",
    "    return quarter\n",
    "     "
   ]
  },
  {
   "cell_type": "code",
   "execution_count": 97,
   "metadata": {},
   "outputs": [
    {
     "data": {
      "text/html": [
       "<div>\n",
       "<style scoped>\n",
       "    .dataframe tbody tr th:only-of-type {\n",
       "        vertical-align: middle;\n",
       "    }\n",
       "\n",
       "    .dataframe tbody tr th {\n",
       "        vertical-align: top;\n",
       "    }\n",
       "\n",
       "    .dataframe thead th {\n",
       "        text-align: right;\n",
       "    }\n",
       "</style>\n",
       "<table border=\"1\" class=\"dataframe\">\n",
       "  <thead>\n",
       "    <tr style=\"text-align: right;\">\n",
       "      <th></th>\n",
       "      <th>id</th>\n",
       "      <th>date</th>\n",
       "      <th>price</th>\n",
       "      <th>bedrooms</th>\n",
       "      <th>bathrooms</th>\n",
       "      <th>sqft_living</th>\n",
       "      <th>sqft_lot</th>\n",
       "      <th>floors</th>\n",
       "      <th>waterfront</th>\n",
       "      <th>view</th>\n",
       "      <th>condition</th>\n",
       "      <th>sqft_above</th>\n",
       "      <th>sqft_basement</th>\n",
       "      <th>yr_built</th>\n",
       "      <th>lat</th>\n",
       "      <th>long</th>\n",
       "      <th>grade_int</th>\n",
       "      <th>bed_bath_ratio</th>\n",
       "      <th>month_of_sale</th>\n",
       "      <th>quarter_of_sale</th>\n",
       "    </tr>\n",
       "  </thead>\n",
       "  <tbody>\n",
       "    <tr>\n",
       "      <th>1</th>\n",
       "      <td>6414100192</td>\n",
       "      <td>2014-12-09</td>\n",
       "      <td>538000.0</td>\n",
       "      <td>3</td>\n",
       "      <td>2.25</td>\n",
       "      <td>2570</td>\n",
       "      <td>7242</td>\n",
       "      <td>2.0</td>\n",
       "      <td>0</td>\n",
       "      <td>0</td>\n",
       "      <td>3</td>\n",
       "      <td>2170</td>\n",
       "      <td>400.0</td>\n",
       "      <td>1951</td>\n",
       "      <td>47.7210</td>\n",
       "      <td>-122.319</td>\n",
       "      <td>7</td>\n",
       "      <td>1.333333</td>\n",
       "      <td>12</td>\n",
       "      <td>Q4</td>\n",
       "    </tr>\n",
       "    <tr>\n",
       "      <th>2</th>\n",
       "      <td>5631500400</td>\n",
       "      <td>2015-02-25</td>\n",
       "      <td>180000.0</td>\n",
       "      <td>2</td>\n",
       "      <td>1.00</td>\n",
       "      <td>770</td>\n",
       "      <td>10000</td>\n",
       "      <td>1.0</td>\n",
       "      <td>0</td>\n",
       "      <td>0</td>\n",
       "      <td>3</td>\n",
       "      <td>770</td>\n",
       "      <td>0.0</td>\n",
       "      <td>1933</td>\n",
       "      <td>47.7379</td>\n",
       "      <td>-122.233</td>\n",
       "      <td>6</td>\n",
       "      <td>2.000000</td>\n",
       "      <td>2</td>\n",
       "      <td>Q1</td>\n",
       "    </tr>\n",
       "    <tr>\n",
       "      <th>3</th>\n",
       "      <td>2487200875</td>\n",
       "      <td>2014-12-09</td>\n",
       "      <td>604000.0</td>\n",
       "      <td>4</td>\n",
       "      <td>3.00</td>\n",
       "      <td>1960</td>\n",
       "      <td>5000</td>\n",
       "      <td>1.0</td>\n",
       "      <td>0</td>\n",
       "      <td>0</td>\n",
       "      <td>5</td>\n",
       "      <td>1050</td>\n",
       "      <td>910.0</td>\n",
       "      <td>1965</td>\n",
       "      <td>47.5208</td>\n",
       "      <td>-122.393</td>\n",
       "      <td>7</td>\n",
       "      <td>1.333333</td>\n",
       "      <td>12</td>\n",
       "      <td>Q4</td>\n",
       "    </tr>\n",
       "    <tr>\n",
       "      <th>4</th>\n",
       "      <td>1954400510</td>\n",
       "      <td>2015-02-18</td>\n",
       "      <td>510000.0</td>\n",
       "      <td>3</td>\n",
       "      <td>2.00</td>\n",
       "      <td>1680</td>\n",
       "      <td>8080</td>\n",
       "      <td>1.0</td>\n",
       "      <td>0</td>\n",
       "      <td>0</td>\n",
       "      <td>3</td>\n",
       "      <td>1680</td>\n",
       "      <td>0.0</td>\n",
       "      <td>1987</td>\n",
       "      <td>47.6168</td>\n",
       "      <td>-122.045</td>\n",
       "      <td>8</td>\n",
       "      <td>1.500000</td>\n",
       "      <td>2</td>\n",
       "      <td>Q1</td>\n",
       "    </tr>\n",
       "    <tr>\n",
       "      <th>5</th>\n",
       "      <td>7237550310</td>\n",
       "      <td>2014-05-12</td>\n",
       "      <td>1230000.0</td>\n",
       "      <td>4</td>\n",
       "      <td>4.50</td>\n",
       "      <td>5420</td>\n",
       "      <td>101930</td>\n",
       "      <td>1.0</td>\n",
       "      <td>0</td>\n",
       "      <td>0</td>\n",
       "      <td>3</td>\n",
       "      <td>3890</td>\n",
       "      <td>1530.0</td>\n",
       "      <td>2001</td>\n",
       "      <td>47.6561</td>\n",
       "      <td>-122.005</td>\n",
       "      <td>11</td>\n",
       "      <td>0.888889</td>\n",
       "      <td>5</td>\n",
       "      <td>Q2</td>\n",
       "    </tr>\n",
       "  </tbody>\n",
       "</table>\n",
       "</div>"
      ],
      "text/plain": [
       "           id       date      price  bedrooms  bathrooms  sqft_living  \\\n",
       "1  6414100192 2014-12-09   538000.0         3       2.25         2570   \n",
       "2  5631500400 2015-02-25   180000.0         2       1.00          770   \n",
       "3  2487200875 2014-12-09   604000.0         4       3.00         1960   \n",
       "4  1954400510 2015-02-18   510000.0         3       2.00         1680   \n",
       "5  7237550310 2014-05-12  1230000.0         4       4.50         5420   \n",
       "\n",
       "   sqft_lot  floors  waterfront  view  condition  sqft_above sqft_basement  \\\n",
       "1      7242     2.0           0     0          3        2170         400.0   \n",
       "2     10000     1.0           0     0          3         770           0.0   \n",
       "3      5000     1.0           0     0          5        1050         910.0   \n",
       "4      8080     1.0           0     0          3        1680           0.0   \n",
       "5    101930     1.0           0     0          3        3890        1530.0   \n",
       "\n",
       "   yr_built      lat     long  grade_int  bed_bath_ratio  month_of_sale  \\\n",
       "1      1951  47.7210 -122.319          7        1.333333             12   \n",
       "2      1933  47.7379 -122.233          6        2.000000              2   \n",
       "3      1965  47.5208 -122.393          7        1.333333             12   \n",
       "4      1987  47.6168 -122.045          8        1.500000              2   \n",
       "5      2001  47.6561 -122.005         11        0.888889              5   \n",
       "\n",
       "  quarter_of_sale  \n",
       "1              Q4  \n",
       "2              Q1  \n",
       "3              Q4  \n",
       "4              Q1  \n",
       "5              Q2  "
      ]
     },
     "execution_count": 97,
     "metadata": {},
     "output_type": "execute_result"
    }
   ],
   "source": [
    "df['quarter_of_sale'] = df['month_of_sale'].apply(quarter)\n",
    "df.head()"
   ]
  },
  {
   "cell_type": "code",
   "execution_count": 98,
   "metadata": {},
   "outputs": [
    {
     "data": {
      "image/png": "[encoded data removed]",
      "text/plain": [
       "<Figure size 432x288 with 1 Axes>"
      ]
     },
     "metadata": {
      "needs_background": "light"
     },
     "output_type": "display_data"
    }
   ],
   "source": [
    "categories = df['quarter_of_sale']\n",
    "values = df['price']\n",
    "\n",
    "# # Create a bar plot\n",
    "# plt.figure(figsize=(15,7)) #Set the figure size\n",
    "# plt.bar(categories, values, color='skyblue')\n",
    "\n",
    "sorted_data = sorted(zip(categories, values), key=lambda x: x[1], reverse=True)\n",
    "genres, values = zip(*sorted_data)\n",
    "\n",
    "# Create the bar graph\n",
    "plt.bar(categories, values)\n",
    "\n",
    "# Add labels and title\n",
    "plt.xlabel('Quarter_of_sale')\n",
    "plt.ylabel('Price')\n",
    "plt.title('Bar Plot Quartes vs Price')\n",
    "\n",
    "\n",
    "# Display the bar plot\n",
    "plt.show()"
   ]
  },
  {
   "cell_type": "code",
   "execution_count": 99,
   "metadata": {},
   "outputs": [],
   "source": [
    "import statsmodels \n",
    "from statsmodels.formula.api import ols\n",
    "y = df['price']\n",
    "# x = df['sqft_living', 'bathrooms', 'sqft_above', 'bedrooms']\n",
    "model = ols(formula='price ~ sqft_living + view + grade_int + condition + yr_built + lat + bed_bath_ratio + month_of_sale', data=df).fit()"
   ]
  },
  {
   "cell_type": "code",
   "execution_count": 100,
   "metadata": {},
   "outputs": [
    {
     "name": "stdout",
     "output_type": "stream",
     "text": [
      "                            OLS Regression Results                            \n",
      "==============================================================================\n",
      "Dep. Variable:                  price   R-squared:                       0.670\n",
      "Model:                            OLS   Adj. R-squared:                  0.670\n",
      "Method:                 Least Squares   F-statistic:                     4822.\n",
      "Date:                Tue, 24 Oct 2023   Prob (F-statistic):               0.00\n",
      "Time:                        18:33:34   Log-Likelihood:            -2.6050e+05\n",
      "No. Observations:               19030   AIC:                         5.210e+05\n",
      "Df Residuals:                   19021   BIC:                         5.211e+05\n",
      "Df Model:                           8                                         \n",
      "Covariance Type:            nonrobust                                         \n",
      "==================================================================================\n",
      "                     coef    std err          t      P>|t|      [0.025      0.975]\n",
      "----------------------------------------------------------------------------------\n",
      "Intercept      -2.242e+07      6e+05    -37.391      0.000   -2.36e+07   -2.12e+07\n",
      "sqft_living      172.3731      2.639     65.323      0.000     167.201     177.545\n",
      "view            7.995e+04   2160.700     37.000      0.000    7.57e+04    8.42e+04\n",
      "grade_int       1.124e+05   2234.046     50.301      0.000    1.08e+05    1.17e+05\n",
      "condition       2.372e+04   2571.104      9.225      0.000    1.87e+04    2.88e+04\n",
      "yr_built       -2587.7756     68.881    -37.569      0.000   -2722.789   -2452.762\n",
      "lat             5.635e+05   1.16e+04     48.518      0.000    5.41e+05    5.86e+05\n",
      "bed_bath_ratio -2.304e+04   2702.759     -8.524      0.000   -2.83e+04   -1.77e+04\n",
      "month_of_sale  -2560.4244    496.175     -5.160      0.000   -3532.972   -1587.877\n",
      "==============================================================================\n",
      "Omnibus:                    17439.774   Durbin-Watson:                   1.995\n",
      "Prob(Omnibus):                  0.000   Jarque-Bera (JB):          1976417.527\n",
      "Skew:                           4.011   Prob(JB):                         0.00\n",
      "Kurtosis:                      52.277   Cond. No.                     1.15e+06\n",
      "==============================================================================\n",
      "\n",
      "Notes:\n",
      "[1] Standard Errors assume that the covariance matrix of the errors is correctly specified.\n",
      "[2] The condition number is large, 1.15e+06. This might indicate that there are\n",
      "strong multicollinearity or other numerical problems.\n"
     ]
    }
   ],
   "source": [
    "print(model.summary())"
   ]
  },
  {
   "cell_type": "code",
   "execution_count": 101,
   "metadata": {},
   "outputs": [
    {
     "name": "stdout",
     "output_type": "stream",
     "text": [
      "number of test samples : 3806\n",
      "number of training samples: 15224\n"
     ]
    }
   ],
   "source": [
    "from sklearn.model_selection import train_test_split\n",
    "\n",
    "X = df.drop(['price'], axis=1)\n",
    "y = df['price']\n",
    "X_train, X_test, y_train, y_test = train_test_split(X, y, test_size=0.2, random_state=42)\n",
    "print(\"number of test samples :\", X_test.shape[0])\n",
    "print(\"number of training samples:\",X_train.shape[0])"
   ]
  },
  {
   "cell_type": "code",
   "execution_count": null,
   "metadata": {},
   "outputs": [],
   "source": []
  }
 ],
 "metadata": {
  "kernelspec": {
   "display_name": "Python 3",
   "language": "python",
   "name": "python3"
  },
  "language_info": {
   "codemirror_mode": {
    "name": "ipython",
    "version": 3
   },
   "file_extension": ".py",
   "mimetype": "text/x-python",
   "name": "python",
   "nbconvert_exporter": "python",
   "pygments_lexer": "ipython3",
   "version": "3.8.5"
  }
 },
 "nbformat": 4,
 "nbformat_minor": 2
}
